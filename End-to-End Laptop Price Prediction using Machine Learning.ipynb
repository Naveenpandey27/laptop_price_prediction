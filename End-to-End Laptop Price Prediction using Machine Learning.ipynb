{
 "cells": [
  {
   "cell_type": "code",
   "execution_count": 1,
   "id": "32e92d5d",
   "metadata": {},
   "outputs": [],
   "source": [
    "import numpy as np\n",
    "import pandas as pd\n",
    "import seaborn as sns\n",
    "import matplotlib.pyplot as plt"
   ]
  },
  {
   "cell_type": "code",
   "execution_count": 2,
   "id": "3ae7f51a",
   "metadata": {},
   "outputs": [
    {
     "data": {
      "text/html": [
       "<div>\n",
       "<style scoped>\n",
       "    .dataframe tbody tr th:only-of-type {\n",
       "        vertical-align: middle;\n",
       "    }\n",
       "\n",
       "    .dataframe tbody tr th {\n",
       "        vertical-align: top;\n",
       "    }\n",
       "\n",
       "    .dataframe thead th {\n",
       "        text-align: right;\n",
       "    }\n",
       "</style>\n",
       "<table border=\"1\" class=\"dataframe\">\n",
       "  <thead>\n",
       "    <tr style=\"text-align: right;\">\n",
       "      <th></th>\n",
       "      <th>Unnamed: 0</th>\n",
       "      <th>Company</th>\n",
       "      <th>TypeName</th>\n",
       "      <th>Inches</th>\n",
       "      <th>ScreenResolution</th>\n",
       "      <th>Cpu</th>\n",
       "      <th>Ram</th>\n",
       "      <th>Memory</th>\n",
       "      <th>Gpu</th>\n",
       "      <th>OpSys</th>\n",
       "      <th>Weight</th>\n",
       "      <th>Price</th>\n",
       "    </tr>\n",
       "  </thead>\n",
       "  <tbody>\n",
       "    <tr>\n",
       "      <th>0</th>\n",
       "      <td>0</td>\n",
       "      <td>Apple</td>\n",
       "      <td>Ultrabook</td>\n",
       "      <td>13.3</td>\n",
       "      <td>IPS Panel Retina Display 2560x1600</td>\n",
       "      <td>Intel Core i5 2.3GHz</td>\n",
       "      <td>8GB</td>\n",
       "      <td>128GB SSD</td>\n",
       "      <td>Intel Iris Plus Graphics 640</td>\n",
       "      <td>macOS</td>\n",
       "      <td>1.37kg</td>\n",
       "      <td>71378.6832</td>\n",
       "    </tr>\n",
       "    <tr>\n",
       "      <th>1</th>\n",
       "      <td>1</td>\n",
       "      <td>Apple</td>\n",
       "      <td>Ultrabook</td>\n",
       "      <td>13.3</td>\n",
       "      <td>1440x900</td>\n",
       "      <td>Intel Core i5 1.8GHz</td>\n",
       "      <td>8GB</td>\n",
       "      <td>128GB Flash Storage</td>\n",
       "      <td>Intel HD Graphics 6000</td>\n",
       "      <td>macOS</td>\n",
       "      <td>1.34kg</td>\n",
       "      <td>47895.5232</td>\n",
       "    </tr>\n",
       "    <tr>\n",
       "      <th>2</th>\n",
       "      <td>2</td>\n",
       "      <td>HP</td>\n",
       "      <td>Notebook</td>\n",
       "      <td>15.6</td>\n",
       "      <td>Full HD 1920x1080</td>\n",
       "      <td>Intel Core i5 7200U 2.5GHz</td>\n",
       "      <td>8GB</td>\n",
       "      <td>256GB SSD</td>\n",
       "      <td>Intel HD Graphics 620</td>\n",
       "      <td>No OS</td>\n",
       "      <td>1.86kg</td>\n",
       "      <td>30636.0000</td>\n",
       "    </tr>\n",
       "    <tr>\n",
       "      <th>3</th>\n",
       "      <td>3</td>\n",
       "      <td>Apple</td>\n",
       "      <td>Ultrabook</td>\n",
       "      <td>15.4</td>\n",
       "      <td>IPS Panel Retina Display 2880x1800</td>\n",
       "      <td>Intel Core i7 2.7GHz</td>\n",
       "      <td>16GB</td>\n",
       "      <td>512GB SSD</td>\n",
       "      <td>AMD Radeon Pro 455</td>\n",
       "      <td>macOS</td>\n",
       "      <td>1.83kg</td>\n",
       "      <td>135195.3360</td>\n",
       "    </tr>\n",
       "    <tr>\n",
       "      <th>4</th>\n",
       "      <td>4</td>\n",
       "      <td>Apple</td>\n",
       "      <td>Ultrabook</td>\n",
       "      <td>13.3</td>\n",
       "      <td>IPS Panel Retina Display 2560x1600</td>\n",
       "      <td>Intel Core i5 3.1GHz</td>\n",
       "      <td>8GB</td>\n",
       "      <td>256GB SSD</td>\n",
       "      <td>Intel Iris Plus Graphics 650</td>\n",
       "      <td>macOS</td>\n",
       "      <td>1.37kg</td>\n",
       "      <td>96095.8080</td>\n",
       "    </tr>\n",
       "  </tbody>\n",
       "</table>\n",
       "</div>"
      ],
      "text/plain": [
       "   Unnamed: 0 Company   TypeName  Inches                    ScreenResolution  \\\n",
       "0           0   Apple  Ultrabook    13.3  IPS Panel Retina Display 2560x1600   \n",
       "1           1   Apple  Ultrabook    13.3                            1440x900   \n",
       "2           2      HP   Notebook    15.6                   Full HD 1920x1080   \n",
       "3           3   Apple  Ultrabook    15.4  IPS Panel Retina Display 2880x1800   \n",
       "4           4   Apple  Ultrabook    13.3  IPS Panel Retina Display 2560x1600   \n",
       "\n",
       "                          Cpu   Ram               Memory  \\\n",
       "0        Intel Core i5 2.3GHz   8GB            128GB SSD   \n",
       "1        Intel Core i5 1.8GHz   8GB  128GB Flash Storage   \n",
       "2  Intel Core i5 7200U 2.5GHz   8GB            256GB SSD   \n",
       "3        Intel Core i7 2.7GHz  16GB            512GB SSD   \n",
       "4        Intel Core i5 3.1GHz   8GB            256GB SSD   \n",
       "\n",
       "                            Gpu  OpSys  Weight        Price  \n",
       "0  Intel Iris Plus Graphics 640  macOS  1.37kg   71378.6832  \n",
       "1        Intel HD Graphics 6000  macOS  1.34kg   47895.5232  \n",
       "2         Intel HD Graphics 620  No OS  1.86kg   30636.0000  \n",
       "3            AMD Radeon Pro 455  macOS  1.83kg  135195.3360  \n",
       "4  Intel Iris Plus Graphics 650  macOS  1.37kg   96095.8080  "
      ]
     },
     "execution_count": 2,
     "metadata": {},
     "output_type": "execute_result"
    }
   ],
   "source": [
    "df = pd.read_csv('laptop_data.csv')\n",
    "df.head()"
   ]
  },
  {
   "cell_type": "code",
   "execution_count": 3,
   "id": "b6d3b6dd",
   "metadata": {},
   "outputs": [
    {
     "data": {
      "text/plain": [
       "(1303, 12)"
      ]
     },
     "execution_count": 3,
     "metadata": {},
     "output_type": "execute_result"
    }
   ],
   "source": [
    "df.shape"
   ]
  },
  {
   "cell_type": "code",
   "execution_count": 4,
   "id": "e8a3b91d",
   "metadata": {},
   "outputs": [
    {
     "name": "stdout",
     "output_type": "stream",
     "text": [
      "<class 'pandas.core.frame.DataFrame'>\n",
      "RangeIndex: 1303 entries, 0 to 1302\n",
      "Data columns (total 12 columns):\n",
      " #   Column            Non-Null Count  Dtype  \n",
      "---  ------            --------------  -----  \n",
      " 0   Unnamed: 0        1303 non-null   int64  \n",
      " 1   Company           1303 non-null   object \n",
      " 2   TypeName          1303 non-null   object \n",
      " 3   Inches            1303 non-null   float64\n",
      " 4   ScreenResolution  1303 non-null   object \n",
      " 5   Cpu               1303 non-null   object \n",
      " 6   Ram               1303 non-null   object \n",
      " 7   Memory            1303 non-null   object \n",
      " 8   Gpu               1303 non-null   object \n",
      " 9   OpSys             1303 non-null   object \n",
      " 10  Weight            1303 non-null   object \n",
      " 11  Price             1303 non-null   float64\n",
      "dtypes: float64(2), int64(1), object(9)\n",
      "memory usage: 122.3+ KB\n"
     ]
    }
   ],
   "source": [
    "df.info()"
   ]
  },
  {
   "cell_type": "code",
   "execution_count": 5,
   "id": "f036066f",
   "metadata": {},
   "outputs": [
    {
     "data": {
      "text/plain": [
       "0"
      ]
     },
     "execution_count": 5,
     "metadata": {},
     "output_type": "execute_result"
    }
   ],
   "source": [
    "df.duplicated().sum()"
   ]
  },
  {
   "cell_type": "code",
   "execution_count": 6,
   "id": "48f52ffe",
   "metadata": {},
   "outputs": [
    {
     "data": {
      "text/plain": [
       "Unnamed: 0          0\n",
       "Company             0\n",
       "TypeName            0\n",
       "Inches              0\n",
       "ScreenResolution    0\n",
       "Cpu                 0\n",
       "Ram                 0\n",
       "Memory              0\n",
       "Gpu                 0\n",
       "OpSys               0\n",
       "Weight              0\n",
       "Price               0\n",
       "dtype: int64"
      ]
     },
     "execution_count": 6,
     "metadata": {},
     "output_type": "execute_result"
    }
   ],
   "source": [
    "df.isnull().sum()"
   ]
  },
  {
   "cell_type": "code",
   "execution_count": 7,
   "id": "dc53ca50",
   "metadata": {},
   "outputs": [],
   "source": [
    "df.drop(columns = ['Unnamed: 0'], inplace = True)"
   ]
  },
  {
   "cell_type": "code",
   "execution_count": 8,
   "id": "3a2d1341",
   "metadata": {},
   "outputs": [
    {
     "data": {
      "text/html": [
       "<div>\n",
       "<style scoped>\n",
       "    .dataframe tbody tr th:only-of-type {\n",
       "        vertical-align: middle;\n",
       "    }\n",
       "\n",
       "    .dataframe tbody tr th {\n",
       "        vertical-align: top;\n",
       "    }\n",
       "\n",
       "    .dataframe thead th {\n",
       "        text-align: right;\n",
       "    }\n",
       "</style>\n",
       "<table border=\"1\" class=\"dataframe\">\n",
       "  <thead>\n",
       "    <tr style=\"text-align: right;\">\n",
       "      <th></th>\n",
       "      <th>Company</th>\n",
       "      <th>TypeName</th>\n",
       "      <th>Inches</th>\n",
       "      <th>ScreenResolution</th>\n",
       "      <th>Cpu</th>\n",
       "      <th>Ram</th>\n",
       "      <th>Memory</th>\n",
       "      <th>Gpu</th>\n",
       "      <th>OpSys</th>\n",
       "      <th>Weight</th>\n",
       "      <th>Price</th>\n",
       "    </tr>\n",
       "  </thead>\n",
       "  <tbody>\n",
       "    <tr>\n",
       "      <th>0</th>\n",
       "      <td>Apple</td>\n",
       "      <td>Ultrabook</td>\n",
       "      <td>13.3</td>\n",
       "      <td>IPS Panel Retina Display 2560x1600</td>\n",
       "      <td>Intel Core i5 2.3GHz</td>\n",
       "      <td>8GB</td>\n",
       "      <td>128GB SSD</td>\n",
       "      <td>Intel Iris Plus Graphics 640</td>\n",
       "      <td>macOS</td>\n",
       "      <td>1.37kg</td>\n",
       "      <td>71378.6832</td>\n",
       "    </tr>\n",
       "    <tr>\n",
       "      <th>1</th>\n",
       "      <td>Apple</td>\n",
       "      <td>Ultrabook</td>\n",
       "      <td>13.3</td>\n",
       "      <td>1440x900</td>\n",
       "      <td>Intel Core i5 1.8GHz</td>\n",
       "      <td>8GB</td>\n",
       "      <td>128GB Flash Storage</td>\n",
       "      <td>Intel HD Graphics 6000</td>\n",
       "      <td>macOS</td>\n",
       "      <td>1.34kg</td>\n",
       "      <td>47895.5232</td>\n",
       "    </tr>\n",
       "    <tr>\n",
       "      <th>2</th>\n",
       "      <td>HP</td>\n",
       "      <td>Notebook</td>\n",
       "      <td>15.6</td>\n",
       "      <td>Full HD 1920x1080</td>\n",
       "      <td>Intel Core i5 7200U 2.5GHz</td>\n",
       "      <td>8GB</td>\n",
       "      <td>256GB SSD</td>\n",
       "      <td>Intel HD Graphics 620</td>\n",
       "      <td>No OS</td>\n",
       "      <td>1.86kg</td>\n",
       "      <td>30636.0000</td>\n",
       "    </tr>\n",
       "    <tr>\n",
       "      <th>3</th>\n",
       "      <td>Apple</td>\n",
       "      <td>Ultrabook</td>\n",
       "      <td>15.4</td>\n",
       "      <td>IPS Panel Retina Display 2880x1800</td>\n",
       "      <td>Intel Core i7 2.7GHz</td>\n",
       "      <td>16GB</td>\n",
       "      <td>512GB SSD</td>\n",
       "      <td>AMD Radeon Pro 455</td>\n",
       "      <td>macOS</td>\n",
       "      <td>1.83kg</td>\n",
       "      <td>135195.3360</td>\n",
       "    </tr>\n",
       "    <tr>\n",
       "      <th>4</th>\n",
       "      <td>Apple</td>\n",
       "      <td>Ultrabook</td>\n",
       "      <td>13.3</td>\n",
       "      <td>IPS Panel Retina Display 2560x1600</td>\n",
       "      <td>Intel Core i5 3.1GHz</td>\n",
       "      <td>8GB</td>\n",
       "      <td>256GB SSD</td>\n",
       "      <td>Intel Iris Plus Graphics 650</td>\n",
       "      <td>macOS</td>\n",
       "      <td>1.37kg</td>\n",
       "      <td>96095.8080</td>\n",
       "    </tr>\n",
       "  </tbody>\n",
       "</table>\n",
       "</div>"
      ],
      "text/plain": [
       "  Company   TypeName  Inches                    ScreenResolution  \\\n",
       "0   Apple  Ultrabook    13.3  IPS Panel Retina Display 2560x1600   \n",
       "1   Apple  Ultrabook    13.3                            1440x900   \n",
       "2      HP   Notebook    15.6                   Full HD 1920x1080   \n",
       "3   Apple  Ultrabook    15.4  IPS Panel Retina Display 2880x1800   \n",
       "4   Apple  Ultrabook    13.3  IPS Panel Retina Display 2560x1600   \n",
       "\n",
       "                          Cpu   Ram               Memory  \\\n",
       "0        Intel Core i5 2.3GHz   8GB            128GB SSD   \n",
       "1        Intel Core i5 1.8GHz   8GB  128GB Flash Storage   \n",
       "2  Intel Core i5 7200U 2.5GHz   8GB            256GB SSD   \n",
       "3        Intel Core i7 2.7GHz  16GB            512GB SSD   \n",
       "4        Intel Core i5 3.1GHz   8GB            256GB SSD   \n",
       "\n",
       "                            Gpu  OpSys  Weight        Price  \n",
       "0  Intel Iris Plus Graphics 640  macOS  1.37kg   71378.6832  \n",
       "1        Intel HD Graphics 6000  macOS  1.34kg   47895.5232  \n",
       "2         Intel HD Graphics 620  No OS  1.86kg   30636.0000  \n",
       "3            AMD Radeon Pro 455  macOS  1.83kg  135195.3360  \n",
       "4  Intel Iris Plus Graphics 650  macOS  1.37kg   96095.8080  "
      ]
     },
     "execution_count": 8,
     "metadata": {},
     "output_type": "execute_result"
    }
   ],
   "source": [
    "df.head()"
   ]
  },
  {
   "cell_type": "code",
   "execution_count": 9,
   "id": "2070db9b",
   "metadata": {},
   "outputs": [],
   "source": [
    "df['Ram'] = df['Ram'].str.replace('GB', '')\n",
    "df['Weight'] = df['Weight'].str.replace('kg', '')"
   ]
  },
  {
   "cell_type": "code",
   "execution_count": 10,
   "id": "2daea28d",
   "metadata": {},
   "outputs": [
    {
     "data": {
      "text/html": [
       "<div>\n",
       "<style scoped>\n",
       "    .dataframe tbody tr th:only-of-type {\n",
       "        vertical-align: middle;\n",
       "    }\n",
       "\n",
       "    .dataframe tbody tr th {\n",
       "        vertical-align: top;\n",
       "    }\n",
       "\n",
       "    .dataframe thead th {\n",
       "        text-align: right;\n",
       "    }\n",
       "</style>\n",
       "<table border=\"1\" class=\"dataframe\">\n",
       "  <thead>\n",
       "    <tr style=\"text-align: right;\">\n",
       "      <th></th>\n",
       "      <th>Company</th>\n",
       "      <th>TypeName</th>\n",
       "      <th>Inches</th>\n",
       "      <th>ScreenResolution</th>\n",
       "      <th>Cpu</th>\n",
       "      <th>Ram</th>\n",
       "      <th>Memory</th>\n",
       "      <th>Gpu</th>\n",
       "      <th>OpSys</th>\n",
       "      <th>Weight</th>\n",
       "      <th>Price</th>\n",
       "    </tr>\n",
       "  </thead>\n",
       "  <tbody>\n",
       "    <tr>\n",
       "      <th>0</th>\n",
       "      <td>Apple</td>\n",
       "      <td>Ultrabook</td>\n",
       "      <td>13.3</td>\n",
       "      <td>IPS Panel Retina Display 2560x1600</td>\n",
       "      <td>Intel Core i5 2.3GHz</td>\n",
       "      <td>8</td>\n",
       "      <td>128GB SSD</td>\n",
       "      <td>Intel Iris Plus Graphics 640</td>\n",
       "      <td>macOS</td>\n",
       "      <td>1.37</td>\n",
       "      <td>71378.6832</td>\n",
       "    </tr>\n",
       "    <tr>\n",
       "      <th>1</th>\n",
       "      <td>Apple</td>\n",
       "      <td>Ultrabook</td>\n",
       "      <td>13.3</td>\n",
       "      <td>1440x900</td>\n",
       "      <td>Intel Core i5 1.8GHz</td>\n",
       "      <td>8</td>\n",
       "      <td>128GB Flash Storage</td>\n",
       "      <td>Intel HD Graphics 6000</td>\n",
       "      <td>macOS</td>\n",
       "      <td>1.34</td>\n",
       "      <td>47895.5232</td>\n",
       "    </tr>\n",
       "    <tr>\n",
       "      <th>2</th>\n",
       "      <td>HP</td>\n",
       "      <td>Notebook</td>\n",
       "      <td>15.6</td>\n",
       "      <td>Full HD 1920x1080</td>\n",
       "      <td>Intel Core i5 7200U 2.5GHz</td>\n",
       "      <td>8</td>\n",
       "      <td>256GB SSD</td>\n",
       "      <td>Intel HD Graphics 620</td>\n",
       "      <td>No OS</td>\n",
       "      <td>1.86</td>\n",
       "      <td>30636.0000</td>\n",
       "    </tr>\n",
       "    <tr>\n",
       "      <th>3</th>\n",
       "      <td>Apple</td>\n",
       "      <td>Ultrabook</td>\n",
       "      <td>15.4</td>\n",
       "      <td>IPS Panel Retina Display 2880x1800</td>\n",
       "      <td>Intel Core i7 2.7GHz</td>\n",
       "      <td>16</td>\n",
       "      <td>512GB SSD</td>\n",
       "      <td>AMD Radeon Pro 455</td>\n",
       "      <td>macOS</td>\n",
       "      <td>1.83</td>\n",
       "      <td>135195.3360</td>\n",
       "    </tr>\n",
       "    <tr>\n",
       "      <th>4</th>\n",
       "      <td>Apple</td>\n",
       "      <td>Ultrabook</td>\n",
       "      <td>13.3</td>\n",
       "      <td>IPS Panel Retina Display 2560x1600</td>\n",
       "      <td>Intel Core i5 3.1GHz</td>\n",
       "      <td>8</td>\n",
       "      <td>256GB SSD</td>\n",
       "      <td>Intel Iris Plus Graphics 650</td>\n",
       "      <td>macOS</td>\n",
       "      <td>1.37</td>\n",
       "      <td>96095.8080</td>\n",
       "    </tr>\n",
       "  </tbody>\n",
       "</table>\n",
       "</div>"
      ],
      "text/plain": [
       "  Company   TypeName  Inches                    ScreenResolution  \\\n",
       "0   Apple  Ultrabook    13.3  IPS Panel Retina Display 2560x1600   \n",
       "1   Apple  Ultrabook    13.3                            1440x900   \n",
       "2      HP   Notebook    15.6                   Full HD 1920x1080   \n",
       "3   Apple  Ultrabook    15.4  IPS Panel Retina Display 2880x1800   \n",
       "4   Apple  Ultrabook    13.3  IPS Panel Retina Display 2560x1600   \n",
       "\n",
       "                          Cpu Ram               Memory  \\\n",
       "0        Intel Core i5 2.3GHz   8            128GB SSD   \n",
       "1        Intel Core i5 1.8GHz   8  128GB Flash Storage   \n",
       "2  Intel Core i5 7200U 2.5GHz   8            256GB SSD   \n",
       "3        Intel Core i7 2.7GHz  16            512GB SSD   \n",
       "4        Intel Core i5 3.1GHz   8            256GB SSD   \n",
       "\n",
       "                            Gpu  OpSys Weight        Price  \n",
       "0  Intel Iris Plus Graphics 640  macOS   1.37   71378.6832  \n",
       "1        Intel HD Graphics 6000  macOS   1.34   47895.5232  \n",
       "2         Intel HD Graphics 620  No OS   1.86   30636.0000  \n",
       "3            AMD Radeon Pro 455  macOS   1.83  135195.3360  \n",
       "4  Intel Iris Plus Graphics 650  macOS   1.37   96095.8080  "
      ]
     },
     "execution_count": 10,
     "metadata": {},
     "output_type": "execute_result"
    }
   ],
   "source": [
    "df.head()"
   ]
  },
  {
   "cell_type": "code",
   "execution_count": 11,
   "id": "eaff6c83",
   "metadata": {},
   "outputs": [],
   "source": [
    "df['Ram'] = df['Ram'].astype('int32')\n",
    "df['Weight'] = df['Weight'].astype('float32')"
   ]
  },
  {
   "cell_type": "code",
   "execution_count": 12,
   "id": "cb365740",
   "metadata": {},
   "outputs": [
    {
     "name": "stdout",
     "output_type": "stream",
     "text": [
      "<class 'pandas.core.frame.DataFrame'>\n",
      "RangeIndex: 1303 entries, 0 to 1302\n",
      "Data columns (total 11 columns):\n",
      " #   Column            Non-Null Count  Dtype  \n",
      "---  ------            --------------  -----  \n",
      " 0   Company           1303 non-null   object \n",
      " 1   TypeName          1303 non-null   object \n",
      " 2   Inches            1303 non-null   float64\n",
      " 3   ScreenResolution  1303 non-null   object \n",
      " 4   Cpu               1303 non-null   object \n",
      " 5   Ram               1303 non-null   int32  \n",
      " 6   Memory            1303 non-null   object \n",
      " 7   Gpu               1303 non-null   object \n",
      " 8   OpSys             1303 non-null   object \n",
      " 9   Weight            1303 non-null   float32\n",
      " 10  Price             1303 non-null   float64\n",
      "dtypes: float32(1), float64(2), int32(1), object(7)\n",
      "memory usage: 101.9+ KB\n"
     ]
    }
   ],
   "source": [
    "df.info()"
   ]
  },
  {
   "cell_type": "code",
   "execution_count": 13,
   "id": "d483cb0a",
   "metadata": {},
   "outputs": [
    {
     "data": {
      "text/plain": [
       "<seaborn.axisgrid.FacetGrid at 0x218be906880>"
      ]
     },
     "execution_count": 13,
     "metadata": {},
     "output_type": "execute_result"
    },
    {
     "data": {
      "image/png": "[encoded data removed]",
      "text/plain": [
       "<Figure size 360x360 with 1 Axes>"
      ]
     },
     "metadata": {
      "needs_background": "light"
     },
     "output_type": "display_data"
    }
   ],
   "source": [
    "sns.displot(df['Price'])"
   ]
  },
  {
   "cell_type": "code",
   "execution_count": 14,
   "id": "212a6f25",
   "metadata": {},
   "outputs": [
    {
     "data": {
      "text/plain": [
       "<AxesSubplot:>"
      ]
     },
     "execution_count": 14,
     "metadata": {},
     "output_type": "execute_result"
    },
    {
     "data": {
      "image/png": "[encoded data removed]",
      "text/plain": [
       "<Figure size 576x360 with 1 Axes>"
      ]
     },
     "metadata": {
      "needs_background": "light"
     },
     "output_type": "display_data"
    }
   ],
   "source": [
    "plt.figure(figsize = [8, 5])\n",
    "df['Company'].value_counts().plot(kind = 'bar')"
   ]
  },
  {
   "cell_type": "code",
   "execution_count": 15,
   "id": "2fb8a683",
   "metadata": {},
   "outputs": [
    {
     "data": {
      "image/png": "[encoded data removed]",
      "text/plain": [
       "<Figure size 576x360 with 1 Axes>"
      ]
     },
     "metadata": {
      "needs_background": "light"
     },
     "output_type": "display_data"
    }
   ],
   "source": [
    "plt.figure(figsize = [8, 5])\n",
    "sns.barplot(x = df['Company'], y = df['Price'])\n",
    "plt.xticks(rotation = 'vertical')\n",
    "plt.show()"
   ]
  },
  {
   "cell_type": "code",
   "execution_count": 16,
   "id": "e6979c08",
   "metadata": {},
   "outputs": [
    {
     "data": {
      "text/plain": [
       "<AxesSubplot:>"
      ]
     },
     "execution_count": 16,
     "metadata": {},
     "output_type": "execute_result"
    },
    {
     "data": {
      "image/png": "[encoded data removed]",
      "text/plain": [
       "<Figure size 576x360 with 1 Axes>"
      ]
     },
     "metadata": {
      "needs_background": "light"
     },
     "output_type": "display_data"
    }
   ],
   "source": [
    "plt.figure(figsize = [8, 5])\n",
    "df['TypeName'].value_counts().plot(kind = 'bar')"
   ]
  },
  {
   "cell_type": "code",
   "execution_count": 17,
   "id": "ee5b8961",
   "metadata": {},
   "outputs": [
    {
     "data": {
      "image/png": "[encoded data removed]",
      "text/plain": [
       "<Figure size 576x360 with 1 Axes>"
      ]
     },
     "metadata": {
      "needs_background": "light"
     },
     "output_type": "display_data"
    }
   ],
   "source": [
    "plt.figure(figsize = [8, 5])\n",
    "sns.barplot(x = df['TypeName'], y = df['Price'])\n",
    "plt.xticks(rotation = 'vertical')\n",
    "plt.show()"
   ]
  },
  {
   "cell_type": "code",
   "execution_count": 18,
   "id": "a739ec9b",
   "metadata": {},
   "outputs": [
    {
     "data": {
      "text/plain": [
       "<seaborn.axisgrid.FacetGrid at 0x1380d5697f0>"
      ]
     },
     "execution_count": 18,
     "metadata": {},
     "output_type": "execute_result"
    },
    {
     "data": {
      "image/png": "[encoded data removed]",
      "text/plain": [
       "<Figure size 360x360 with 1 Axes>"
      ]
     },
     "metadata": {
      "needs_background": "light"
     },
     "output_type": "display_data"
    }
   ],
   "source": [
    "sns.displot(df['Inches'])"
   ]
  },
  {
   "cell_type": "code",
   "execution_count": 19,
   "id": "ffd1c626",
   "metadata": {},
   "outputs": [
    {
     "data": {
      "text/plain": [
       "<AxesSubplot:xlabel='Inches', ylabel='Price'>"
      ]
     },
     "execution_count": 19,
     "metadata": {},
     "output_type": "execute_result"
    },
    {
     "data": {
      "image/png": "[encoded data removed]",
      "text/plain": [
       "<Figure size 576x360 with 1 Axes>"
      ]
     },
     "metadata": {
      "needs_background": "light"
     },
     "output_type": "display_data"
    }
   ],
   "source": [
    "plt.figure(figsize = [8, 5])\n",
    "sns.scatterplot(x = df['Inches'], y = df['Price'])"
   ]
  },
  {
   "cell_type": "code",
   "execution_count": 20,
   "id": "919f33f6",
   "metadata": {},
   "outputs": [],
   "source": [
    "df['TouchScreen'] = df['ScreenResolution'].apply(lambda x:1 if 'Touchscreen' in x else 0)"
   ]
  },
  {
   "cell_type": "code",
   "execution_count": 21,
   "id": "2d2e8823",
   "metadata": {},
   "outputs": [
    {
     "data": {
      "text/plain": [
       "<AxesSubplot:>"
      ]
     },
     "execution_count": 21,
     "metadata": {},
     "output_type": "execute_result"
    },
    {
     "data": {
      "image/png": "[encoded data removed]",
      "text/plain": [
       "<Figure size 432x288 with 1 Axes>"
      ]
     },
     "metadata": {
      "needs_background": "light"
     },
     "output_type": "display_data"
    }
   ],
   "source": [
    "df['TouchScreen'].value_counts().plot(kind = 'bar')"
   ]
  },
  {
   "cell_type": "code",
   "execution_count": 22,
   "id": "f326e799",
   "metadata": {},
   "outputs": [
    {
     "data": {
      "text/plain": [
       "0    1111\n",
       "1     192\n",
       "Name: TouchScreen, dtype: int64"
      ]
     },
     "execution_count": 22,
     "metadata": {},
     "output_type": "execute_result"
    }
   ],
   "source": [
    "df['TouchScreen'].value_counts()"
   ]
  },
  {
   "cell_type": "code",
   "execution_count": 23,
   "id": "ef2b4397",
   "metadata": {},
   "outputs": [
    {
     "data": {
      "text/plain": [
       "<AxesSubplot:xlabel='TouchScreen', ylabel='Price'>"
      ]
     },
     "execution_count": 23,
     "metadata": {},
     "output_type": "execute_result"
    },
    {
     "data": {
      "image/png": "[encoded data removed]",
      "text/plain": [
       "<Figure size 432x288 with 1 Axes>"
      ]
     },
     "metadata": {
      "needs_background": "light"
     },
     "output_type": "display_data"
    }
   ],
   "source": [
    "sns.barplot(x = df['TouchScreen'], y = df['Price'])"
   ]
  },
  {
   "cell_type": "code",
   "execution_count": 24,
   "id": "12125d1a",
   "metadata": {},
   "outputs": [],
   "source": [
    "df['Ips'] = df['ScreenResolution'].apply(lambda x:1 if 'IPS' in x else 0)"
   ]
  },
  {
   "cell_type": "code",
   "execution_count": 25,
   "id": "4d020833",
   "metadata": {},
   "outputs": [
    {
     "data": {
      "text/plain": [
       "<AxesSubplot:xlabel='Ips', ylabel='Price'>"
      ]
     },
     "execution_count": 25,
     "metadata": {},
     "output_type": "execute_result"
    },
    {
     "data": {
      "image/png": "[encoded data removed]",
      "text/plain": [
       "<Figure size 432x288 with 1 Axes>"
      ]
     },
     "metadata": {
      "needs_background": "light"
     },
     "output_type": "display_data"
    }
   ],
   "source": [
    "sns.barplot(x = df['Ips'], y = df['Price'])"
   ]
  },
  {
   "cell_type": "code",
   "execution_count": 26,
   "id": "aae52668",
   "metadata": {},
   "outputs": [],
   "source": [
    "temp = df['ScreenResolution'].str.split('x', n = 1, expand = True)"
   ]
  },
  {
   "cell_type": "code",
   "execution_count": 27,
   "id": "a56bbff0",
   "metadata": {},
   "outputs": [],
   "source": [
    "df['X_res'] = temp[0]\n",
    "df['Y_res'] = temp[1]"
   ]
  },
  {
   "cell_type": "code",
   "execution_count": 28,
   "id": "6a334e31",
   "metadata": {},
   "outputs": [
    {
     "data": {
      "text/html": [
       "<div>\n",
       "<style scoped>\n",
       "    .dataframe tbody tr th:only-of-type {\n",
       "        vertical-align: middle;\n",
       "    }\n",
       "\n",
       "    .dataframe tbody tr th {\n",
       "        vertical-align: top;\n",
       "    }\n",
       "\n",
       "    .dataframe thead th {\n",
       "        text-align: right;\n",
       "    }\n",
       "</style>\n",
       "<table border=\"1\" class=\"dataframe\">\n",
       "  <thead>\n",
       "    <tr style=\"text-align: right;\">\n",
       "      <th></th>\n",
       "      <th>Company</th>\n",
       "      <th>TypeName</th>\n",
       "      <th>Inches</th>\n",
       "      <th>ScreenResolution</th>\n",
       "      <th>Cpu</th>\n",
       "      <th>Ram</th>\n",
       "      <th>Memory</th>\n",
       "      <th>Gpu</th>\n",
       "      <th>OpSys</th>\n",
       "      <th>Weight</th>\n",
       "      <th>Price</th>\n",
       "      <th>TouchScreen</th>\n",
       "      <th>Ips</th>\n",
       "      <th>X_res</th>\n",
       "      <th>Y_res</th>\n",
       "    </tr>\n",
       "  </thead>\n",
       "  <tbody>\n",
       "    <tr>\n",
       "      <th>0</th>\n",
       "      <td>Apple</td>\n",
       "      <td>Ultrabook</td>\n",
       "      <td>13.3</td>\n",
       "      <td>IPS Panel Retina Display 2560x1600</td>\n",
       "      <td>Intel Core i5 2.3GHz</td>\n",
       "      <td>8</td>\n",
       "      <td>128GB SSD</td>\n",
       "      <td>Intel Iris Plus Graphics 640</td>\n",
       "      <td>macOS</td>\n",
       "      <td>1.37</td>\n",
       "      <td>71378.6832</td>\n",
       "      <td>0</td>\n",
       "      <td>1</td>\n",
       "      <td>IPS Panel Retina Display 2560</td>\n",
       "      <td>1600</td>\n",
       "    </tr>\n",
       "    <tr>\n",
       "      <th>1</th>\n",
       "      <td>Apple</td>\n",
       "      <td>Ultrabook</td>\n",
       "      <td>13.3</td>\n",
       "      <td>1440x900</td>\n",
       "      <td>Intel Core i5 1.8GHz</td>\n",
       "      <td>8</td>\n",
       "      <td>128GB Flash Storage</td>\n",
       "      <td>Intel HD Graphics 6000</td>\n",
       "      <td>macOS</td>\n",
       "      <td>1.34</td>\n",
       "      <td>47895.5232</td>\n",
       "      <td>0</td>\n",
       "      <td>0</td>\n",
       "      <td>1440</td>\n",
       "      <td>900</td>\n",
       "    </tr>\n",
       "    <tr>\n",
       "      <th>2</th>\n",
       "      <td>HP</td>\n",
       "      <td>Notebook</td>\n",
       "      <td>15.6</td>\n",
       "      <td>Full HD 1920x1080</td>\n",
       "      <td>Intel Core i5 7200U 2.5GHz</td>\n",
       "      <td>8</td>\n",
       "      <td>256GB SSD</td>\n",
       "      <td>Intel HD Graphics 620</td>\n",
       "      <td>No OS</td>\n",
       "      <td>1.86</td>\n",
       "      <td>30636.0000</td>\n",
       "      <td>0</td>\n",
       "      <td>0</td>\n",
       "      <td>Full HD 1920</td>\n",
       "      <td>1080</td>\n",
       "    </tr>\n",
       "    <tr>\n",
       "      <th>3</th>\n",
       "      <td>Apple</td>\n",
       "      <td>Ultrabook</td>\n",
       "      <td>15.4</td>\n",
       "      <td>IPS Panel Retina Display 2880x1800</td>\n",
       "      <td>Intel Core i7 2.7GHz</td>\n",
       "      <td>16</td>\n",
       "      <td>512GB SSD</td>\n",
       "      <td>AMD Radeon Pro 455</td>\n",
       "      <td>macOS</td>\n",
       "      <td>1.83</td>\n",
       "      <td>135195.3360</td>\n",
       "      <td>0</td>\n",
       "      <td>1</td>\n",
       "      <td>IPS Panel Retina Display 2880</td>\n",
       "      <td>1800</td>\n",
       "    </tr>\n",
       "    <tr>\n",
       "      <th>4</th>\n",
       "      <td>Apple</td>\n",
       "      <td>Ultrabook</td>\n",
       "      <td>13.3</td>\n",
       "      <td>IPS Panel Retina Display 2560x1600</td>\n",
       "      <td>Intel Core i5 3.1GHz</td>\n",
       "      <td>8</td>\n",
       "      <td>256GB SSD</td>\n",
       "      <td>Intel Iris Plus Graphics 650</td>\n",
       "      <td>macOS</td>\n",
       "      <td>1.37</td>\n",
       "      <td>96095.8080</td>\n",
       "      <td>0</td>\n",
       "      <td>1</td>\n",
       "      <td>IPS Panel Retina Display 2560</td>\n",
       "      <td>1600</td>\n",
       "    </tr>\n",
       "  </tbody>\n",
       "</table>\n",
       "</div>"
      ],
      "text/plain": [
       "  Company   TypeName  Inches                    ScreenResolution  \\\n",
       "0   Apple  Ultrabook    13.3  IPS Panel Retina Display 2560x1600   \n",
       "1   Apple  Ultrabook    13.3                            1440x900   \n",
       "2      HP   Notebook    15.6                   Full HD 1920x1080   \n",
       "3   Apple  Ultrabook    15.4  IPS Panel Retina Display 2880x1800   \n",
       "4   Apple  Ultrabook    13.3  IPS Panel Retina Display 2560x1600   \n",
       "\n",
       "                          Cpu  Ram               Memory  \\\n",
       "0        Intel Core i5 2.3GHz    8            128GB SSD   \n",
       "1        Intel Core i5 1.8GHz    8  128GB Flash Storage   \n",
       "2  Intel Core i5 7200U 2.5GHz    8            256GB SSD   \n",
       "3        Intel Core i7 2.7GHz   16            512GB SSD   \n",
       "4        Intel Core i5 3.1GHz    8            256GB SSD   \n",
       "\n",
       "                            Gpu  OpSys  Weight        Price  TouchScreen  Ips  \\\n",
       "0  Intel Iris Plus Graphics 640  macOS    1.37   71378.6832            0    1   \n",
       "1        Intel HD Graphics 6000  macOS    1.34   47895.5232            0    0   \n",
       "2         Intel HD Graphics 620  No OS    1.86   30636.0000            0    0   \n",
       "3            AMD Radeon Pro 455  macOS    1.83  135195.3360            0    1   \n",
       "4  Intel Iris Plus Graphics 650  macOS    1.37   96095.8080            0    1   \n",
       "\n",
       "                           X_res Y_res  \n",
       "0  IPS Panel Retina Display 2560  1600  \n",
       "1                           1440   900  \n",
       "2                   Full HD 1920  1080  \n",
       "3  IPS Panel Retina Display 2880  1800  \n",
       "4  IPS Panel Retina Display 2560  1600  "
      ]
     },
     "execution_count": 28,
     "metadata": {},
     "output_type": "execute_result"
    }
   ],
   "source": [
    "df.head()"
   ]
  },
  {
   "cell_type": "code",
   "execution_count": 29,
   "id": "8591871d",
   "metadata": {},
   "outputs": [],
   "source": [
    "df['X_res'] = df['X_res'].str.replace(',','').str.findall(r'(\\d+\\.?\\d+)').apply(lambda x:x[0])"
   ]
  },
  {
   "cell_type": "code",
   "execution_count": 30,
   "id": "aa8aa974",
   "metadata": {},
   "outputs": [],
   "source": [
    "df['X_res'] = df['X_res'].astype('int')\n",
    "df['Y_res'] = df['Y_res'].astype('int')"
   ]
  },
  {
   "cell_type": "code",
   "execution_count": 31,
   "id": "027d0901",
   "metadata": {},
   "outputs": [],
   "source": [
    "df['ppi'] = (((df['X_res']**2) + (df['Y_res']**2))**0.5/df['Inches']).astype('float')"
   ]
  },
  {
   "cell_type": "code",
   "execution_count": 32,
   "id": "84596c44",
   "metadata": {},
   "outputs": [],
   "source": [
    "df.drop(columns=['ScreenResolution'],inplace=True)"
   ]
  },
  {
   "cell_type": "code",
   "execution_count": 33,
   "id": "ec6e6623",
   "metadata": {},
   "outputs": [],
   "source": [
    "df.drop(columns=['Inches','X_res','Y_res'],inplace=True)"
   ]
  },
  {
   "cell_type": "code",
   "execution_count": 34,
   "id": "970fe1a5",
   "metadata": {},
   "outputs": [
    {
     "data": {
      "text/html": [
       "<div>\n",
       "<style scoped>\n",
       "    .dataframe tbody tr th:only-of-type {\n",
       "        vertical-align: middle;\n",
       "    }\n",
       "\n",
       "    .dataframe tbody tr th {\n",
       "        vertical-align: top;\n",
       "    }\n",
       "\n",
       "    .dataframe thead th {\n",
       "        text-align: right;\n",
       "    }\n",
       "</style>\n",
       "<table border=\"1\" class=\"dataframe\">\n",
       "  <thead>\n",
       "    <tr style=\"text-align: right;\">\n",
       "      <th></th>\n",
       "      <th>Company</th>\n",
       "      <th>TypeName</th>\n",
       "      <th>Cpu</th>\n",
       "      <th>Ram</th>\n",
       "      <th>Memory</th>\n",
       "      <th>Gpu</th>\n",
       "      <th>OpSys</th>\n",
       "      <th>Weight</th>\n",
       "      <th>Price</th>\n",
       "      <th>TouchScreen</th>\n",
       "      <th>Ips</th>\n",
       "      <th>ppi</th>\n",
       "    </tr>\n",
       "  </thead>\n",
       "  <tbody>\n",
       "    <tr>\n",
       "      <th>0</th>\n",
       "      <td>Apple</td>\n",
       "      <td>Ultrabook</td>\n",
       "      <td>Intel Core i5 2.3GHz</td>\n",
       "      <td>8</td>\n",
       "      <td>128GB SSD</td>\n",
       "      <td>Intel Iris Plus Graphics 640</td>\n",
       "      <td>macOS</td>\n",
       "      <td>1.37</td>\n",
       "      <td>71378.6832</td>\n",
       "      <td>0</td>\n",
       "      <td>1</td>\n",
       "      <td>226.983005</td>\n",
       "    </tr>\n",
       "    <tr>\n",
       "      <th>1</th>\n",
       "      <td>Apple</td>\n",
       "      <td>Ultrabook</td>\n",
       "      <td>Intel Core i5 1.8GHz</td>\n",
       "      <td>8</td>\n",
       "      <td>128GB Flash Storage</td>\n",
       "      <td>Intel HD Graphics 6000</td>\n",
       "      <td>macOS</td>\n",
       "      <td>1.34</td>\n",
       "      <td>47895.5232</td>\n",
       "      <td>0</td>\n",
       "      <td>0</td>\n",
       "      <td>127.677940</td>\n",
       "    </tr>\n",
       "    <tr>\n",
       "      <th>2</th>\n",
       "      <td>HP</td>\n",
       "      <td>Notebook</td>\n",
       "      <td>Intel Core i5 7200U 2.5GHz</td>\n",
       "      <td>8</td>\n",
       "      <td>256GB SSD</td>\n",
       "      <td>Intel HD Graphics 620</td>\n",
       "      <td>No OS</td>\n",
       "      <td>1.86</td>\n",
       "      <td>30636.0000</td>\n",
       "      <td>0</td>\n",
       "      <td>0</td>\n",
       "      <td>141.211998</td>\n",
       "    </tr>\n",
       "    <tr>\n",
       "      <th>3</th>\n",
       "      <td>Apple</td>\n",
       "      <td>Ultrabook</td>\n",
       "      <td>Intel Core i7 2.7GHz</td>\n",
       "      <td>16</td>\n",
       "      <td>512GB SSD</td>\n",
       "      <td>AMD Radeon Pro 455</td>\n",
       "      <td>macOS</td>\n",
       "      <td>1.83</td>\n",
       "      <td>135195.3360</td>\n",
       "      <td>0</td>\n",
       "      <td>1</td>\n",
       "      <td>220.534624</td>\n",
       "    </tr>\n",
       "    <tr>\n",
       "      <th>4</th>\n",
       "      <td>Apple</td>\n",
       "      <td>Ultrabook</td>\n",
       "      <td>Intel Core i5 3.1GHz</td>\n",
       "      <td>8</td>\n",
       "      <td>256GB SSD</td>\n",
       "      <td>Intel Iris Plus Graphics 650</td>\n",
       "      <td>macOS</td>\n",
       "      <td>1.37</td>\n",
       "      <td>96095.8080</td>\n",
       "      <td>0</td>\n",
       "      <td>1</td>\n",
       "      <td>226.983005</td>\n",
       "    </tr>\n",
       "  </tbody>\n",
       "</table>\n",
       "</div>"
      ],
      "text/plain": [
       "  Company   TypeName                         Cpu  Ram               Memory  \\\n",
       "0   Apple  Ultrabook        Intel Core i5 2.3GHz    8            128GB SSD   \n",
       "1   Apple  Ultrabook        Intel Core i5 1.8GHz    8  128GB Flash Storage   \n",
       "2      HP   Notebook  Intel Core i5 7200U 2.5GHz    8            256GB SSD   \n",
       "3   Apple  Ultrabook        Intel Core i7 2.7GHz   16            512GB SSD   \n",
       "4   Apple  Ultrabook        Intel Core i5 3.1GHz    8            256GB SSD   \n",
       "\n",
       "                            Gpu  OpSys  Weight        Price  TouchScreen  Ips  \\\n",
       "0  Intel Iris Plus Graphics 640  macOS    1.37   71378.6832            0    1   \n",
       "1        Intel HD Graphics 6000  macOS    1.34   47895.5232            0    0   \n",
       "2         Intel HD Graphics 620  No OS    1.86   30636.0000            0    0   \n",
       "3            AMD Radeon Pro 455  macOS    1.83  135195.3360            0    1   \n",
       "4  Intel Iris Plus Graphics 650  macOS    1.37   96095.8080            0    1   \n",
       "\n",
       "          ppi  \n",
       "0  226.983005  \n",
       "1  127.677940  \n",
       "2  141.211998  \n",
       "3  220.534624  \n",
       "4  226.983005  "
      ]
     },
     "execution_count": 34,
     "metadata": {},
     "output_type": "execute_result"
    }
   ],
   "source": [
    "df.head()"
   ]
  },
  {
   "cell_type": "code",
   "execution_count": 35,
   "id": "cb7c9f32",
   "metadata": {},
   "outputs": [
    {
     "data": {
      "text/plain": [
       "Intel Core i5 7200U 2.5GHz     190\n",
       "Intel Core i7 7700HQ 2.8GHz    146\n",
       "Intel Core i7 7500U 2.7GHz     134\n",
       "Intel Core i7 8550U 1.8GHz      73\n",
       "Intel Core i5 8250U 1.6GHz      72\n",
       "Name: Cpu, dtype: int64"
      ]
     },
     "execution_count": 35,
     "metadata": {},
     "output_type": "execute_result"
    }
   ],
   "source": [
    "df['Cpu'].value_counts().head()"
   ]
  },
  {
   "cell_type": "code",
   "execution_count": 38,
   "id": "086fb2ac",
   "metadata": {},
   "outputs": [],
   "source": [
    "df['Cpu Name'] = df['Cpu'].apply(lambda x:\" \".join(x.split()[0:3]))"
   ]
  },
  {
   "cell_type": "code",
   "execution_count": 39,
   "id": "2784ec89",
   "metadata": {},
   "outputs": [
    {
     "data": {
      "text/html": [
       "<div>\n",
       "<style scoped>\n",
       "    .dataframe tbody tr th:only-of-type {\n",
       "        vertical-align: middle;\n",
       "    }\n",
       "\n",
       "    .dataframe tbody tr th {\n",
       "        vertical-align: top;\n",
       "    }\n",
       "\n",
       "    .dataframe thead th {\n",
       "        text-align: right;\n",
       "    }\n",
       "</style>\n",
       "<table border=\"1\" class=\"dataframe\">\n",
       "  <thead>\n",
       "    <tr style=\"text-align: right;\">\n",
       "      <th></th>\n",
       "      <th>Company</th>\n",
       "      <th>TypeName</th>\n",
       "      <th>Cpu</th>\n",
       "      <th>Ram</th>\n",
       "      <th>Memory</th>\n",
       "      <th>Gpu</th>\n",
       "      <th>OpSys</th>\n",
       "      <th>Weight</th>\n",
       "      <th>Price</th>\n",
       "      <th>TouchScreen</th>\n",
       "      <th>Ips</th>\n",
       "      <th>ppi</th>\n",
       "      <th>Cpu Name</th>\n",
       "    </tr>\n",
       "  </thead>\n",
       "  <tbody>\n",
       "    <tr>\n",
       "      <th>0</th>\n",
       "      <td>Apple</td>\n",
       "      <td>Ultrabook</td>\n",
       "      <td>Intel Core i5 2.3GHz</td>\n",
       "      <td>8</td>\n",
       "      <td>128GB SSD</td>\n",
       "      <td>Intel Iris Plus Graphics 640</td>\n",
       "      <td>macOS</td>\n",
       "      <td>1.37</td>\n",
       "      <td>71378.6832</td>\n",
       "      <td>0</td>\n",
       "      <td>1</td>\n",
       "      <td>226.983005</td>\n",
       "      <td>Intel Core i5</td>\n",
       "    </tr>\n",
       "    <tr>\n",
       "      <th>1</th>\n",
       "      <td>Apple</td>\n",
       "      <td>Ultrabook</td>\n",
       "      <td>Intel Core i5 1.8GHz</td>\n",
       "      <td>8</td>\n",
       "      <td>128GB Flash Storage</td>\n",
       "      <td>Intel HD Graphics 6000</td>\n",
       "      <td>macOS</td>\n",
       "      <td>1.34</td>\n",
       "      <td>47895.5232</td>\n",
       "      <td>0</td>\n",
       "      <td>0</td>\n",
       "      <td>127.677940</td>\n",
       "      <td>Intel Core i5</td>\n",
       "    </tr>\n",
       "    <tr>\n",
       "      <th>2</th>\n",
       "      <td>HP</td>\n",
       "      <td>Notebook</td>\n",
       "      <td>Intel Core i5 7200U 2.5GHz</td>\n",
       "      <td>8</td>\n",
       "      <td>256GB SSD</td>\n",
       "      <td>Intel HD Graphics 620</td>\n",
       "      <td>No OS</td>\n",
       "      <td>1.86</td>\n",
       "      <td>30636.0000</td>\n",
       "      <td>0</td>\n",
       "      <td>0</td>\n",
       "      <td>141.211998</td>\n",
       "      <td>Intel Core i5</td>\n",
       "    </tr>\n",
       "    <tr>\n",
       "      <th>3</th>\n",
       "      <td>Apple</td>\n",
       "      <td>Ultrabook</td>\n",
       "      <td>Intel Core i7 2.7GHz</td>\n",
       "      <td>16</td>\n",
       "      <td>512GB SSD</td>\n",
       "      <td>AMD Radeon Pro 455</td>\n",
       "      <td>macOS</td>\n",
       "      <td>1.83</td>\n",
       "      <td>135195.3360</td>\n",
       "      <td>0</td>\n",
       "      <td>1</td>\n",
       "      <td>220.534624</td>\n",
       "      <td>Intel Core i7</td>\n",
       "    </tr>\n",
       "    <tr>\n",
       "      <th>4</th>\n",
       "      <td>Apple</td>\n",
       "      <td>Ultrabook</td>\n",
       "      <td>Intel Core i5 3.1GHz</td>\n",
       "      <td>8</td>\n",
       "      <td>256GB SSD</td>\n",
       "      <td>Intel Iris Plus Graphics 650</td>\n",
       "      <td>macOS</td>\n",
       "      <td>1.37</td>\n",
       "      <td>96095.8080</td>\n",
       "      <td>0</td>\n",
       "      <td>1</td>\n",
       "      <td>226.983005</td>\n",
       "      <td>Intel Core i5</td>\n",
       "    </tr>\n",
       "  </tbody>\n",
       "</table>\n",
       "</div>"
      ],
      "text/plain": [
       "  Company   TypeName                         Cpu  Ram               Memory  \\\n",
       "0   Apple  Ultrabook        Intel Core i5 2.3GHz    8            128GB SSD   \n",
       "1   Apple  Ultrabook        Intel Core i5 1.8GHz    8  128GB Flash Storage   \n",
       "2      HP   Notebook  Intel Core i5 7200U 2.5GHz    8            256GB SSD   \n",
       "3   Apple  Ultrabook        Intel Core i7 2.7GHz   16            512GB SSD   \n",
       "4   Apple  Ultrabook        Intel Core i5 3.1GHz    8            256GB SSD   \n",
       "\n",
       "                            Gpu  OpSys  Weight        Price  TouchScreen  Ips  \\\n",
       "0  Intel Iris Plus Graphics 640  macOS    1.37   71378.6832            0    1   \n",
       "1        Intel HD Graphics 6000  macOS    1.34   47895.5232            0    0   \n",
       "2         Intel HD Graphics 620  No OS    1.86   30636.0000            0    0   \n",
       "3            AMD Radeon Pro 455  macOS    1.83  135195.3360            0    1   \n",
       "4  Intel Iris Plus Graphics 650  macOS    1.37   96095.8080            0    1   \n",
       "\n",
       "          ppi       Cpu Name  \n",
       "0  226.983005  Intel Core i5  \n",
       "1  127.677940  Intel Core i5  \n",
       "2  141.211998  Intel Core i5  \n",
       "3  220.534624  Intel Core i7  \n",
       "4  226.983005  Intel Core i5  "
      ]
     },
     "execution_count": 39,
     "metadata": {},
     "output_type": "execute_result"
    }
   ],
   "source": [
    "df.head()"
   ]
  },
  {
   "cell_type": "code",
   "execution_count": 40,
   "id": "805a5231",
   "metadata": {},
   "outputs": [],
   "source": [
    "def fetch_processor(text):\n",
    "    if text == 'Intel Core i7' or text == 'Intel Core i5' or text == 'Intel Core i3':\n",
    "        return text\n",
    "    else:\n",
    "        if text.split()[0] == 'Intel':\n",
    "            return 'Other Intel Processor'\n",
    "        else:\n",
    "            return 'AMD Processor'"
   ]
  },
  {
   "cell_type": "code",
   "execution_count": 41,
   "id": "d21b94a9",
   "metadata": {},
   "outputs": [],
   "source": [
    "df['Cpu brand'] = df['Cpu Name'].apply(fetch_processor)"
   ]
  },
  {
   "cell_type": "code",
   "execution_count": 42,
   "id": "b595ddbd",
   "metadata": {},
   "outputs": [
    {
     "data": {
      "text/plain": [
       "<AxesSubplot:>"
      ]
     },
     "execution_count": 42,
     "metadata": {},
     "output_type": "execute_result"
    },
    {
     "data": {
      "image/png": "[encoded data removed]",
      "text/plain": [
       "<Figure size 432x288 with 1 Axes>"
      ]
     },
     "metadata": {
      "needs_background": "light"
     },
     "output_type": "display_data"
    }
   ],
   "source": [
    "df['Cpu brand'].value_counts().plot(kind='bar')"
   ]
  },
  {
   "cell_type": "code",
   "execution_count": 43,
   "id": "05b6011e",
   "metadata": {},
   "outputs": [
    {
     "data": {
      "image/png": "[encoded data removed]",
      "text/plain": [
       "<Figure size 432x288 with 1 Axes>"
      ]
     },
     "metadata": {
      "needs_background": "light"
     },
     "output_type": "display_data"
    }
   ],
   "source": [
    "sns.barplot(x=df['Cpu brand'],y=df['Price'])\n",
    "plt.xticks(rotation='vertical')\n",
    "plt.show()"
   ]
  },
  {
   "cell_type": "code",
   "execution_count": 44,
   "id": "5d42067a",
   "metadata": {},
   "outputs": [],
   "source": [
    "df.drop(columns=['Cpu','Cpu Name'],inplace=True)"
   ]
  },
  {
   "cell_type": "code",
   "execution_count": 45,
   "id": "fea43186",
   "metadata": {},
   "outputs": [
    {
     "data": {
      "text/html": [
       "<div>\n",
       "<style scoped>\n",
       "    .dataframe tbody tr th:only-of-type {\n",
       "        vertical-align: middle;\n",
       "    }\n",
       "\n",
       "    .dataframe tbody tr th {\n",
       "        vertical-align: top;\n",
       "    }\n",
       "\n",
       "    .dataframe thead th {\n",
       "        text-align: right;\n",
       "    }\n",
       "</style>\n",
       "<table border=\"1\" class=\"dataframe\">\n",
       "  <thead>\n",
       "    <tr style=\"text-align: right;\">\n",
       "      <th></th>\n",
       "      <th>Company</th>\n",
       "      <th>TypeName</th>\n",
       "      <th>Ram</th>\n",
       "      <th>Memory</th>\n",
       "      <th>Gpu</th>\n",
       "      <th>OpSys</th>\n",
       "      <th>Weight</th>\n",
       "      <th>Price</th>\n",
       "      <th>TouchScreen</th>\n",
       "      <th>Ips</th>\n",
       "      <th>ppi</th>\n",
       "      <th>Cpu brand</th>\n",
       "    </tr>\n",
       "  </thead>\n",
       "  <tbody>\n",
       "    <tr>\n",
       "      <th>0</th>\n",
       "      <td>Apple</td>\n",
       "      <td>Ultrabook</td>\n",
       "      <td>8</td>\n",
       "      <td>128GB SSD</td>\n",
       "      <td>Intel Iris Plus Graphics 640</td>\n",
       "      <td>macOS</td>\n",
       "      <td>1.37</td>\n",
       "      <td>71378.6832</td>\n",
       "      <td>0</td>\n",
       "      <td>1</td>\n",
       "      <td>226.983005</td>\n",
       "      <td>Intel Core i5</td>\n",
       "    </tr>\n",
       "    <tr>\n",
       "      <th>1</th>\n",
       "      <td>Apple</td>\n",
       "      <td>Ultrabook</td>\n",
       "      <td>8</td>\n",
       "      <td>128GB Flash Storage</td>\n",
       "      <td>Intel HD Graphics 6000</td>\n",
       "      <td>macOS</td>\n",
       "      <td>1.34</td>\n",
       "      <td>47895.5232</td>\n",
       "      <td>0</td>\n",
       "      <td>0</td>\n",
       "      <td>127.677940</td>\n",
       "      <td>Intel Core i5</td>\n",
       "    </tr>\n",
       "    <tr>\n",
       "      <th>2</th>\n",
       "      <td>HP</td>\n",
       "      <td>Notebook</td>\n",
       "      <td>8</td>\n",
       "      <td>256GB SSD</td>\n",
       "      <td>Intel HD Graphics 620</td>\n",
       "      <td>No OS</td>\n",
       "      <td>1.86</td>\n",
       "      <td>30636.0000</td>\n",
       "      <td>0</td>\n",
       "      <td>0</td>\n",
       "      <td>141.211998</td>\n",
       "      <td>Intel Core i5</td>\n",
       "    </tr>\n",
       "    <tr>\n",
       "      <th>3</th>\n",
       "      <td>Apple</td>\n",
       "      <td>Ultrabook</td>\n",
       "      <td>16</td>\n",
       "      <td>512GB SSD</td>\n",
       "      <td>AMD Radeon Pro 455</td>\n",
       "      <td>macOS</td>\n",
       "      <td>1.83</td>\n",
       "      <td>135195.3360</td>\n",
       "      <td>0</td>\n",
       "      <td>1</td>\n",
       "      <td>220.534624</td>\n",
       "      <td>Intel Core i7</td>\n",
       "    </tr>\n",
       "    <tr>\n",
       "      <th>4</th>\n",
       "      <td>Apple</td>\n",
       "      <td>Ultrabook</td>\n",
       "      <td>8</td>\n",
       "      <td>256GB SSD</td>\n",
       "      <td>Intel Iris Plus Graphics 650</td>\n",
       "      <td>macOS</td>\n",
       "      <td>1.37</td>\n",
       "      <td>96095.8080</td>\n",
       "      <td>0</td>\n",
       "      <td>1</td>\n",
       "      <td>226.983005</td>\n",
       "      <td>Intel Core i5</td>\n",
       "    </tr>\n",
       "  </tbody>\n",
       "</table>\n",
       "</div>"
      ],
      "text/plain": [
       "  Company   TypeName  Ram               Memory                           Gpu  \\\n",
       "0   Apple  Ultrabook    8            128GB SSD  Intel Iris Plus Graphics 640   \n",
       "1   Apple  Ultrabook    8  128GB Flash Storage        Intel HD Graphics 6000   \n",
       "2      HP   Notebook    8            256GB SSD         Intel HD Graphics 620   \n",
       "3   Apple  Ultrabook   16            512GB SSD            AMD Radeon Pro 455   \n",
       "4   Apple  Ultrabook    8            256GB SSD  Intel Iris Plus Graphics 650   \n",
       "\n",
       "   OpSys  Weight        Price  TouchScreen  Ips         ppi      Cpu brand  \n",
       "0  macOS    1.37   71378.6832            0    1  226.983005  Intel Core i5  \n",
       "1  macOS    1.34   47895.5232            0    0  127.677940  Intel Core i5  \n",
       "2  No OS    1.86   30636.0000            0    0  141.211998  Intel Core i5  \n",
       "3  macOS    1.83  135195.3360            0    1  220.534624  Intel Core i7  \n",
       "4  macOS    1.37   96095.8080            0    1  226.983005  Intel Core i5  "
      ]
     },
     "execution_count": 45,
     "metadata": {},
     "output_type": "execute_result"
    }
   ],
   "source": [
    "df.head()"
   ]
  },
  {
   "cell_type": "code",
   "execution_count": 46,
   "id": "12e85e60",
   "metadata": {},
   "outputs": [
    {
     "data": {
      "text/plain": [
       "<AxesSubplot:>"
      ]
     },
     "execution_count": 46,
     "metadata": {},
     "output_type": "execute_result"
    },
    {
     "data": {
      "image/png": "[encoded data removed]",
      "text/plain": [
       "<Figure size 432x288 with 1 Axes>"
      ]
     },
     "metadata": {
      "needs_background": "light"
     },
     "output_type": "display_data"
    }
   ],
   "source": [
    "df['Ram'].value_counts().plot(kind='bar')"
   ]
  },
  {
   "cell_type": "code",
   "execution_count": 47,
   "id": "54479f93",
   "metadata": {},
   "outputs": [
    {
     "data": {
      "image/png": "[encoded data removed]",
      "text/plain": [
       "<Figure size 432x288 with 1 Axes>"
      ]
     },
     "metadata": {
      "needs_background": "light"
     },
     "output_type": "display_data"
    }
   ],
   "source": [
    "sns.barplot(x=df['Ram'],y=df['Price'])\n",
    "plt.xticks(rotation='vertical')\n",
    "plt.show()"
   ]
  },
  {
   "cell_type": "code",
   "execution_count": 48,
   "id": "b0953a48",
   "metadata": {},
   "outputs": [
    {
     "name": "stderr",
     "output_type": "stream",
     "text": [
      "C:\\Users\\navee\\AppData\\Local\\Temp/ipykernel_111696/4023190604.py:16: FutureWarning: The default value of regex will change from True to False in a future version.\n",
      "  df['first'] = df['first'].str.replace(r'\\D', '')\n",
      "C:\\Users\\navee\\AppData\\Local\\Temp/ipykernel_111696/4023190604.py:25: FutureWarning: The default value of regex will change from True to False in a future version.\n",
      "  df['second'] = df['second'].str.replace(r'\\D', '')\n"
     ]
    }
   ],
   "source": [
    "df['Memory'] = df['Memory'].astype(str).replace('\\.0', '', regex=True)\n",
    "df[\"Memory\"] = df[\"Memory\"].str.replace('GB', '')\n",
    "df[\"Memory\"] = df[\"Memory\"].str.replace('TB', '000')\n",
    "new = df[\"Memory\"].str.split(\"+\", n = 1, expand = True)\n",
    "\n",
    "df[\"first\"]= new[0]\n",
    "df[\"first\"]=df[\"first\"].str.strip()\n",
    "\n",
    "df[\"second\"]= new[1]\n",
    "\n",
    "df[\"Layer1HDD\"] = df[\"first\"].apply(lambda x: 1 if \"HDD\" in x else 0)\n",
    "df[\"Layer1SSD\"] = df[\"first\"].apply(lambda x: 1 if \"SSD\" in x else 0)\n",
    "df[\"Layer1Hybrid\"] = df[\"first\"].apply(lambda x: 1 if \"Hybrid\" in x else 0)\n",
    "df[\"Layer1Flash_Storage\"] = df[\"first\"].apply(lambda x: 1 if \"Flash Storage\" in x else 0)\n",
    "\n",
    "df['first'] = df['first'].str.replace(r'\\D', '')\n",
    "\n",
    "df[\"second\"].fillna(\"0\", inplace = True)\n",
    "\n",
    "df[\"Layer2HDD\"] = df[\"second\"].apply(lambda x: 1 if \"HDD\" in x else 0)\n",
    "df[\"Layer2SSD\"] = df[\"second\"].apply(lambda x: 1 if \"SSD\" in x else 0)\n",
    "df[\"Layer2Hybrid\"] = df[\"second\"].apply(lambda x: 1 if \"Hybrid\" in x else 0)\n",
    "df[\"Layer2Flash_Storage\"] = df[\"second\"].apply(lambda x: 1 if \"Flash Storage\" in x else 0)\n",
    "\n",
    "df['second'] = df['second'].str.replace(r'\\D', '')\n",
    "\n",
    "df[\"first\"] = df[\"first\"].astype(int)\n",
    "df[\"second\"] = df[\"second\"].astype(int)\n",
    "\n",
    "df[\"HDD\"]=(df[\"first\"]*df[\"Layer1HDD\"]+df[\"second\"]*df[\"Layer2HDD\"])\n",
    "df[\"SSD\"]=(df[\"first\"]*df[\"Layer1SSD\"]+df[\"second\"]*df[\"Layer2SSD\"])\n",
    "df[\"Hybrid\"]=(df[\"first\"]*df[\"Layer1Hybrid\"]+df[\"second\"]*df[\"Layer2Hybrid\"])\n",
    "df[\"Flash_Storage\"]=(df[\"first\"]*df[\"Layer1Flash_Storage\"]+df[\"second\"]*df[\"Layer2Flash_Storage\"])\n",
    "\n",
    "df.drop(columns=['first', 'second', 'Layer1HDD', 'Layer1SSD', 'Layer1Hybrid',\n",
    "       'Layer1Flash_Storage', 'Layer2HDD', 'Layer2SSD', 'Layer2Hybrid',\n",
    "       'Layer2Flash_Storage'],inplace=True)"
   ]
  },
  {
   "cell_type": "code",
   "execution_count": 49,
   "id": "311314e4",
   "metadata": {},
   "outputs": [],
   "source": [
    "df.drop(columns=['Memory'],inplace=True)"
   ]
  },
  {
   "cell_type": "code",
   "execution_count": 50,
   "id": "787390f4",
   "metadata": {},
   "outputs": [
    {
     "data": {
      "text/html": [
       "<div>\n",
       "<style scoped>\n",
       "    .dataframe tbody tr th:only-of-type {\n",
       "        vertical-align: middle;\n",
       "    }\n",
       "\n",
       "    .dataframe tbody tr th {\n",
       "        vertical-align: top;\n",
       "    }\n",
       "\n",
       "    .dataframe thead th {\n",
       "        text-align: right;\n",
       "    }\n",
       "</style>\n",
       "<table border=\"1\" class=\"dataframe\">\n",
       "  <thead>\n",
       "    <tr style=\"text-align: right;\">\n",
       "      <th></th>\n",
       "      <th>Company</th>\n",
       "      <th>TypeName</th>\n",
       "      <th>Ram</th>\n",
       "      <th>Gpu</th>\n",
       "      <th>OpSys</th>\n",
       "      <th>Weight</th>\n",
       "      <th>Price</th>\n",
       "      <th>TouchScreen</th>\n",
       "      <th>Ips</th>\n",
       "      <th>ppi</th>\n",
       "      <th>Cpu brand</th>\n",
       "      <th>HDD</th>\n",
       "      <th>SSD</th>\n",
       "      <th>Hybrid</th>\n",
       "      <th>Flash_Storage</th>\n",
       "    </tr>\n",
       "  </thead>\n",
       "  <tbody>\n",
       "    <tr>\n",
       "      <th>0</th>\n",
       "      <td>Apple</td>\n",
       "      <td>Ultrabook</td>\n",
       "      <td>8</td>\n",
       "      <td>Intel Iris Plus Graphics 640</td>\n",
       "      <td>macOS</td>\n",
       "      <td>1.37</td>\n",
       "      <td>71378.6832</td>\n",
       "      <td>0</td>\n",
       "      <td>1</td>\n",
       "      <td>226.983005</td>\n",
       "      <td>Intel Core i5</td>\n",
       "      <td>0</td>\n",
       "      <td>128</td>\n",
       "      <td>0</td>\n",
       "      <td>0</td>\n",
       "    </tr>\n",
       "    <tr>\n",
       "      <th>1</th>\n",
       "      <td>Apple</td>\n",
       "      <td>Ultrabook</td>\n",
       "      <td>8</td>\n",
       "      <td>Intel HD Graphics 6000</td>\n",
       "      <td>macOS</td>\n",
       "      <td>1.34</td>\n",
       "      <td>47895.5232</td>\n",
       "      <td>0</td>\n",
       "      <td>0</td>\n",
       "      <td>127.677940</td>\n",
       "      <td>Intel Core i5</td>\n",
       "      <td>0</td>\n",
       "      <td>0</td>\n",
       "      <td>0</td>\n",
       "      <td>128</td>\n",
       "    </tr>\n",
       "    <tr>\n",
       "      <th>2</th>\n",
       "      <td>HP</td>\n",
       "      <td>Notebook</td>\n",
       "      <td>8</td>\n",
       "      <td>Intel HD Graphics 620</td>\n",
       "      <td>No OS</td>\n",
       "      <td>1.86</td>\n",
       "      <td>30636.0000</td>\n",
       "      <td>0</td>\n",
       "      <td>0</td>\n",
       "      <td>141.211998</td>\n",
       "      <td>Intel Core i5</td>\n",
       "      <td>0</td>\n",
       "      <td>256</td>\n",
       "      <td>0</td>\n",
       "      <td>0</td>\n",
       "    </tr>\n",
       "    <tr>\n",
       "      <th>3</th>\n",
       "      <td>Apple</td>\n",
       "      <td>Ultrabook</td>\n",
       "      <td>16</td>\n",
       "      <td>AMD Radeon Pro 455</td>\n",
       "      <td>macOS</td>\n",
       "      <td>1.83</td>\n",
       "      <td>135195.3360</td>\n",
       "      <td>0</td>\n",
       "      <td>1</td>\n",
       "      <td>220.534624</td>\n",
       "      <td>Intel Core i7</td>\n",
       "      <td>0</td>\n",
       "      <td>512</td>\n",
       "      <td>0</td>\n",
       "      <td>0</td>\n",
       "    </tr>\n",
       "    <tr>\n",
       "      <th>4</th>\n",
       "      <td>Apple</td>\n",
       "      <td>Ultrabook</td>\n",
       "      <td>8</td>\n",
       "      <td>Intel Iris Plus Graphics 650</td>\n",
       "      <td>macOS</td>\n",
       "      <td>1.37</td>\n",
       "      <td>96095.8080</td>\n",
       "      <td>0</td>\n",
       "      <td>1</td>\n",
       "      <td>226.983005</td>\n",
       "      <td>Intel Core i5</td>\n",
       "      <td>0</td>\n",
       "      <td>256</td>\n",
       "      <td>0</td>\n",
       "      <td>0</td>\n",
       "    </tr>\n",
       "  </tbody>\n",
       "</table>\n",
       "</div>"
      ],
      "text/plain": [
       "  Company   TypeName  Ram                           Gpu  OpSys  Weight  \\\n",
       "0   Apple  Ultrabook    8  Intel Iris Plus Graphics 640  macOS    1.37   \n",
       "1   Apple  Ultrabook    8        Intel HD Graphics 6000  macOS    1.34   \n",
       "2      HP   Notebook    8         Intel HD Graphics 620  No OS    1.86   \n",
       "3   Apple  Ultrabook   16            AMD Radeon Pro 455  macOS    1.83   \n",
       "4   Apple  Ultrabook    8  Intel Iris Plus Graphics 650  macOS    1.37   \n",
       "\n",
       "         Price  TouchScreen  Ips         ppi      Cpu brand  HDD  SSD  Hybrid  \\\n",
       "0   71378.6832            0    1  226.983005  Intel Core i5    0  128       0   \n",
       "1   47895.5232            0    0  127.677940  Intel Core i5    0    0       0   \n",
       "2   30636.0000            0    0  141.211998  Intel Core i5    0  256       0   \n",
       "3  135195.3360            0    1  220.534624  Intel Core i7    0  512       0   \n",
       "4   96095.8080            0    1  226.983005  Intel Core i5    0  256       0   \n",
       "\n",
       "   Flash_Storage  \n",
       "0              0  \n",
       "1            128  \n",
       "2              0  \n",
       "3              0  \n",
       "4              0  "
      ]
     },
     "execution_count": 50,
     "metadata": {},
     "output_type": "execute_result"
    }
   ],
   "source": [
    "df.head()"
   ]
  },
  {
   "cell_type": "code",
   "execution_count": 51,
   "id": "9f1ecacb",
   "metadata": {},
   "outputs": [
    {
     "data": {
      "text/plain": [
       "Ram              0.743007\n",
       "Weight           0.210370\n",
       "Price            1.000000\n",
       "TouchScreen      0.191226\n",
       "Ips              0.252208\n",
       "ppi              0.473487\n",
       "HDD             -0.096441\n",
       "SSD              0.670799\n",
       "Hybrid           0.007989\n",
       "Flash_Storage   -0.040511\n",
       "Name: Price, dtype: float64"
      ]
     },
     "execution_count": 51,
     "metadata": {},
     "output_type": "execute_result"
    }
   ],
   "source": [
    "df.corr()['Price']"
   ]
  },
  {
   "cell_type": "code",
   "execution_count": 52,
   "id": "37b79bcb",
   "metadata": {},
   "outputs": [],
   "source": [
    "df.drop(columns=['Hybrid','Flash_Storage'],inplace=True)"
   ]
  },
  {
   "cell_type": "code",
   "execution_count": 53,
   "id": "2f53b1bc",
   "metadata": {},
   "outputs": [
    {
     "data": {
      "text/html": [
       "<div>\n",
       "<style scoped>\n",
       "    .dataframe tbody tr th:only-of-type {\n",
       "        vertical-align: middle;\n",
       "    }\n",
       "\n",
       "    .dataframe tbody tr th {\n",
       "        vertical-align: top;\n",
       "    }\n",
       "\n",
       "    .dataframe thead th {\n",
       "        text-align: right;\n",
       "    }\n",
       "</style>\n",
       "<table border=\"1\" class=\"dataframe\">\n",
       "  <thead>\n",
       "    <tr style=\"text-align: right;\">\n",
       "      <th></th>\n",
       "      <th>Company</th>\n",
       "      <th>TypeName</th>\n",
       "      <th>Ram</th>\n",
       "      <th>Gpu</th>\n",
       "      <th>OpSys</th>\n",
       "      <th>Weight</th>\n",
       "      <th>Price</th>\n",
       "      <th>TouchScreen</th>\n",
       "      <th>Ips</th>\n",
       "      <th>ppi</th>\n",
       "      <th>Cpu brand</th>\n",
       "      <th>HDD</th>\n",
       "      <th>SSD</th>\n",
       "      <th>Gpu brand</th>\n",
       "    </tr>\n",
       "  </thead>\n",
       "  <tbody>\n",
       "    <tr>\n",
       "      <th>0</th>\n",
       "      <td>Apple</td>\n",
       "      <td>Ultrabook</td>\n",
       "      <td>8</td>\n",
       "      <td>Intel Iris Plus Graphics 640</td>\n",
       "      <td>macOS</td>\n",
       "      <td>1.37</td>\n",
       "      <td>71378.6832</td>\n",
       "      <td>0</td>\n",
       "      <td>1</td>\n",
       "      <td>226.983005</td>\n",
       "      <td>Intel Core i5</td>\n",
       "      <td>0</td>\n",
       "      <td>128</td>\n",
       "      <td>Intel</td>\n",
       "    </tr>\n",
       "    <tr>\n",
       "      <th>1</th>\n",
       "      <td>Apple</td>\n",
       "      <td>Ultrabook</td>\n",
       "      <td>8</td>\n",
       "      <td>Intel HD Graphics 6000</td>\n",
       "      <td>macOS</td>\n",
       "      <td>1.34</td>\n",
       "      <td>47895.5232</td>\n",
       "      <td>0</td>\n",
       "      <td>0</td>\n",
       "      <td>127.677940</td>\n",
       "      <td>Intel Core i5</td>\n",
       "      <td>0</td>\n",
       "      <td>0</td>\n",
       "      <td>Intel</td>\n",
       "    </tr>\n",
       "    <tr>\n",
       "      <th>2</th>\n",
       "      <td>HP</td>\n",
       "      <td>Notebook</td>\n",
       "      <td>8</td>\n",
       "      <td>Intel HD Graphics 620</td>\n",
       "      <td>No OS</td>\n",
       "      <td>1.86</td>\n",
       "      <td>30636.0000</td>\n",
       "      <td>0</td>\n",
       "      <td>0</td>\n",
       "      <td>141.211998</td>\n",
       "      <td>Intel Core i5</td>\n",
       "      <td>0</td>\n",
       "      <td>256</td>\n",
       "      <td>Intel</td>\n",
       "    </tr>\n",
       "    <tr>\n",
       "      <th>3</th>\n",
       "      <td>Apple</td>\n",
       "      <td>Ultrabook</td>\n",
       "      <td>16</td>\n",
       "      <td>AMD Radeon Pro 455</td>\n",
       "      <td>macOS</td>\n",
       "      <td>1.83</td>\n",
       "      <td>135195.3360</td>\n",
       "      <td>0</td>\n",
       "      <td>1</td>\n",
       "      <td>220.534624</td>\n",
       "      <td>Intel Core i7</td>\n",
       "      <td>0</td>\n",
       "      <td>512</td>\n",
       "      <td>AMD</td>\n",
       "    </tr>\n",
       "    <tr>\n",
       "      <th>4</th>\n",
       "      <td>Apple</td>\n",
       "      <td>Ultrabook</td>\n",
       "      <td>8</td>\n",
       "      <td>Intel Iris Plus Graphics 650</td>\n",
       "      <td>macOS</td>\n",
       "      <td>1.37</td>\n",
       "      <td>96095.8080</td>\n",
       "      <td>0</td>\n",
       "      <td>1</td>\n",
       "      <td>226.983005</td>\n",
       "      <td>Intel Core i5</td>\n",
       "      <td>0</td>\n",
       "      <td>256</td>\n",
       "      <td>Intel</td>\n",
       "    </tr>\n",
       "  </tbody>\n",
       "</table>\n",
       "</div>"
      ],
      "text/plain": [
       "  Company   TypeName  Ram                           Gpu  OpSys  Weight  \\\n",
       "0   Apple  Ultrabook    8  Intel Iris Plus Graphics 640  macOS    1.37   \n",
       "1   Apple  Ultrabook    8        Intel HD Graphics 6000  macOS    1.34   \n",
       "2      HP   Notebook    8         Intel HD Graphics 620  No OS    1.86   \n",
       "3   Apple  Ultrabook   16            AMD Radeon Pro 455  macOS    1.83   \n",
       "4   Apple  Ultrabook    8  Intel Iris Plus Graphics 650  macOS    1.37   \n",
       "\n",
       "         Price  TouchScreen  Ips         ppi      Cpu brand  HDD  SSD  \\\n",
       "0   71378.6832            0    1  226.983005  Intel Core i5    0  128   \n",
       "1   47895.5232            0    0  127.677940  Intel Core i5    0    0   \n",
       "2   30636.0000            0    0  141.211998  Intel Core i5    0  256   \n",
       "3  135195.3360            0    1  220.534624  Intel Core i7    0  512   \n",
       "4   96095.8080            0    1  226.983005  Intel Core i5    0  256   \n",
       "\n",
       "  Gpu brand  \n",
       "0     Intel  \n",
       "1     Intel  \n",
       "2     Intel  \n",
       "3       AMD  \n",
       "4     Intel  "
      ]
     },
     "execution_count": 53,
     "metadata": {},
     "output_type": "execute_result"
    }
   ],
   "source": [
    "df['Gpu brand'] = df['Gpu'].apply(lambda x:x.split()[0])\n",
    "df.head()"
   ]
  },
  {
   "cell_type": "code",
   "execution_count": 54,
   "id": "2a1be5fb",
   "metadata": {},
   "outputs": [
    {
     "data": {
      "text/plain": [
       "Intel     722\n",
       "Nvidia    400\n",
       "AMD       180\n",
       "ARM         1\n",
       "Name: Gpu brand, dtype: int64"
      ]
     },
     "execution_count": 54,
     "metadata": {},
     "output_type": "execute_result"
    }
   ],
   "source": [
    "df['Gpu brand'].value_counts()"
   ]
  },
  {
   "cell_type": "code",
   "execution_count": 55,
   "id": "8c274d3b",
   "metadata": {},
   "outputs": [],
   "source": [
    "df = df[df['Gpu brand'] != 'ARM']"
   ]
  },
  {
   "cell_type": "code",
   "execution_count": 56,
   "id": "64bbf765",
   "metadata": {},
   "outputs": [
    {
     "data": {
      "text/plain": [
       "Intel     722\n",
       "Nvidia    400\n",
       "AMD       180\n",
       "Name: Gpu brand, dtype: int64"
      ]
     },
     "execution_count": 56,
     "metadata": {},
     "output_type": "execute_result"
    }
   ],
   "source": [
    "df['Gpu brand'].value_counts()"
   ]
  },
  {
   "cell_type": "code",
   "execution_count": 57,
   "id": "0f57fe74",
   "metadata": {},
   "outputs": [
    {
     "data": {
      "image/png": "[encoded data removed]",
      "text/plain": [
       "<Figure size 432x288 with 1 Axes>"
      ]
     },
     "metadata": {
      "needs_background": "light"
     },
     "output_type": "display_data"
    }
   ],
   "source": [
    "sns.barplot(x=df['Gpu brand'],y=df['Price'],estimator=np.median)\n",
    "plt.xticks(rotation='vertical')\n",
    "plt.show()"
   ]
  },
  {
   "cell_type": "code",
   "execution_count": 58,
   "id": "45db928b",
   "metadata": {},
   "outputs": [],
   "source": [
    "df.drop(columns=['Gpu'],inplace=True)"
   ]
  },
  {
   "cell_type": "code",
   "execution_count": 59,
   "id": "c5f1d915",
   "metadata": {},
   "outputs": [
    {
     "data": {
      "image/png": "[encoded data removed]",
      "text/plain": [
       "<Figure size 432x288 with 1 Axes>"
      ]
     },
     "metadata": {
      "needs_background": "light"
     },
     "output_type": "display_data"
    }
   ],
   "source": [
    "sns.barplot(x=df['OpSys'],y=df['Price'])\n",
    "plt.xticks(rotation='vertical')\n",
    "plt.show()"
   ]
  },
  {
   "cell_type": "code",
   "execution_count": 60,
   "id": "e10171f3",
   "metadata": {},
   "outputs": [
    {
     "data": {
      "text/html": [
       "<div>\n",
       "<style scoped>\n",
       "    .dataframe tbody tr th:only-of-type {\n",
       "        vertical-align: middle;\n",
       "    }\n",
       "\n",
       "    .dataframe tbody tr th {\n",
       "        vertical-align: top;\n",
       "    }\n",
       "\n",
       "    .dataframe thead th {\n",
       "        text-align: right;\n",
       "    }\n",
       "</style>\n",
       "<table border=\"1\" class=\"dataframe\">\n",
       "  <thead>\n",
       "    <tr style=\"text-align: right;\">\n",
       "      <th></th>\n",
       "      <th>Company</th>\n",
       "      <th>TypeName</th>\n",
       "      <th>Ram</th>\n",
       "      <th>OpSys</th>\n",
       "      <th>Weight</th>\n",
       "      <th>Price</th>\n",
       "      <th>TouchScreen</th>\n",
       "      <th>Ips</th>\n",
       "      <th>ppi</th>\n",
       "      <th>Cpu brand</th>\n",
       "      <th>HDD</th>\n",
       "      <th>SSD</th>\n",
       "      <th>Gpu brand</th>\n",
       "    </tr>\n",
       "  </thead>\n",
       "  <tbody>\n",
       "    <tr>\n",
       "      <th>0</th>\n",
       "      <td>Apple</td>\n",
       "      <td>Ultrabook</td>\n",
       "      <td>8</td>\n",
       "      <td>macOS</td>\n",
       "      <td>1.37</td>\n",
       "      <td>71378.6832</td>\n",
       "      <td>0</td>\n",
       "      <td>1</td>\n",
       "      <td>226.983005</td>\n",
       "      <td>Intel Core i5</td>\n",
       "      <td>0</td>\n",
       "      <td>128</td>\n",
       "      <td>Intel</td>\n",
       "    </tr>\n",
       "    <tr>\n",
       "      <th>1</th>\n",
       "      <td>Apple</td>\n",
       "      <td>Ultrabook</td>\n",
       "      <td>8</td>\n",
       "      <td>macOS</td>\n",
       "      <td>1.34</td>\n",
       "      <td>47895.5232</td>\n",
       "      <td>0</td>\n",
       "      <td>0</td>\n",
       "      <td>127.677940</td>\n",
       "      <td>Intel Core i5</td>\n",
       "      <td>0</td>\n",
       "      <td>0</td>\n",
       "      <td>Intel</td>\n",
       "    </tr>\n",
       "    <tr>\n",
       "      <th>2</th>\n",
       "      <td>HP</td>\n",
       "      <td>Notebook</td>\n",
       "      <td>8</td>\n",
       "      <td>No OS</td>\n",
       "      <td>1.86</td>\n",
       "      <td>30636.0000</td>\n",
       "      <td>0</td>\n",
       "      <td>0</td>\n",
       "      <td>141.211998</td>\n",
       "      <td>Intel Core i5</td>\n",
       "      <td>0</td>\n",
       "      <td>256</td>\n",
       "      <td>Intel</td>\n",
       "    </tr>\n",
       "    <tr>\n",
       "      <th>3</th>\n",
       "      <td>Apple</td>\n",
       "      <td>Ultrabook</td>\n",
       "      <td>16</td>\n",
       "      <td>macOS</td>\n",
       "      <td>1.83</td>\n",
       "      <td>135195.3360</td>\n",
       "      <td>0</td>\n",
       "      <td>1</td>\n",
       "      <td>220.534624</td>\n",
       "      <td>Intel Core i7</td>\n",
       "      <td>0</td>\n",
       "      <td>512</td>\n",
       "      <td>AMD</td>\n",
       "    </tr>\n",
       "    <tr>\n",
       "      <th>4</th>\n",
       "      <td>Apple</td>\n",
       "      <td>Ultrabook</td>\n",
       "      <td>8</td>\n",
       "      <td>macOS</td>\n",
       "      <td>1.37</td>\n",
       "      <td>96095.8080</td>\n",
       "      <td>0</td>\n",
       "      <td>1</td>\n",
       "      <td>226.983005</td>\n",
       "      <td>Intel Core i5</td>\n",
       "      <td>0</td>\n",
       "      <td>256</td>\n",
       "      <td>Intel</td>\n",
       "    </tr>\n",
       "  </tbody>\n",
       "</table>\n",
       "</div>"
      ],
      "text/plain": [
       "  Company   TypeName  Ram  OpSys  Weight        Price  TouchScreen  Ips  \\\n",
       "0   Apple  Ultrabook    8  macOS    1.37   71378.6832            0    1   \n",
       "1   Apple  Ultrabook    8  macOS    1.34   47895.5232            0    0   \n",
       "2      HP   Notebook    8  No OS    1.86   30636.0000            0    0   \n",
       "3   Apple  Ultrabook   16  macOS    1.83  135195.3360            0    1   \n",
       "4   Apple  Ultrabook    8  macOS    1.37   96095.8080            0    1   \n",
       "\n",
       "          ppi      Cpu brand  HDD  SSD Gpu brand  \n",
       "0  226.983005  Intel Core i5    0  128     Intel  \n",
       "1  127.677940  Intel Core i5    0    0     Intel  \n",
       "2  141.211998  Intel Core i5    0  256     Intel  \n",
       "3  220.534624  Intel Core i7    0  512       AMD  \n",
       "4  226.983005  Intel Core i5    0  256     Intel  "
      ]
     },
     "execution_count": 60,
     "metadata": {},
     "output_type": "execute_result"
    }
   ],
   "source": [
    "df.head()"
   ]
  },
  {
   "cell_type": "code",
   "execution_count": 61,
   "id": "aabf22e0",
   "metadata": {},
   "outputs": [],
   "source": [
    "def Operating_System(inp):\n",
    "    if inp == 'Windows 10' or inp == 'Windows 7' or inp == 'Windows 10 S':\n",
    "        return 'Windows'\n",
    "    elif inp == 'macOS' or inp == 'Mac OS X':\n",
    "        return 'Mac'\n",
    "    else:\n",
    "        return 'Others/No OS/Linux'"
   ]
  },
  {
   "cell_type": "code",
   "execution_count": 62,
   "id": "673cce43",
   "metadata": {},
   "outputs": [],
   "source": [
    "df['os'] = df['OpSys'].apply(Operating_System)"
   ]
  },
  {
   "cell_type": "code",
   "execution_count": 63,
   "id": "216d32cd",
   "metadata": {},
   "outputs": [
    {
     "data": {
      "text/html": [
       "<div>\n",
       "<style scoped>\n",
       "    .dataframe tbody tr th:only-of-type {\n",
       "        vertical-align: middle;\n",
       "    }\n",
       "\n",
       "    .dataframe tbody tr th {\n",
       "        vertical-align: top;\n",
       "    }\n",
       "\n",
       "    .dataframe thead th {\n",
       "        text-align: right;\n",
       "    }\n",
       "</style>\n",
       "<table border=\"1\" class=\"dataframe\">\n",
       "  <thead>\n",
       "    <tr style=\"text-align: right;\">\n",
       "      <th></th>\n",
       "      <th>Company</th>\n",
       "      <th>TypeName</th>\n",
       "      <th>Ram</th>\n",
       "      <th>Weight</th>\n",
       "      <th>Price</th>\n",
       "      <th>TouchScreen</th>\n",
       "      <th>Ips</th>\n",
       "      <th>ppi</th>\n",
       "      <th>Cpu brand</th>\n",
       "      <th>HDD</th>\n",
       "      <th>SSD</th>\n",
       "      <th>Gpu brand</th>\n",
       "      <th>os</th>\n",
       "    </tr>\n",
       "  </thead>\n",
       "  <tbody>\n",
       "    <tr>\n",
       "      <th>0</th>\n",
       "      <td>Apple</td>\n",
       "      <td>Ultrabook</td>\n",
       "      <td>8</td>\n",
       "      <td>1.37</td>\n",
       "      <td>71378.6832</td>\n",
       "      <td>0</td>\n",
       "      <td>1</td>\n",
       "      <td>226.983005</td>\n",
       "      <td>Intel Core i5</td>\n",
       "      <td>0</td>\n",
       "      <td>128</td>\n",
       "      <td>Intel</td>\n",
       "      <td>Mac</td>\n",
       "    </tr>\n",
       "    <tr>\n",
       "      <th>1</th>\n",
       "      <td>Apple</td>\n",
       "      <td>Ultrabook</td>\n",
       "      <td>8</td>\n",
       "      <td>1.34</td>\n",
       "      <td>47895.5232</td>\n",
       "      <td>0</td>\n",
       "      <td>0</td>\n",
       "      <td>127.677940</td>\n",
       "      <td>Intel Core i5</td>\n",
       "      <td>0</td>\n",
       "      <td>0</td>\n",
       "      <td>Intel</td>\n",
       "      <td>Mac</td>\n",
       "    </tr>\n",
       "    <tr>\n",
       "      <th>2</th>\n",
       "      <td>HP</td>\n",
       "      <td>Notebook</td>\n",
       "      <td>8</td>\n",
       "      <td>1.86</td>\n",
       "      <td>30636.0000</td>\n",
       "      <td>0</td>\n",
       "      <td>0</td>\n",
       "      <td>141.211998</td>\n",
       "      <td>Intel Core i5</td>\n",
       "      <td>0</td>\n",
       "      <td>256</td>\n",
       "      <td>Intel</td>\n",
       "      <td>Others/No OS/Linux</td>\n",
       "    </tr>\n",
       "    <tr>\n",
       "      <th>3</th>\n",
       "      <td>Apple</td>\n",
       "      <td>Ultrabook</td>\n",
       "      <td>16</td>\n",
       "      <td>1.83</td>\n",
       "      <td>135195.3360</td>\n",
       "      <td>0</td>\n",
       "      <td>1</td>\n",
       "      <td>220.534624</td>\n",
       "      <td>Intel Core i7</td>\n",
       "      <td>0</td>\n",
       "      <td>512</td>\n",
       "      <td>AMD</td>\n",
       "      <td>Mac</td>\n",
       "    </tr>\n",
       "    <tr>\n",
       "      <th>4</th>\n",
       "      <td>Apple</td>\n",
       "      <td>Ultrabook</td>\n",
       "      <td>8</td>\n",
       "      <td>1.37</td>\n",
       "      <td>96095.8080</td>\n",
       "      <td>0</td>\n",
       "      <td>1</td>\n",
       "      <td>226.983005</td>\n",
       "      <td>Intel Core i5</td>\n",
       "      <td>0</td>\n",
       "      <td>256</td>\n",
       "      <td>Intel</td>\n",
       "      <td>Mac</td>\n",
       "    </tr>\n",
       "  </tbody>\n",
       "</table>\n",
       "</div>"
      ],
      "text/plain": [
       "  Company   TypeName  Ram  Weight        Price  TouchScreen  Ips         ppi  \\\n",
       "0   Apple  Ultrabook    8    1.37   71378.6832            0    1  226.983005   \n",
       "1   Apple  Ultrabook    8    1.34   47895.5232            0    0  127.677940   \n",
       "2      HP   Notebook    8    1.86   30636.0000            0    0  141.211998   \n",
       "3   Apple  Ultrabook   16    1.83  135195.3360            0    1  220.534624   \n",
       "4   Apple  Ultrabook    8    1.37   96095.8080            0    1  226.983005   \n",
       "\n",
       "       Cpu brand  HDD  SSD Gpu brand                  os  \n",
       "0  Intel Core i5    0  128     Intel                 Mac  \n",
       "1  Intel Core i5    0    0     Intel                 Mac  \n",
       "2  Intel Core i5    0  256     Intel  Others/No OS/Linux  \n",
       "3  Intel Core i7    0  512       AMD                 Mac  \n",
       "4  Intel Core i5    0  256     Intel                 Mac  "
      ]
     },
     "execution_count": 63,
     "metadata": {},
     "output_type": "execute_result"
    }
   ],
   "source": [
    "df.drop(columns=['OpSys'],inplace=True)\n",
    "df.head()"
   ]
  },
  {
   "cell_type": "code",
   "execution_count": 64,
   "id": "6917f47b",
   "metadata": {},
   "outputs": [
    {
     "data": {
      "image/png": "[encoded data removed]",
      "text/plain": [
       "<Figure size 432x288 with 1 Axes>"
      ]
     },
     "metadata": {
      "needs_background": "light"
     },
     "output_type": "display_data"
    }
   ],
   "source": [
    "sns.barplot(x=df['os'],y=df['Price'])\n",
    "plt.xticks(rotation='vertical')\n",
    "plt.show()"
   ]
  },
  {
   "cell_type": "code",
   "execution_count": 15,
   "id": "f7e617e3",
   "metadata": {},
   "outputs": [
    {
     "data": {
      "text/plain": [
       "<seaborn.axisgrid.FacetGrid at 0x218be813220>"
      ]
     },
     "execution_count": 15,
     "metadata": {},
     "output_type": "execute_result"
    },
    {
     "data": {
      "image/png": "[encoded data removed]",
      "text/plain": [
       "<Figure size 360x360 with 1 Axes>"
      ]
     },
     "metadata": {
      "needs_background": "light"
     },
     "output_type": "display_data"
    }
   ],
   "source": [
    "sns.displot(np.log(df['Price']))"
   ]
  },
  {
   "cell_type": "code",
   "execution_count": 68,
   "id": "f91ac6ac",
   "metadata": {},
   "outputs": [
    {
     "data": {
      "text/plain": [
       "<AxesSubplot:xlabel='Weight', ylabel='Price'>"
      ]
     },
     "execution_count": 68,
     "metadata": {},
     "output_type": "execute_result"
    },
    {
     "data": {
      "image/png": "[encoded data removed]",
      "text/plain": [
       "<Figure size 432x288 with 1 Axes>"
      ]
     },
     "metadata": {
      "needs_background": "light"
     },
     "output_type": "display_data"
    }
   ],
   "source": [
    "sns.scatterplot(x=df['Weight'],y=df['Price'])"
   ]
  },
  {
   "cell_type": "code",
   "execution_count": 72,
   "id": "a6924bc0",
   "metadata": {},
   "outputs": [
    {
     "data": {
      "text/plain": [
       "<AxesSubplot:>"
      ]
     },
     "execution_count": 72,
     "metadata": {},
     "output_type": "execute_result"
    },
    {
     "data": {
      "image/png": "[encoded data removed]",
      "text/plain": [
       "<Figure size 432x288 with 2 Axes>"
      ]
     },
     "metadata": {
      "needs_background": "light"
     },
     "output_type": "display_data"
    }
   ],
   "source": [
    "sns.heatmap(df.corr())"
   ]
  },
  {
   "cell_type": "code",
   "execution_count": 73,
   "id": "5258234d",
   "metadata": {},
   "outputs": [],
   "source": [
    "X = df.drop(columns=['Price'])\n",
    "y = np.log(df['Price'])"
   ]
  },
  {
   "cell_type": "code",
   "execution_count": 74,
   "id": "2d9ab6ec",
   "metadata": {},
   "outputs": [],
   "source": [
    "from sklearn.model_selection import train_test_split\n",
    "X_train,X_test,y_train,y_test = train_test_split(X,y,test_size=0.15,random_state=2)"
   ]
  },
  {
   "cell_type": "code",
   "execution_count": 75,
   "id": "5cc7f7eb",
   "metadata": {},
   "outputs": [],
   "source": [
    "from sklearn.linear_model import LinearRegression,Ridge,Lasso\n",
    "from sklearn.neighbors import KNeighborsRegressor\n",
    "from sklearn.tree import DecisionTreeRegressor\n",
    "from sklearn.ensemble import RandomForestRegressor,GradientBoostingRegressor,AdaBoostRegressor,ExtraTreesRegressor\n",
    "from sklearn.svm import SVR\n",
    "from xgboost import XGBRegressor\n",
    "\n",
    "from sklearn.compose import ColumnTransformer\n",
    "from sklearn.pipeline import Pipeline\n",
    "from sklearn.preprocessing import OneHotEncoder\n",
    "from sklearn.metrics import r2_score,mean_absolute_error"
   ]
  },
  {
   "cell_type": "markdown",
   "id": "65a4c4bf",
   "metadata": {},
   "source": [
    "# Linear Regression"
   ]
  },
  {
   "cell_type": "code",
   "execution_count": 76,
   "id": "10059655",
   "metadata": {},
   "outputs": [
    {
     "name": "stdout",
     "output_type": "stream",
     "text": [
      "R2 score 0.80732774484187\n",
      "MAE 0.2101782797642877\n"
     ]
    }
   ],
   "source": [
    "step1 = ColumnTransformer(transformers=[\n",
    "    ('col_tnf',OneHotEncoder(sparse=False,drop='first'),[0,1,7,10,11])\n",
    "],remainder='passthrough')\n",
    "\n",
    "step2 = LinearRegression()\n",
    "\n",
    "pipe = Pipeline([\n",
    "    ('step1',step1),\n",
    "    ('step2',step2)\n",
    "])\n",
    "\n",
    "pipe.fit(X_train,y_train)\n",
    "\n",
    "y_pred = pipe.predict(X_test)\n",
    "\n",
    "print('R2 score',r2_score(y_test,y_pred))\n",
    "print('MAE',mean_absolute_error(y_test,y_pred))"
   ]
  },
  {
   "cell_type": "markdown",
   "id": "1034bfb7",
   "metadata": {},
   "source": [
    "# Ridge Regression"
   ]
  },
  {
   "cell_type": "code",
   "execution_count": 77,
   "id": "0d1338a1",
   "metadata": {},
   "outputs": [
    {
     "name": "stdout",
     "output_type": "stream",
     "text": [
      "R2 score 0.8127331031311807\n",
      "MAE 0.2092680224258299\n"
     ]
    }
   ],
   "source": [
    "step1 = ColumnTransformer(transformers=[\n",
    "    ('col_tnf',OneHotEncoder(sparse=False,drop='first'),[0,1,7,10,11])\n",
    "],remainder='passthrough')\n",
    "\n",
    "step2 = Ridge(alpha=10)\n",
    "\n",
    "pipe = Pipeline([\n",
    "    ('step1',step1),\n",
    "    ('step2',step2)\n",
    "])\n",
    "\n",
    "pipe.fit(X_train,y_train)\n",
    "\n",
    "y_pred = pipe.predict(X_test)\n",
    "\n",
    "print('R2 score',r2_score(y_test,y_pred))\n",
    "print('MAE',mean_absolute_error(y_test,y_pred))"
   ]
  },
  {
   "cell_type": "markdown",
   "id": "a584c045",
   "metadata": {},
   "source": [
    "# Lasso Regression"
   ]
  },
  {
   "cell_type": "code",
   "execution_count": 78,
   "id": "f77c3130",
   "metadata": {},
   "outputs": [
    {
     "name": "stdout",
     "output_type": "stream",
     "text": [
      "R2 score 0.8071853945317105\n",
      "MAE 0.21114361613472565\n"
     ]
    }
   ],
   "source": [
    "step1 = ColumnTransformer(transformers=[\n",
    "    ('col_tnf',OneHotEncoder(sparse=False,drop='first'),[0,1,7,10,11])\n",
    "],remainder='passthrough')\n",
    "\n",
    "step2 = Lasso(alpha=0.001)\n",
    "\n",
    "pipe = Pipeline([\n",
    "    ('step1',step1),\n",
    "    ('step2',step2)\n",
    "])\n",
    "\n",
    "pipe.fit(X_train,y_train)\n",
    "\n",
    "y_pred = pipe.predict(X_test)\n",
    "\n",
    "print('R2 score',r2_score(y_test,y_pred))\n",
    "print('MAE',mean_absolute_error(y_test,y_pred))"
   ]
  },
  {
   "cell_type": "markdown",
   "id": "457d961d",
   "metadata": {},
   "source": [
    "# KNN"
   ]
  },
  {
   "cell_type": "code",
   "execution_count": 79,
   "id": "7c3a9a4a",
   "metadata": {},
   "outputs": [
    {
     "name": "stdout",
     "output_type": "stream",
     "text": [
      "R2 score 0.8021984604448553\n",
      "MAE 0.19319716721521116\n"
     ]
    }
   ],
   "source": [
    "step1 = ColumnTransformer(transformers=[\n",
    "    ('col_tnf',OneHotEncoder(sparse=False,drop='first'),[0,1,7,10,11])\n",
    "],remainder='passthrough')\n",
    "\n",
    "step2 = KNeighborsRegressor(n_neighbors=3)\n",
    "\n",
    "pipe = Pipeline([\n",
    "    ('step1',step1),\n",
    "    ('step2',step2)\n",
    "])\n",
    "\n",
    "pipe.fit(X_train,y_train)\n",
    "\n",
    "y_pred = pipe.predict(X_test)\n",
    "\n",
    "print('R2 score',r2_score(y_test,y_pred))\n",
    "print('MAE',mean_absolute_error(y_test,y_pred))"
   ]
  },
  {
   "cell_type": "markdown",
   "id": "db950130",
   "metadata": {},
   "source": [
    "# Decision Tree"
   ]
  },
  {
   "cell_type": "code",
   "execution_count": 80,
   "id": "cca975e3",
   "metadata": {},
   "outputs": [
    {
     "name": "stdout",
     "output_type": "stream",
     "text": [
      "R2 score 0.8335652948593757\n",
      "MAE 0.18564388824434946\n"
     ]
    }
   ],
   "source": [
    "step1 = ColumnTransformer(transformers=[\n",
    "    ('col_tnf',OneHotEncoder(sparse=False,drop='first'),[0,1,7,10,11])\n",
    "],remainder='passthrough')\n",
    "\n",
    "step2 = DecisionTreeRegressor(max_depth=8, min_samples_split=2,\n",
    "    min_samples_leaf=1)\n",
    "\n",
    "pipe = Pipeline([\n",
    "    ('step1',step1),\n",
    "    ('step2',step2)\n",
    "])\n",
    "\n",
    "pipe.fit(X_train,y_train)\n",
    "\n",
    "y_pred = pipe.predict(X_test)\n",
    "\n",
    "print('R2 score',r2_score(y_test,y_pred))\n",
    "print('MAE',mean_absolute_error(y_test,y_pred))"
   ]
  },
  {
   "cell_type": "markdown",
   "id": "ef57c99b",
   "metadata": {},
   "source": [
    "# Support Vector Machine"
   ]
  },
  {
   "cell_type": "code",
   "execution_count": 81,
   "id": "fb527157",
   "metadata": {},
   "outputs": [
    {
     "name": "stdout",
     "output_type": "stream",
     "text": [
      "R2 score 0.8083180902289917\n",
      "MAE 0.2023905942719158\n"
     ]
    }
   ],
   "source": [
    "step1 = ColumnTransformer(transformers=[\n",
    "    ('col_tnf',OneHotEncoder(sparse=False,drop='first'),[0,1,7,10,11])\n",
    "],remainder='passthrough')\n",
    "\n",
    "step2 = SVR(kernel='rbf',C=10000,epsilon=0.1)\n",
    "\n",
    "pipe = Pipeline([\n",
    "    ('step1',step1),\n",
    "    ('step2',step2)\n",
    "])\n",
    "\n",
    "pipe.fit(X_train,y_train)\n",
    "\n",
    "y_pred = pipe.predict(X_test)\n",
    "\n",
    "print('R2 score',r2_score(y_test,y_pred))\n",
    "print('MAE',mean_absolute_error(y_test,y_pred))"
   ]
  },
  {
   "cell_type": "markdown",
   "id": "b884292b",
   "metadata": {},
   "source": [
    "# Random Forest "
   ]
  },
  {
   "cell_type": "code",
   "execution_count": 82,
   "id": "fb961d48",
   "metadata": {},
   "outputs": [
    {
     "name": "stdout",
     "output_type": "stream",
     "text": [
      "R2 score 0.8873402378382488\n",
      "MAE 0.15860130110457718\n"
     ]
    }
   ],
   "source": [
    "step1 = ColumnTransformer(transformers=[\n",
    "    ('col_tnf',OneHotEncoder(sparse=False,drop='first'),[0,1,7,10,11])\n",
    "],remainder='passthrough')\n",
    "\n",
    "step2 = RandomForestRegressor(n_estimators=100,\n",
    "                              random_state=3,\n",
    "                              max_samples=0.5,\n",
    "                              max_features=0.75,\n",
    "                              max_depth=15)\n",
    "\n",
    "pipe = Pipeline([\n",
    "    ('step1',step1),\n",
    "    ('step2',step2)\n",
    "])\n",
    "\n",
    "pipe.fit(X_train,y_train)\n",
    "\n",
    "y_pred = pipe.predict(X_test)\n",
    "\n",
    "print('R2 score',r2_score(y_test,y_pred))\n",
    "print('MAE',mean_absolute_error(y_test,y_pred))"
   ]
  },
  {
   "cell_type": "markdown",
   "id": "48091ef3",
   "metadata": {},
   "source": [
    "# Extra Tree"
   ]
  },
  {
   "cell_type": "code",
   "execution_count": 83,
   "id": "e8313eda",
   "metadata": {},
   "outputs": [
    {
     "name": "stdout",
     "output_type": "stream",
     "text": [
      "R2 score 0.8753793123440623\n",
      "MAE 0.15979519126758127\n"
     ]
    }
   ],
   "source": [
    "step1 = ColumnTransformer(transformers=[\n",
    "    ('col_tnf',OneHotEncoder(sparse=False,drop='first'),[0,1,7,10,11])\n",
    "],remainder='passthrough')\n",
    "\n",
    "step2 = ExtraTreesRegressor(n_estimators=100,\n",
    "                              random_state=3,\n",
    "                              max_samples=0.5,\n",
    "                              max_features=0.75,\n",
    "                              max_depth=15)\n",
    "\n",
    "pipe = Pipeline([\n",
    "    ('step1',step1),\n",
    "    ('step2',step2)\n",
    "])\n",
    "\n",
    "pipe.fit(X_train,y_train)\n",
    "\n",
    "y_pred = pipe.predict(X_test)\n",
    "\n",
    "print('R2 score',r2_score(y_test,y_pred))\n",
    "print('MAE',mean_absolute_error(y_test,y_pred))"
   ]
  },
  {
   "cell_type": "markdown",
   "id": "18573d32",
   "metadata": {},
   "source": [
    "# AdaBoost"
   ]
  },
  {
   "cell_type": "code",
   "execution_count": 84,
   "id": "2ec2ec41",
   "metadata": {},
   "outputs": [
    {
     "name": "stdout",
     "output_type": "stream",
     "text": [
      "R2 score 0.7954518713187605\n",
      "MAE 0.22869965309212525\n"
     ]
    }
   ],
   "source": [
    "step1 = ColumnTransformer(transformers=[\n",
    "    ('col_tnf',OneHotEncoder(sparse=False,drop='first'),[0,1,7,10,11])\n",
    "],remainder='passthrough')\n",
    "\n",
    "step2 = AdaBoostRegressor(n_estimators=15,learning_rate=1.0)\n",
    "\n",
    "pipe = Pipeline([\n",
    "    ('step1',step1),\n",
    "    ('step2',step2)\n",
    "])\n",
    "\n",
    "pipe.fit(X_train,y_train)\n",
    "\n",
    "y_pred = pipe.predict(X_test)\n",
    "\n",
    "print('R2 score',r2_score(y_test,y_pred))\n",
    "print('MAE',mean_absolute_error(y_test,y_pred))"
   ]
  },
  {
   "cell_type": "markdown",
   "id": "70657a9b",
   "metadata": {},
   "source": [
    "# Gradient Boosting"
   ]
  },
  {
   "cell_type": "code",
   "execution_count": 85,
   "id": "742ae916",
   "metadata": {},
   "outputs": [
    {
     "name": "stdout",
     "output_type": "stream",
     "text": [
      "R2 score 0.8825060164387656\n",
      "MAE 0.15903203631251014\n"
     ]
    }
   ],
   "source": [
    "step1 = ColumnTransformer(transformers=[\n",
    "    ('col_tnf',OneHotEncoder(sparse=False,drop='first'),[0,1,7,10,11])\n",
    "],remainder='passthrough')\n",
    "\n",
    "step2 = GradientBoostingRegressor(n_estimators=500)\n",
    "\n",
    "pipe = Pipeline([\n",
    "    ('step1',step1),\n",
    "    ('step2',step2)\n",
    "])\n",
    "\n",
    "pipe.fit(X_train,y_train)\n",
    "\n",
    "y_pred = pipe.predict(X_test)\n",
    "\n",
    "print('R2 score',r2_score(y_test,y_pred))\n",
    "print('MAE',mean_absolute_error(y_test,y_pred))"
   ]
  },
  {
   "cell_type": "markdown",
   "id": "846a67fe",
   "metadata": {},
   "source": [
    "# XgBoost"
   ]
  },
  {
   "cell_type": "code",
   "execution_count": 86,
   "id": "50978584",
   "metadata": {},
   "outputs": [
    {
     "name": "stdout",
     "output_type": "stream",
     "text": [
      "R2 score 0.8811773435850243\n",
      "MAE 0.16496203512600974\n"
     ]
    }
   ],
   "source": [
    "step1 = ColumnTransformer(transformers=[\n",
    "    ('col_tnf',OneHotEncoder(sparse=False,drop='first'),[0,1,7,10,11])\n",
    "],remainder='passthrough')\n",
    "\n",
    "step2 = XGBRegressor(n_estimators=45,max_depth=5,learning_rate=0.5)\n",
    "\n",
    "pipe = Pipeline([\n",
    "    ('step1',step1),\n",
    "    ('step2',step2)\n",
    "])\n",
    "\n",
    "pipe.fit(X_train,y_train)\n",
    "\n",
    "y_pred = pipe.predict(X_test)\n",
    "\n",
    "print('R2 score',r2_score(y_test,y_pred))\n",
    "print('MAE',mean_absolute_error(y_test,y_pred))"
   ]
  },
  {
   "cell_type": "markdown",
   "id": "66c741e1",
   "metadata": {},
   "source": [
    "# Voting Regressor"
   ]
  },
  {
   "cell_type": "code",
   "execution_count": 87,
   "id": "af63f58b",
   "metadata": {},
   "outputs": [
    {
     "name": "stdout",
     "output_type": "stream",
     "text": [
      "R2 score 0.8902739816867171\n",
      "MAE 0.15883662234264959\n"
     ]
    }
   ],
   "source": [
    "from sklearn.ensemble import VotingRegressor,StackingRegressor\n",
    "\n",
    "step1 = ColumnTransformer(transformers=[\n",
    "    ('col_tnf',OneHotEncoder(sparse=False,drop='first'),[0,1,7,10,11])\n",
    "],remainder='passthrough')\n",
    "\n",
    "\n",
    "rf = RandomForestRegressor(n_estimators=350,random_state=3,max_samples=0.5,max_features=0.75,max_depth=15)\n",
    "gbdt = GradientBoostingRegressor(n_estimators=100,max_features=0.5)\n",
    "xgb = XGBRegressor(n_estimators=25,learning_rate=0.3,max_depth=5)\n",
    "et = ExtraTreesRegressor(n_estimators=100,random_state=3,max_samples=0.5,max_features=0.75,max_depth=10)\n",
    "\n",
    "step2 = VotingRegressor([('rf', rf), ('gbdt', gbdt), ('xgb',xgb), ('et',et)],weights=[5,1,1,1])\n",
    "\n",
    "pipe = Pipeline([\n",
    "    ('step1',step1),\n",
    "    ('step2',step2)\n",
    "])\n",
    "\n",
    "pipe.fit(X_train,y_train)\n",
    "\n",
    "y_pred = pipe.predict(X_test)\n",
    "\n",
    "print('R2 score',r2_score(y_test,y_pred))\n",
    "print('MAE',mean_absolute_error(y_test,y_pred))"
   ]
  },
  {
   "cell_type": "markdown",
   "id": "cb2ae1a7",
   "metadata": {},
   "source": [
    "# Stacking"
   ]
  },
  {
   "cell_type": "code",
   "execution_count": 88,
   "id": "87e7710d",
   "metadata": {},
   "outputs": [
    {
     "name": "stdout",
     "output_type": "stream",
     "text": [
      "R2 score 0.8817394747301128\n",
      "MAE 0.16633621915963354\n"
     ]
    }
   ],
   "source": [
    "from sklearn.ensemble import VotingRegressor,StackingRegressor\n",
    "\n",
    "step1 = ColumnTransformer(transformers=[\n",
    "    ('col_tnf',OneHotEncoder(sparse=False,drop='first'),[0,1,7,10,11])\n",
    "],remainder='passthrough')\n",
    "\n",
    "\n",
    "estimators = [\n",
    "    ('rf', RandomForestRegressor(n_estimators=350,random_state=3,max_samples=0.5,max_features=0.75,max_depth=15)),\n",
    "    ('gbdt',GradientBoostingRegressor(n_estimators=100,max_features=0.5)),\n",
    "    ('xgb', XGBRegressor(n_estimators=25,learning_rate=0.3,max_depth=5))\n",
    "]\n",
    "\n",
    "step2 = StackingRegressor(estimators=estimators, final_estimator=Ridge(alpha=100))\n",
    "\n",
    "pipe = Pipeline([\n",
    "    ('step1',step1),\n",
    "    ('step2',step2)\n",
    "])\n",
    "\n",
    "pipe.fit(X_train,y_train)\n",
    "\n",
    "y_pred = pipe.predict(X_test)\n",
    "\n",
    "print('R2 score',r2_score(y_test,y_pred))\n",
    "print('MAE',mean_absolute_error(y_test,y_pred))"
   ]
  },
  {
   "cell_type": "markdown",
   "id": "f9e404d2",
   "metadata": {},
   "source": [
    "# CatBoost"
   ]
  },
  {
   "cell_type": "code",
   "execution_count": 95,
   "id": "0556f3ac",
   "metadata": {},
   "outputs": [
    {
     "name": "stdout",
     "output_type": "stream",
     "text": [
      "0:\tlearn: 0.6128605\ttotal: 10.4ms\tremaining: 10.4s\n",
      "1:\tlearn: 0.6006950\ttotal: 11.5ms\tremaining: 5.75s\n",
      "2:\tlearn: 0.5890526\ttotal: 12.8ms\tremaining: 4.24s\n",
      "3:\tlearn: 0.5773739\ttotal: 14.5ms\tremaining: 3.6s\n",
      "4:\tlearn: 0.5664279\ttotal: 16.2ms\tremaining: 3.23s\n",
      "5:\tlearn: 0.5563048\ttotal: 17ms\tremaining: 2.81s\n",
      "6:\tlearn: 0.5458770\ttotal: 18.2ms\tremaining: 2.58s\n",
      "7:\tlearn: 0.5355284\ttotal: 19.7ms\tremaining: 2.44s\n",
      "8:\tlearn: 0.5252093\ttotal: 21.2ms\tremaining: 2.34s\n",
      "9:\tlearn: 0.5153892\ttotal: 22.4ms\tremaining: 2.21s\n",
      "10:\tlearn: 0.5060474\ttotal: 23.9ms\tremaining: 2.15s\n",
      "11:\tlearn: 0.4975599\ttotal: 25.2ms\tremaining: 2.07s\n",
      "12:\tlearn: 0.4889105\ttotal: 27.2ms\tremaining: 2.06s\n",
      "13:\tlearn: 0.4804884\ttotal: 28.9ms\tremaining: 2.03s\n",
      "14:\tlearn: 0.4729421\ttotal: 30.5ms\tremaining: 2s\n",
      "15:\tlearn: 0.4651767\ttotal: 32ms\tremaining: 1.97s\n",
      "16:\tlearn: 0.4577330\ttotal: 33.8ms\tremaining: 1.95s\n",
      "17:\tlearn: 0.4512544\ttotal: 35.2ms\tremaining: 1.92s\n",
      "18:\tlearn: 0.4446141\ttotal: 36.7ms\tremaining: 1.9s\n",
      "19:\tlearn: 0.4380241\ttotal: 38.4ms\tremaining: 1.88s\n",
      "20:\tlearn: 0.4315262\ttotal: 39.5ms\tremaining: 1.84s\n",
      "21:\tlearn: 0.4246897\ttotal: 40.5ms\tremaining: 1.8s\n",
      "22:\tlearn: 0.4185988\ttotal: 41.7ms\tremaining: 1.77s\n",
      "23:\tlearn: 0.4123537\ttotal: 43.5ms\tremaining: 1.77s\n",
      "24:\tlearn: 0.4060063\ttotal: 45.1ms\tremaining: 1.76s\n",
      "25:\tlearn: 0.3999726\ttotal: 46.7ms\tremaining: 1.75s\n",
      "26:\tlearn: 0.3942508\ttotal: 47.7ms\tremaining: 1.72s\n",
      "27:\tlearn: 0.3887759\ttotal: 48.9ms\tremaining: 1.7s\n",
      "28:\tlearn: 0.3837023\ttotal: 50.1ms\tremaining: 1.68s\n",
      "29:\tlearn: 0.3786766\ttotal: 51.2ms\tremaining: 1.66s\n",
      "30:\tlearn: 0.3737866\ttotal: 52.4ms\tremaining: 1.64s\n",
      "31:\tlearn: 0.3689264\ttotal: 53.7ms\tremaining: 1.63s\n",
      "32:\tlearn: 0.3640928\ttotal: 54.8ms\tremaining: 1.61s\n",
      "33:\tlearn: 0.3594805\ttotal: 56ms\tremaining: 1.59s\n",
      "34:\tlearn: 0.3550909\ttotal: 57.2ms\tremaining: 1.58s\n",
      "35:\tlearn: 0.3508200\ttotal: 58.7ms\tremaining: 1.57s\n",
      "36:\tlearn: 0.3466178\ttotal: 60.2ms\tremaining: 1.56s\n",
      "37:\tlearn: 0.3425518\ttotal: 61.4ms\tremaining: 1.55s\n",
      "38:\tlearn: 0.3387445\ttotal: 62.5ms\tremaining: 1.54s\n",
      "39:\tlearn: 0.3351896\ttotal: 63.8ms\tremaining: 1.53s\n",
      "40:\tlearn: 0.3315205\ttotal: 65.2ms\tremaining: 1.52s\n",
      "41:\tlearn: 0.3283011\ttotal: 66.6ms\tremaining: 1.52s\n",
      "42:\tlearn: 0.3249841\ttotal: 67.7ms\tremaining: 1.51s\n",
      "43:\tlearn: 0.3218510\ttotal: 68.9ms\tremaining: 1.5s\n",
      "44:\tlearn: 0.3188739\ttotal: 70.1ms\tremaining: 1.49s\n",
      "45:\tlearn: 0.3162179\ttotal: 71.1ms\tremaining: 1.47s\n",
      "46:\tlearn: 0.3131839\ttotal: 72ms\tremaining: 1.46s\n",
      "47:\tlearn: 0.3105007\ttotal: 73ms\tremaining: 1.45s\n",
      "48:\tlearn: 0.3081041\ttotal: 74ms\tremaining: 1.44s\n",
      "49:\tlearn: 0.3056381\ttotal: 75.5ms\tremaining: 1.43s\n",
      "50:\tlearn: 0.3032945\ttotal: 76.6ms\tremaining: 1.43s\n",
      "51:\tlearn: 0.3005483\ttotal: 77.9ms\tremaining: 1.42s\n",
      "52:\tlearn: 0.2981736\ttotal: 79.1ms\tremaining: 1.41s\n",
      "53:\tlearn: 0.2957201\ttotal: 80.3ms\tremaining: 1.41s\n",
      "54:\tlearn: 0.2934479\ttotal: 81.5ms\tremaining: 1.4s\n",
      "55:\tlearn: 0.2909266\ttotal: 82.8ms\tremaining: 1.4s\n",
      "56:\tlearn: 0.2887231\ttotal: 84.2ms\tremaining: 1.39s\n",
      "57:\tlearn: 0.2865580\ttotal: 85.3ms\tremaining: 1.38s\n",
      "58:\tlearn: 0.2844334\ttotal: 86.4ms\tremaining: 1.38s\n",
      "59:\tlearn: 0.2825154\ttotal: 87.7ms\tremaining: 1.37s\n",
      "60:\tlearn: 0.2808273\ttotal: 88.9ms\tremaining: 1.37s\n",
      "61:\tlearn: 0.2790285\ttotal: 89.9ms\tremaining: 1.36s\n",
      "62:\tlearn: 0.2772205\ttotal: 90.9ms\tremaining: 1.35s\n",
      "63:\tlearn: 0.2754904\ttotal: 92ms\tremaining: 1.34s\n",
      "64:\tlearn: 0.2738540\ttotal: 93.2ms\tremaining: 1.34s\n",
      "65:\tlearn: 0.2721616\ttotal: 94.4ms\tremaining: 1.33s\n",
      "66:\tlearn: 0.2707036\ttotal: 95.3ms\tremaining: 1.33s\n",
      "67:\tlearn: 0.2694580\ttotal: 96.2ms\tremaining: 1.32s\n",
      "68:\tlearn: 0.2681624\ttotal: 97.2ms\tremaining: 1.31s\n",
      "69:\tlearn: 0.2666396\ttotal: 98.2ms\tremaining: 1.3s\n",
      "70:\tlearn: 0.2652138\ttotal: 99.3ms\tremaining: 1.3s\n",
      "71:\tlearn: 0.2639118\ttotal: 100ms\tremaining: 1.29s\n",
      "72:\tlearn: 0.2626621\ttotal: 102ms\tremaining: 1.29s\n",
      "73:\tlearn: 0.2615375\ttotal: 103ms\tremaining: 1.29s\n",
      "74:\tlearn: 0.2600204\ttotal: 104ms\tremaining: 1.28s\n",
      "75:\tlearn: 0.2592765\ttotal: 105ms\tremaining: 1.27s\n",
      "76:\tlearn: 0.2580592\ttotal: 106ms\tremaining: 1.27s\n",
      "77:\tlearn: 0.2568709\ttotal: 107ms\tremaining: 1.26s\n",
      "78:\tlearn: 0.2558349\ttotal: 108ms\tremaining: 1.26s\n",
      "79:\tlearn: 0.2548606\ttotal: 109ms\tremaining: 1.25s\n",
      "80:\tlearn: 0.2539391\ttotal: 110ms\tremaining: 1.25s\n",
      "81:\tlearn: 0.2530270\ttotal: 111ms\tremaining: 1.24s\n",
      "82:\tlearn: 0.2521452\ttotal: 112ms\tremaining: 1.24s\n",
      "83:\tlearn: 0.2513079\ttotal: 113ms\tremaining: 1.24s\n",
      "84:\tlearn: 0.2501899\ttotal: 115ms\tremaining: 1.23s\n",
      "85:\tlearn: 0.2491647\ttotal: 116ms\tremaining: 1.23s\n",
      "86:\tlearn: 0.2483444\ttotal: 117ms\tremaining: 1.23s\n",
      "87:\tlearn: 0.2476822\ttotal: 118ms\tremaining: 1.22s\n",
      "88:\tlearn: 0.2467499\ttotal: 119ms\tremaining: 1.22s\n",
      "89:\tlearn: 0.2459640\ttotal: 120ms\tremaining: 1.21s\n",
      "90:\tlearn: 0.2453941\ttotal: 121ms\tremaining: 1.21s\n",
      "91:\tlearn: 0.2445968\ttotal: 122ms\tremaining: 1.2s\n",
      "92:\tlearn: 0.2436401\ttotal: 123ms\tremaining: 1.2s\n",
      "93:\tlearn: 0.2430070\ttotal: 124ms\tremaining: 1.19s\n",
      "94:\tlearn: 0.2421716\ttotal: 125ms\tremaining: 1.19s\n",
      "95:\tlearn: 0.2414428\ttotal: 126ms\tremaining: 1.19s\n",
      "96:\tlearn: 0.2405814\ttotal: 127ms\tremaining: 1.18s\n",
      "97:\tlearn: 0.2398601\ttotal: 128ms\tremaining: 1.18s\n",
      "98:\tlearn: 0.2392445\ttotal: 129ms\tremaining: 1.18s\n",
      "99:\tlearn: 0.2384796\ttotal: 130ms\tremaining: 1.17s\n",
      "100:\tlearn: 0.2377233\ttotal: 132ms\tremaining: 1.17s\n",
      "101:\tlearn: 0.2371252\ttotal: 133ms\tremaining: 1.17s\n",
      "102:\tlearn: 0.2364852\ttotal: 134ms\tremaining: 1.16s\n",
      "103:\tlearn: 0.2358790\ttotal: 135ms\tremaining: 1.16s\n",
      "104:\tlearn: 0.2352970\ttotal: 136ms\tremaining: 1.16s\n",
      "105:\tlearn: 0.2347047\ttotal: 137ms\tremaining: 1.15s\n",
      "106:\tlearn: 0.2343383\ttotal: 138ms\tremaining: 1.15s\n",
      "107:\tlearn: 0.2338368\ttotal: 139ms\tremaining: 1.14s\n",
      "108:\tlearn: 0.2333312\ttotal: 140ms\tremaining: 1.14s\n",
      "109:\tlearn: 0.2328589\ttotal: 141ms\tremaining: 1.14s\n",
      "110:\tlearn: 0.2324010\ttotal: 142ms\tremaining: 1.13s\n",
      "111:\tlearn: 0.2319785\ttotal: 143ms\tremaining: 1.13s\n",
      "112:\tlearn: 0.2315906\ttotal: 144ms\tremaining: 1.13s\n",
      "113:\tlearn: 0.2310585\ttotal: 145ms\tremaining: 1.13s\n",
      "114:\tlearn: 0.2305791\ttotal: 146ms\tremaining: 1.12s\n",
      "115:\tlearn: 0.2302835\ttotal: 147ms\tremaining: 1.12s\n",
      "116:\tlearn: 0.2298870\ttotal: 148ms\tremaining: 1.12s\n",
      "117:\tlearn: 0.2294894\ttotal: 149ms\tremaining: 1.11s\n",
      "118:\tlearn: 0.2290106\ttotal: 150ms\tremaining: 1.11s\n",
      "119:\tlearn: 0.2287002\ttotal: 151ms\tremaining: 1.11s\n",
      "120:\tlearn: 0.2282568\ttotal: 152ms\tremaining: 1.1s\n",
      "121:\tlearn: 0.2278972\ttotal: 153ms\tremaining: 1.1s\n",
      "122:\tlearn: 0.2274946\ttotal: 154ms\tremaining: 1.1s\n",
      "123:\tlearn: 0.2271099\ttotal: 155ms\tremaining: 1.1s\n",
      "124:\tlearn: 0.2267711\ttotal: 156ms\tremaining: 1.09s\n",
      "125:\tlearn: 0.2263793\ttotal: 157ms\tremaining: 1.09s\n",
      "126:\tlearn: 0.2260887\ttotal: 158ms\tremaining: 1.09s\n",
      "127:\tlearn: 0.2257141\ttotal: 159ms\tremaining: 1.08s\n",
      "128:\tlearn: 0.2253416\ttotal: 160ms\tremaining: 1.08s\n",
      "129:\tlearn: 0.2250072\ttotal: 161ms\tremaining: 1.08s\n",
      "130:\tlearn: 0.2246836\ttotal: 162ms\tremaining: 1.08s\n",
      "131:\tlearn: 0.2244243\ttotal: 164ms\tremaining: 1.07s\n",
      "132:\tlearn: 0.2241360\ttotal: 165ms\tremaining: 1.07s\n",
      "133:\tlearn: 0.2238541\ttotal: 165ms\tremaining: 1.07s\n",
      "134:\tlearn: 0.2235457\ttotal: 166ms\tremaining: 1.07s\n",
      "135:\tlearn: 0.2233352\ttotal: 168ms\tremaining: 1.06s\n",
      "136:\tlearn: 0.2229733\ttotal: 169ms\tremaining: 1.06s\n",
      "137:\tlearn: 0.2228038\ttotal: 170ms\tremaining: 1.06s\n",
      "138:\tlearn: 0.2224637\ttotal: 171ms\tremaining: 1.06s\n",
      "139:\tlearn: 0.2221656\ttotal: 171ms\tremaining: 1.05s\n",
      "140:\tlearn: 0.2219053\ttotal: 173ms\tremaining: 1.05s\n",
      "141:\tlearn: 0.2216198\ttotal: 174ms\tremaining: 1.05s\n",
      "142:\tlearn: 0.2212369\ttotal: 174ms\tremaining: 1.04s\n",
      "143:\tlearn: 0.2209979\ttotal: 175ms\tremaining: 1.04s\n",
      "144:\tlearn: 0.2206926\ttotal: 176ms\tremaining: 1.04s\n",
      "145:\tlearn: 0.2202778\ttotal: 178ms\tremaining: 1.04s\n",
      "146:\tlearn: 0.2199989\ttotal: 179ms\tremaining: 1.04s\n",
      "147:\tlearn: 0.2198142\ttotal: 180ms\tremaining: 1.03s\n",
      "148:\tlearn: 0.2196335\ttotal: 181ms\tremaining: 1.03s\n",
      "149:\tlearn: 0.2194799\ttotal: 183ms\tremaining: 1.04s\n",
      "150:\tlearn: 0.2192530\ttotal: 184ms\tremaining: 1.03s\n",
      "151:\tlearn: 0.2190635\ttotal: 185ms\tremaining: 1.03s\n",
      "152:\tlearn: 0.2188210\ttotal: 186ms\tremaining: 1.03s\n",
      "153:\tlearn: 0.2185138\ttotal: 187ms\tremaining: 1.03s\n",
      "154:\tlearn: 0.2182703\ttotal: 189ms\tremaining: 1.03s\n",
      "155:\tlearn: 0.2179279\ttotal: 190ms\tremaining: 1.03s\n",
      "156:\tlearn: 0.2175631\ttotal: 191ms\tremaining: 1.02s\n",
      "157:\tlearn: 0.2172099\ttotal: 192ms\tremaining: 1.02s\n",
      "158:\tlearn: 0.2169364\ttotal: 193ms\tremaining: 1.02s\n",
      "159:\tlearn: 0.2166971\ttotal: 194ms\tremaining: 1.02s\n",
      "160:\tlearn: 0.2164566\ttotal: 195ms\tremaining: 1.02s\n",
      "161:\tlearn: 0.2162222\ttotal: 196ms\tremaining: 1.01s\n",
      "162:\tlearn: 0.2157947\ttotal: 197ms\tremaining: 1.01s\n",
      "163:\tlearn: 0.2155849\ttotal: 199ms\tremaining: 1.01s\n",
      "164:\tlearn: 0.2153565\ttotal: 200ms\tremaining: 1.01s\n",
      "165:\tlearn: 0.2151021\ttotal: 200ms\tremaining: 1.01s\n",
      "166:\tlearn: 0.2146253\ttotal: 202ms\tremaining: 1.01s\n",
      "167:\tlearn: 0.2142923\ttotal: 204ms\tremaining: 1.01s\n",
      "168:\tlearn: 0.2139862\ttotal: 205ms\tremaining: 1.01s\n",
      "169:\tlearn: 0.2137716\ttotal: 206ms\tremaining: 1.01s\n",
      "170:\tlearn: 0.2134747\ttotal: 207ms\tremaining: 1s\n",
      "171:\tlearn: 0.2132179\ttotal: 208ms\tremaining: 1s\n",
      "172:\tlearn: 0.2129038\ttotal: 209ms\tremaining: 1s\n",
      "173:\tlearn: 0.2126239\ttotal: 210ms\tremaining: 999ms\n",
      "174:\tlearn: 0.2124176\ttotal: 211ms\tremaining: 997ms\n",
      "175:\tlearn: 0.2121515\ttotal: 212ms\tremaining: 995ms\n",
      "176:\tlearn: 0.2117175\ttotal: 213ms\tremaining: 993ms\n",
      "177:\tlearn: 0.2115080\ttotal: 215ms\tremaining: 991ms\n",
      "178:\tlearn: 0.2112942\ttotal: 216ms\tremaining: 989ms\n",
      "179:\tlearn: 0.2111370\ttotal: 217ms\tremaining: 989ms\n",
      "180:\tlearn: 0.2109207\ttotal: 218ms\tremaining: 987ms\n",
      "181:\tlearn: 0.2107775\ttotal: 219ms\tremaining: 985ms\n",
      "182:\tlearn: 0.2104099\ttotal: 220ms\tremaining: 983ms\n",
      "183:\tlearn: 0.2103135\ttotal: 221ms\tremaining: 979ms\n",
      "184:\tlearn: 0.2100626\ttotal: 222ms\tremaining: 977ms\n",
      "185:\tlearn: 0.2098451\ttotal: 223ms\tremaining: 976ms\n",
      "186:\tlearn: 0.2097099\ttotal: 224ms\tremaining: 974ms\n",
      "187:\tlearn: 0.2094735\ttotal: 225ms\tremaining: 973ms\n",
      "188:\tlearn: 0.2093270\ttotal: 226ms\tremaining: 971ms\n",
      "189:\tlearn: 0.2090039\ttotal: 227ms\tremaining: 969ms\n",
      "190:\tlearn: 0.2088745\ttotal: 228ms\tremaining: 967ms\n",
      "191:\tlearn: 0.2086142\ttotal: 229ms\tremaining: 965ms\n",
      "192:\tlearn: 0.2084350\ttotal: 230ms\tremaining: 963ms\n",
      "193:\tlearn: 0.2082222\ttotal: 231ms\tremaining: 962ms\n",
      "194:\tlearn: 0.2080602\ttotal: 232ms\tremaining: 960ms\n",
      "195:\tlearn: 0.2079417\ttotal: 234ms\tremaining: 959ms\n",
      "196:\tlearn: 0.2078032\ttotal: 235ms\tremaining: 957ms\n",
      "197:\tlearn: 0.2075600\ttotal: 236ms\tremaining: 956ms\n",
      "198:\tlearn: 0.2074020\ttotal: 237ms\tremaining: 954ms\n",
      "199:\tlearn: 0.2071170\ttotal: 238ms\tremaining: 952ms\n",
      "200:\tlearn: 0.2068592\ttotal: 239ms\tremaining: 951ms\n",
      "201:\tlearn: 0.2064741\ttotal: 240ms\tremaining: 949ms\n",
      "202:\tlearn: 0.2063321\ttotal: 241ms\tremaining: 947ms\n",
      "203:\tlearn: 0.2061614\ttotal: 242ms\tremaining: 946ms\n",
      "204:\tlearn: 0.2060120\ttotal: 244ms\tremaining: 944ms\n",
      "205:\tlearn: 0.2057549\ttotal: 245ms\tremaining: 943ms\n",
      "206:\tlearn: 0.2055757\ttotal: 246ms\tremaining: 941ms\n",
      "207:\tlearn: 0.2053875\ttotal: 246ms\tremaining: 939ms\n",
      "208:\tlearn: 0.2051303\ttotal: 247ms\tremaining: 937ms\n",
      "209:\tlearn: 0.2047826\ttotal: 248ms\tremaining: 935ms\n",
      "210:\tlearn: 0.2046424\ttotal: 249ms\tremaining: 933ms\n",
      "211:\tlearn: 0.2043558\ttotal: 250ms\tremaining: 931ms\n",
      "212:\tlearn: 0.2041886\ttotal: 251ms\tremaining: 929ms\n",
      "213:\tlearn: 0.2039533\ttotal: 252ms\tremaining: 927ms\n",
      "214:\tlearn: 0.2038622\ttotal: 253ms\tremaining: 925ms\n",
      "215:\tlearn: 0.2037719\ttotal: 255ms\tremaining: 924ms\n",
      "216:\tlearn: 0.2035542\ttotal: 256ms\tremaining: 922ms\n",
      "217:\tlearn: 0.2034214\ttotal: 257ms\tremaining: 921ms\n",
      "218:\tlearn: 0.2031429\ttotal: 258ms\tremaining: 919ms\n",
      "219:\tlearn: 0.2030420\ttotal: 259ms\tremaining: 918ms\n",
      "220:\tlearn: 0.2029561\ttotal: 260ms\tremaining: 916ms\n",
      "221:\tlearn: 0.2025962\ttotal: 261ms\tremaining: 915ms\n",
      "222:\tlearn: 0.2023798\ttotal: 262ms\tremaining: 913ms\n",
      "223:\tlearn: 0.2020776\ttotal: 263ms\tremaining: 911ms\n",
      "224:\tlearn: 0.2019395\ttotal: 264ms\tremaining: 909ms\n",
      "225:\tlearn: 0.2017937\ttotal: 265ms\tremaining: 907ms\n",
      "226:\tlearn: 0.2015632\ttotal: 266ms\tremaining: 906ms\n",
      "227:\tlearn: 0.2013785\ttotal: 267ms\tremaining: 904ms\n",
      "228:\tlearn: 0.2011319\ttotal: 268ms\tremaining: 903ms\n",
      "229:\tlearn: 0.2008936\ttotal: 269ms\tremaining: 901ms\n",
      "230:\tlearn: 0.2007696\ttotal: 270ms\tremaining: 900ms\n",
      "231:\tlearn: 0.2005401\ttotal: 271ms\tremaining: 898ms\n",
      "232:\tlearn: 0.2003670\ttotal: 272ms\tremaining: 897ms\n",
      "233:\tlearn: 0.2002680\ttotal: 273ms\tremaining: 895ms\n",
      "234:\tlearn: 0.2000432\ttotal: 274ms\tremaining: 893ms\n",
      "235:\tlearn: 0.1999790\ttotal: 275ms\tremaining: 891ms\n",
      "236:\tlearn: 0.1998917\ttotal: 276ms\tremaining: 889ms\n",
      "237:\tlearn: 0.1997127\ttotal: 277ms\tremaining: 887ms\n",
      "238:\tlearn: 0.1996331\ttotal: 278ms\tremaining: 885ms\n",
      "239:\tlearn: 0.1993203\ttotal: 279ms\tremaining: 884ms\n",
      "240:\tlearn: 0.1990862\ttotal: 280ms\tremaining: 882ms\n",
      "241:\tlearn: 0.1989470\ttotal: 281ms\tremaining: 881ms\n",
      "242:\tlearn: 0.1988500\ttotal: 282ms\tremaining: 879ms\n",
      "243:\tlearn: 0.1986144\ttotal: 283ms\tremaining: 878ms\n",
      "244:\tlearn: 0.1984161\ttotal: 284ms\tremaining: 876ms\n",
      "245:\tlearn: 0.1982109\ttotal: 285ms\tremaining: 875ms\n",
      "246:\tlearn: 0.1980797\ttotal: 286ms\tremaining: 873ms\n",
      "247:\tlearn: 0.1979686\ttotal: 287ms\tremaining: 872ms\n",
      "248:\tlearn: 0.1978632\ttotal: 288ms\tremaining: 870ms\n",
      "249:\tlearn: 0.1975920\ttotal: 289ms\tremaining: 868ms\n",
      "250:\tlearn: 0.1975324\ttotal: 290ms\tremaining: 867ms\n",
      "251:\tlearn: 0.1972246\ttotal: 291ms\tremaining: 865ms\n",
      "252:\tlearn: 0.1971784\ttotal: 292ms\tremaining: 863ms\n",
      "253:\tlearn: 0.1969731\ttotal: 293ms\tremaining: 862ms\n",
      "254:\tlearn: 0.1966956\ttotal: 294ms\tremaining: 860ms\n",
      "255:\tlearn: 0.1966041\ttotal: 295ms\tremaining: 859ms\n",
      "256:\tlearn: 0.1965451\ttotal: 296ms\tremaining: 857ms\n",
      "257:\tlearn: 0.1962189\ttotal: 298ms\tremaining: 856ms\n",
      "258:\tlearn: 0.1961230\ttotal: 299ms\tremaining: 855ms\n",
      "259:\tlearn: 0.1960523\ttotal: 300ms\tremaining: 853ms\n",
      "260:\tlearn: 0.1958256\ttotal: 301ms\tremaining: 852ms\n",
      "261:\tlearn: 0.1957563\ttotal: 302ms\tremaining: 850ms\n",
      "262:\tlearn: 0.1954522\ttotal: 303ms\tremaining: 848ms\n",
      "263:\tlearn: 0.1952803\ttotal: 304ms\tremaining: 846ms\n",
      "264:\tlearn: 0.1951629\ttotal: 304ms\tremaining: 844ms\n",
      "265:\tlearn: 0.1950251\ttotal: 305ms\tremaining: 843ms\n",
      "266:\tlearn: 0.1949041\ttotal: 307ms\tremaining: 842ms\n",
      "267:\tlearn: 0.1948580\ttotal: 307ms\tremaining: 839ms\n",
      "268:\tlearn: 0.1945204\ttotal: 308ms\tremaining: 837ms\n",
      "269:\tlearn: 0.1944441\ttotal: 309ms\tremaining: 836ms\n",
      "270:\tlearn: 0.1943432\ttotal: 310ms\tremaining: 834ms\n",
      "271:\tlearn: 0.1941912\ttotal: 311ms\tremaining: 833ms\n",
      "272:\tlearn: 0.1941348\ttotal: 312ms\tremaining: 831ms\n",
      "273:\tlearn: 0.1940432\ttotal: 313ms\tremaining: 830ms\n",
      "274:\tlearn: 0.1938832\ttotal: 314ms\tremaining: 828ms\n",
      "275:\tlearn: 0.1937228\ttotal: 315ms\tremaining: 826ms\n",
      "276:\tlearn: 0.1935566\ttotal: 316ms\tremaining: 824ms\n",
      "277:\tlearn: 0.1935040\ttotal: 317ms\tremaining: 823ms\n",
      "278:\tlearn: 0.1933809\ttotal: 318ms\tremaining: 821ms\n",
      "279:\tlearn: 0.1932934\ttotal: 319ms\tremaining: 820ms\n",
      "280:\tlearn: 0.1931763\ttotal: 320ms\tremaining: 818ms\n",
      "281:\tlearn: 0.1928643\ttotal: 321ms\tremaining: 816ms\n",
      "282:\tlearn: 0.1928129\ttotal: 322ms\tremaining: 815ms\n",
      "283:\tlearn: 0.1926535\ttotal: 322ms\tremaining: 813ms\n",
      "284:\tlearn: 0.1925645\ttotal: 324ms\tremaining: 812ms\n",
      "285:\tlearn: 0.1923650\ttotal: 325ms\tremaining: 811ms\n",
      "286:\tlearn: 0.1922444\ttotal: 326ms\tremaining: 810ms\n",
      "287:\tlearn: 0.1921963\ttotal: 327ms\tremaining: 808ms\n",
      "288:\tlearn: 0.1921617\ttotal: 328ms\tremaining: 806ms\n",
      "289:\tlearn: 0.1921171\ttotal: 328ms\tremaining: 804ms\n",
      "290:\tlearn: 0.1919736\ttotal: 329ms\tremaining: 803ms\n",
      "291:\tlearn: 0.1919261\ttotal: 331ms\tremaining: 802ms\n",
      "292:\tlearn: 0.1918362\ttotal: 332ms\tremaining: 801ms\n"
     ]
    },
    {
     "name": "stdout",
     "output_type": "stream",
     "text": [
      "293:\tlearn: 0.1916534\ttotal: 333ms\tremaining: 800ms\n",
      "294:\tlearn: 0.1915940\ttotal: 334ms\tremaining: 799ms\n",
      "295:\tlearn: 0.1915458\ttotal: 335ms\tremaining: 797ms\n",
      "296:\tlearn: 0.1915004\ttotal: 336ms\tremaining: 796ms\n",
      "297:\tlearn: 0.1914730\ttotal: 337ms\tremaining: 794ms\n",
      "298:\tlearn: 0.1914409\ttotal: 338ms\tremaining: 791ms\n",
      "299:\tlearn: 0.1912254\ttotal: 338ms\tremaining: 790ms\n",
      "300:\tlearn: 0.1911527\ttotal: 339ms\tremaining: 788ms\n",
      "301:\tlearn: 0.1910787\ttotal: 340ms\tremaining: 787ms\n",
      "302:\tlearn: 0.1909894\ttotal: 341ms\tremaining: 785ms\n",
      "303:\tlearn: 0.1908946\ttotal: 342ms\tremaining: 783ms\n",
      "304:\tlearn: 0.1908529\ttotal: 344ms\tremaining: 783ms\n",
      "305:\tlearn: 0.1906787\ttotal: 345ms\tremaining: 781ms\n",
      "306:\tlearn: 0.1906348\ttotal: 345ms\tremaining: 780ms\n",
      "307:\tlearn: 0.1905458\ttotal: 346ms\tremaining: 778ms\n",
      "308:\tlearn: 0.1904955\ttotal: 347ms\tremaining: 777ms\n",
      "309:\tlearn: 0.1904252\ttotal: 348ms\tremaining: 775ms\n",
      "310:\tlearn: 0.1903938\ttotal: 349ms\tremaining: 773ms\n",
      "311:\tlearn: 0.1902529\ttotal: 350ms\tremaining: 772ms\n",
      "312:\tlearn: 0.1902182\ttotal: 351ms\tremaining: 771ms\n",
      "313:\tlearn: 0.1900118\ttotal: 353ms\tremaining: 772ms\n",
      "314:\tlearn: 0.1899883\ttotal: 354ms\tremaining: 770ms\n",
      "315:\tlearn: 0.1898227\ttotal: 355ms\tremaining: 769ms\n",
      "316:\tlearn: 0.1897917\ttotal: 356ms\tremaining: 768ms\n",
      "317:\tlearn: 0.1897583\ttotal: 357ms\tremaining: 766ms\n",
      "318:\tlearn: 0.1896916\ttotal: 358ms\tremaining: 764ms\n",
      "319:\tlearn: 0.1893896\ttotal: 359ms\tremaining: 763ms\n",
      "320:\tlearn: 0.1893445\ttotal: 360ms\tremaining: 762ms\n",
      "321:\tlearn: 0.1893140\ttotal: 361ms\tremaining: 760ms\n",
      "322:\tlearn: 0.1892727\ttotal: 362ms\tremaining: 759ms\n",
      "323:\tlearn: 0.1892302\ttotal: 363ms\tremaining: 757ms\n",
      "324:\tlearn: 0.1892069\ttotal: 364ms\tremaining: 755ms\n",
      "325:\tlearn: 0.1890169\ttotal: 364ms\tremaining: 754ms\n",
      "326:\tlearn: 0.1889223\ttotal: 366ms\tremaining: 753ms\n",
      "327:\tlearn: 0.1888994\ttotal: 367ms\tremaining: 751ms\n",
      "328:\tlearn: 0.1888728\ttotal: 367ms\tremaining: 750ms\n",
      "329:\tlearn: 0.1886615\ttotal: 368ms\tremaining: 748ms\n",
      "330:\tlearn: 0.1886086\ttotal: 369ms\tremaining: 747ms\n",
      "331:\tlearn: 0.1885763\ttotal: 370ms\tremaining: 745ms\n",
      "332:\tlearn: 0.1883600\ttotal: 371ms\tremaining: 743ms\n",
      "333:\tlearn: 0.1883289\ttotal: 372ms\tremaining: 742ms\n",
      "334:\tlearn: 0.1883031\ttotal: 373ms\tremaining: 740ms\n",
      "335:\tlearn: 0.1880697\ttotal: 374ms\tremaining: 739ms\n",
      "336:\tlearn: 0.1878922\ttotal: 375ms\tremaining: 737ms\n",
      "337:\tlearn: 0.1877151\ttotal: 376ms\tremaining: 736ms\n",
      "338:\tlearn: 0.1874291\ttotal: 377ms\tremaining: 735ms\n",
      "339:\tlearn: 0.1874034\ttotal: 377ms\tremaining: 732ms\n",
      "340:\tlearn: 0.1873296\ttotal: 378ms\tremaining: 731ms\n",
      "341:\tlearn: 0.1872382\ttotal: 379ms\tremaining: 730ms\n",
      "342:\tlearn: 0.1872152\ttotal: 380ms\tremaining: 729ms\n",
      "343:\tlearn: 0.1871932\ttotal: 381ms\tremaining: 727ms\n",
      "344:\tlearn: 0.1871730\ttotal: 382ms\tremaining: 725ms\n",
      "345:\tlearn: 0.1868391\ttotal: 383ms\tremaining: 724ms\n",
      "346:\tlearn: 0.1866607\ttotal: 384ms\tremaining: 722ms\n",
      "347:\tlearn: 0.1863782\ttotal: 385ms\tremaining: 721ms\n",
      "348:\tlearn: 0.1860666\ttotal: 386ms\tremaining: 719ms\n",
      "349:\tlearn: 0.1856814\ttotal: 387ms\tremaining: 718ms\n",
      "350:\tlearn: 0.1856537\ttotal: 388ms\tremaining: 717ms\n",
      "351:\tlearn: 0.1856343\ttotal: 389ms\tremaining: 715ms\n",
      "352:\tlearn: 0.1856193\ttotal: 389ms\tremaining: 714ms\n",
      "353:\tlearn: 0.1855890\ttotal: 390ms\tremaining: 713ms\n",
      "354:\tlearn: 0.1854463\ttotal: 391ms\tremaining: 711ms\n",
      "355:\tlearn: 0.1853836\ttotal: 392ms\tremaining: 710ms\n",
      "356:\tlearn: 0.1853669\ttotal: 394ms\tremaining: 709ms\n",
      "357:\tlearn: 0.1853514\ttotal: 395ms\tremaining: 708ms\n",
      "358:\tlearn: 0.1850742\ttotal: 396ms\tremaining: 706ms\n",
      "359:\tlearn: 0.1848380\ttotal: 396ms\tremaining: 705ms\n",
      "360:\tlearn: 0.1848262\ttotal: 397ms\tremaining: 703ms\n",
      "361:\tlearn: 0.1848092\ttotal: 398ms\tremaining: 702ms\n",
      "362:\tlearn: 0.1847966\ttotal: 399ms\tremaining: 700ms\n",
      "363:\tlearn: 0.1847444\ttotal: 400ms\tremaining: 699ms\n",
      "364:\tlearn: 0.1846045\ttotal: 401ms\tremaining: 698ms\n",
      "365:\tlearn: 0.1844135\ttotal: 402ms\tremaining: 696ms\n",
      "366:\tlearn: 0.1841617\ttotal: 403ms\tremaining: 695ms\n",
      "367:\tlearn: 0.1841484\ttotal: 404ms\tremaining: 694ms\n",
      "368:\tlearn: 0.1839675\ttotal: 405ms\tremaining: 693ms\n",
      "369:\tlearn: 0.1837426\ttotal: 406ms\tremaining: 691ms\n",
      "370:\tlearn: 0.1836041\ttotal: 407ms\tremaining: 690ms\n",
      "371:\tlearn: 0.1833236\ttotal: 408ms\tremaining: 689ms\n",
      "372:\tlearn: 0.1831290\ttotal: 409ms\tremaining: 688ms\n",
      "373:\tlearn: 0.1831151\ttotal: 410ms\tremaining: 686ms\n",
      "374:\tlearn: 0.1828455\ttotal: 411ms\tremaining: 685ms\n",
      "375:\tlearn: 0.1827400\ttotal: 412ms\tremaining: 684ms\n",
      "376:\tlearn: 0.1826675\ttotal: 413ms\tremaining: 682ms\n",
      "377:\tlearn: 0.1823155\ttotal: 414ms\tremaining: 681ms\n",
      "378:\tlearn: 0.1823027\ttotal: 415ms\tremaining: 680ms\n",
      "379:\tlearn: 0.1822196\ttotal: 416ms\tremaining: 678ms\n",
      "380:\tlearn: 0.1821136\ttotal: 417ms\tremaining: 677ms\n",
      "381:\tlearn: 0.1820543\ttotal: 418ms\tremaining: 676ms\n",
      "382:\tlearn: 0.1820032\ttotal: 419ms\tremaining: 675ms\n",
      "383:\tlearn: 0.1818777\ttotal: 420ms\tremaining: 674ms\n",
      "384:\tlearn: 0.1818325\ttotal: 421ms\tremaining: 672ms\n",
      "385:\tlearn: 0.1816656\ttotal: 422ms\tremaining: 671ms\n",
      "386:\tlearn: 0.1816523\ttotal: 423ms\tremaining: 669ms\n",
      "387:\tlearn: 0.1814761\ttotal: 424ms\tremaining: 668ms\n",
      "388:\tlearn: 0.1812933\ttotal: 425ms\tremaining: 667ms\n",
      "389:\tlearn: 0.1811608\ttotal: 426ms\tremaining: 666ms\n",
      "390:\tlearn: 0.1809745\ttotal: 427ms\tremaining: 665ms\n",
      "391:\tlearn: 0.1809625\ttotal: 428ms\tremaining: 663ms\n",
      "392:\tlearn: 0.1809213\ttotal: 428ms\tremaining: 662ms\n",
      "393:\tlearn: 0.1807459\ttotal: 429ms\tremaining: 660ms\n",
      "394:\tlearn: 0.1806310\ttotal: 430ms\tremaining: 659ms\n",
      "395:\tlearn: 0.1804599\ttotal: 431ms\tremaining: 658ms\n",
      "396:\tlearn: 0.1804429\ttotal: 432ms\tremaining: 657ms\n",
      "397:\tlearn: 0.1803450\ttotal: 433ms\tremaining: 655ms\n",
      "398:\tlearn: 0.1803332\ttotal: 434ms\tremaining: 654ms\n",
      "399:\tlearn: 0.1801668\ttotal: 435ms\tremaining: 653ms\n",
      "400:\tlearn: 0.1800719\ttotal: 436ms\tremaining: 651ms\n",
      "401:\tlearn: 0.1799237\ttotal: 437ms\tremaining: 650ms\n",
      "402:\tlearn: 0.1797371\ttotal: 438ms\tremaining: 649ms\n",
      "403:\tlearn: 0.1795643\ttotal: 439ms\tremaining: 648ms\n",
      "404:\tlearn: 0.1795056\ttotal: 440ms\tremaining: 647ms\n",
      "405:\tlearn: 0.1794248\ttotal: 441ms\tremaining: 645ms\n",
      "406:\tlearn: 0.1794089\ttotal: 442ms\tremaining: 644ms\n",
      "407:\tlearn: 0.1791036\ttotal: 443ms\tremaining: 643ms\n",
      "408:\tlearn: 0.1790651\ttotal: 444ms\tremaining: 641ms\n",
      "409:\tlearn: 0.1789047\ttotal: 455ms\tremaining: 655ms\n",
      "410:\tlearn: 0.1787133\ttotal: 457ms\tremaining: 655ms\n",
      "411:\tlearn: 0.1784889\ttotal: 458ms\tremaining: 653ms\n",
      "412:\tlearn: 0.1784089\ttotal: 459ms\tremaining: 652ms\n",
      "413:\tlearn: 0.1781857\ttotal: 460ms\tremaining: 651ms\n",
      "414:\tlearn: 0.1781718\ttotal: 462ms\tremaining: 651ms\n",
      "415:\tlearn: 0.1781609\ttotal: 464ms\tremaining: 651ms\n",
      "416:\tlearn: 0.1778801\ttotal: 466ms\tremaining: 652ms\n",
      "417:\tlearn: 0.1778684\ttotal: 468ms\tremaining: 651ms\n",
      "418:\tlearn: 0.1778594\ttotal: 470ms\tremaining: 651ms\n",
      "419:\tlearn: 0.1778483\ttotal: 484ms\tremaining: 669ms\n",
      "420:\tlearn: 0.1776347\ttotal: 488ms\tremaining: 672ms\n",
      "421:\tlearn: 0.1774001\ttotal: 491ms\tremaining: 673ms\n",
      "422:\tlearn: 0.1771610\ttotal: 493ms\tremaining: 672ms\n",
      "423:\tlearn: 0.1769540\ttotal: 495ms\tremaining: 673ms\n",
      "424:\tlearn: 0.1767404\ttotal: 498ms\tremaining: 673ms\n",
      "425:\tlearn: 0.1767254\ttotal: 500ms\tremaining: 674ms\n",
      "426:\tlearn: 0.1767148\ttotal: 502ms\tremaining: 674ms\n",
      "427:\tlearn: 0.1765181\ttotal: 504ms\tremaining: 673ms\n",
      "428:\tlearn: 0.1763889\ttotal: 505ms\tremaining: 672ms\n",
      "429:\tlearn: 0.1762743\ttotal: 507ms\tremaining: 671ms\n",
      "430:\tlearn: 0.1761112\ttotal: 508ms\tremaining: 671ms\n",
      "431:\tlearn: 0.1761024\ttotal: 509ms\tremaining: 669ms\n",
      "432:\tlearn: 0.1759920\ttotal: 510ms\tremaining: 668ms\n",
      "433:\tlearn: 0.1758958\ttotal: 511ms\tremaining: 667ms\n",
      "434:\tlearn: 0.1758842\ttotal: 512ms\tremaining: 665ms\n",
      "435:\tlearn: 0.1758740\ttotal: 513ms\tremaining: 664ms\n",
      "436:\tlearn: 0.1756878\ttotal: 515ms\tremaining: 663ms\n",
      "437:\tlearn: 0.1755704\ttotal: 516ms\tremaining: 662ms\n",
      "438:\tlearn: 0.1753415\ttotal: 517ms\tremaining: 660ms\n",
      "439:\tlearn: 0.1750939\ttotal: 518ms\tremaining: 659ms\n",
      "440:\tlearn: 0.1749008\ttotal: 519ms\tremaining: 658ms\n",
      "441:\tlearn: 0.1748932\ttotal: 521ms\tremaining: 657ms\n",
      "442:\tlearn: 0.1746533\ttotal: 522ms\tremaining: 656ms\n",
      "443:\tlearn: 0.1745032\ttotal: 523ms\tremaining: 655ms\n",
      "444:\tlearn: 0.1744187\ttotal: 524ms\tremaining: 654ms\n",
      "445:\tlearn: 0.1743012\ttotal: 525ms\tremaining: 652ms\n",
      "446:\tlearn: 0.1740056\ttotal: 526ms\tremaining: 651ms\n",
      "447:\tlearn: 0.1738150\ttotal: 528ms\tremaining: 651ms\n",
      "448:\tlearn: 0.1738079\ttotal: 529ms\tremaining: 650ms\n",
      "449:\tlearn: 0.1737976\ttotal: 530ms\tremaining: 648ms\n",
      "450:\tlearn: 0.1736374\ttotal: 531ms\tremaining: 647ms\n",
      "451:\tlearn: 0.1735413\ttotal: 532ms\tremaining: 646ms\n",
      "452:\tlearn: 0.1733867\ttotal: 534ms\tremaining: 644ms\n",
      "453:\tlearn: 0.1731271\ttotal: 535ms\tremaining: 643ms\n",
      "454:\tlearn: 0.1729123\ttotal: 536ms\tremaining: 642ms\n",
      "455:\tlearn: 0.1728027\ttotal: 537ms\tremaining: 641ms\n",
      "456:\tlearn: 0.1727948\ttotal: 538ms\tremaining: 639ms\n",
      "457:\tlearn: 0.1725370\ttotal: 539ms\tremaining: 638ms\n",
      "458:\tlearn: 0.1723942\ttotal: 541ms\tremaining: 637ms\n",
      "459:\tlearn: 0.1722712\ttotal: 542ms\tremaining: 636ms\n",
      "460:\tlearn: 0.1722620\ttotal: 543ms\tremaining: 635ms\n",
      "461:\tlearn: 0.1720648\ttotal: 545ms\tremaining: 634ms\n",
      "462:\tlearn: 0.1719705\ttotal: 545ms\tremaining: 633ms\n",
      "463:\tlearn: 0.1718001\ttotal: 546ms\tremaining: 631ms\n",
      "464:\tlearn: 0.1717473\ttotal: 548ms\tremaining: 630ms\n",
      "465:\tlearn: 0.1716143\ttotal: 549ms\tremaining: 629ms\n",
      "466:\tlearn: 0.1714263\ttotal: 550ms\tremaining: 628ms\n",
      "467:\tlearn: 0.1712205\ttotal: 551ms\tremaining: 627ms\n",
      "468:\tlearn: 0.1712132\ttotal: 552ms\tremaining: 625ms\n",
      "469:\tlearn: 0.1712028\ttotal: 554ms\tremaining: 624ms\n",
      "470:\tlearn: 0.1710558\ttotal: 555ms\tremaining: 624ms\n",
      "471:\tlearn: 0.1708837\ttotal: 557ms\tremaining: 623ms\n",
      "472:\tlearn: 0.1707205\ttotal: 558ms\tremaining: 622ms\n",
      "473:\tlearn: 0.1705354\ttotal: 560ms\tremaining: 621ms\n",
      "474:\tlearn: 0.1705273\ttotal: 560ms\tremaining: 619ms\n",
      "475:\tlearn: 0.1705078\ttotal: 561ms\tremaining: 618ms\n",
      "476:\tlearn: 0.1702842\ttotal: 563ms\tremaining: 617ms\n",
      "477:\tlearn: 0.1701269\ttotal: 564ms\tremaining: 616ms\n",
      "478:\tlearn: 0.1700221\ttotal: 565ms\tremaining: 615ms\n",
      "479:\tlearn: 0.1700129\ttotal: 566ms\tremaining: 613ms\n",
      "480:\tlearn: 0.1698101\ttotal: 568ms\tremaining: 613ms\n",
      "481:\tlearn: 0.1697995\ttotal: 569ms\tremaining: 612ms\n",
      "482:\tlearn: 0.1696907\ttotal: 571ms\tremaining: 611ms\n",
      "483:\tlearn: 0.1696634\ttotal: 572ms\tremaining: 610ms\n",
      "484:\tlearn: 0.1695576\ttotal: 574ms\tremaining: 609ms\n",
      "485:\tlearn: 0.1694330\ttotal: 575ms\tremaining: 608ms\n",
      "486:\tlearn: 0.1692692\ttotal: 576ms\tremaining: 607ms\n",
      "487:\tlearn: 0.1689795\ttotal: 578ms\tremaining: 606ms\n",
      "488:\tlearn: 0.1688824\ttotal: 579ms\tremaining: 605ms\n",
      "489:\tlearn: 0.1688649\ttotal: 580ms\tremaining: 604ms\n",
      "490:\tlearn: 0.1688205\ttotal: 582ms\tremaining: 603ms\n",
      "491:\tlearn: 0.1688138\ttotal: 583ms\tremaining: 602ms\n",
      "492:\tlearn: 0.1687112\ttotal: 585ms\tremaining: 602ms\n",
      "493:\tlearn: 0.1686281\ttotal: 587ms\tremaining: 602ms\n",
      "494:\tlearn: 0.1685081\ttotal: 589ms\tremaining: 601ms\n",
      "495:\tlearn: 0.1684492\ttotal: 590ms\tremaining: 600ms\n",
      "496:\tlearn: 0.1682761\ttotal: 591ms\tremaining: 599ms\n",
      "497:\tlearn: 0.1680956\ttotal: 593ms\tremaining: 597ms\n",
      "498:\tlearn: 0.1680161\ttotal: 594ms\tremaining: 596ms\n",
      "499:\tlearn: 0.1679740\ttotal: 595ms\tremaining: 595ms\n",
      "500:\tlearn: 0.1679656\ttotal: 596ms\tremaining: 594ms\n",
      "501:\tlearn: 0.1679572\ttotal: 598ms\tremaining: 593ms\n",
      "502:\tlearn: 0.1678744\ttotal: 600ms\tremaining: 593ms\n",
      "503:\tlearn: 0.1678657\ttotal: 601ms\tremaining: 592ms\n",
      "504:\tlearn: 0.1678262\ttotal: 604ms\tremaining: 592ms\n",
      "505:\tlearn: 0.1677233\ttotal: 605ms\tremaining: 591ms\n",
      "506:\tlearn: 0.1676281\ttotal: 606ms\tremaining: 590ms\n",
      "507:\tlearn: 0.1676176\ttotal: 608ms\tremaining: 589ms\n",
      "508:\tlearn: 0.1674660\ttotal: 610ms\tremaining: 588ms\n",
      "509:\tlearn: 0.1674289\ttotal: 612ms\tremaining: 588ms\n",
      "510:\tlearn: 0.1674219\ttotal: 613ms\tremaining: 587ms\n",
      "511:\tlearn: 0.1673642\ttotal: 615ms\tremaining: 586ms\n",
      "512:\tlearn: 0.1672826\ttotal: 617ms\tremaining: 586ms\n",
      "513:\tlearn: 0.1672752\ttotal: 619ms\tremaining: 585ms\n",
      "514:\tlearn: 0.1671542\ttotal: 620ms\tremaining: 584ms\n",
      "515:\tlearn: 0.1670129\ttotal: 622ms\tremaining: 583ms\n",
      "516:\tlearn: 0.1670044\ttotal: 623ms\tremaining: 582ms\n",
      "517:\tlearn: 0.1669346\ttotal: 624ms\tremaining: 581ms\n",
      "518:\tlearn: 0.1667827\ttotal: 626ms\tremaining: 580ms\n",
      "519:\tlearn: 0.1666297\ttotal: 627ms\tremaining: 579ms\n",
      "520:\tlearn: 0.1664837\ttotal: 629ms\tremaining: 578ms\n",
      "521:\tlearn: 0.1663447\ttotal: 630ms\tremaining: 577ms\n",
      "522:\tlearn: 0.1662347\ttotal: 631ms\tremaining: 576ms\n",
      "523:\tlearn: 0.1660839\ttotal: 633ms\tremaining: 575ms\n",
      "524:\tlearn: 0.1658611\ttotal: 634ms\tremaining: 574ms\n",
      "525:\tlearn: 0.1656610\ttotal: 635ms\tremaining: 573ms\n",
      "526:\tlearn: 0.1656541\ttotal: 636ms\tremaining: 571ms\n",
      "527:\tlearn: 0.1656477\ttotal: 638ms\tremaining: 570ms\n",
      "528:\tlearn: 0.1656300\ttotal: 640ms\tremaining: 569ms\n",
      "529:\tlearn: 0.1656047\ttotal: 641ms\tremaining: 569ms\n",
      "530:\tlearn: 0.1655293\ttotal: 643ms\tremaining: 568ms\n",
      "531:\tlearn: 0.1655235\ttotal: 644ms\tremaining: 567ms\n",
      "532:\tlearn: 0.1653790\ttotal: 646ms\tremaining: 566ms\n",
      "533:\tlearn: 0.1652668\ttotal: 647ms\tremaining: 565ms\n",
      "534:\tlearn: 0.1652425\ttotal: 648ms\tremaining: 563ms\n",
      "535:\tlearn: 0.1650273\ttotal: 649ms\tremaining: 562ms\n",
      "536:\tlearn: 0.1650192\ttotal: 650ms\tremaining: 561ms\n",
      "537:\tlearn: 0.1648564\ttotal: 651ms\tremaining: 559ms\n",
      "538:\tlearn: 0.1647523\ttotal: 652ms\tremaining: 558ms\n",
      "539:\tlearn: 0.1646409\ttotal: 654ms\tremaining: 557ms\n",
      "540:\tlearn: 0.1646345\ttotal: 655ms\tremaining: 556ms\n",
      "541:\tlearn: 0.1644296\ttotal: 656ms\tremaining: 555ms\n",
      "542:\tlearn: 0.1643386\ttotal: 665ms\tremaining: 559ms\n",
      "543:\tlearn: 0.1643318\ttotal: 666ms\tremaining: 558ms\n",
      "544:\tlearn: 0.1641639\ttotal: 667ms\tremaining: 557ms\n",
      "545:\tlearn: 0.1641555\ttotal: 668ms\tremaining: 556ms\n",
      "546:\tlearn: 0.1640061\ttotal: 670ms\tremaining: 555ms\n"
     ]
    },
    {
     "name": "stdout",
     "output_type": "stream",
     "text": [
      "547:\tlearn: 0.1637787\ttotal: 672ms\tremaining: 554ms\n",
      "548:\tlearn: 0.1637620\ttotal: 673ms\tremaining: 553ms\n",
      "549:\tlearn: 0.1636139\ttotal: 674ms\tremaining: 551ms\n",
      "550:\tlearn: 0.1636049\ttotal: 675ms\tremaining: 550ms\n",
      "551:\tlearn: 0.1634241\ttotal: 676ms\tremaining: 548ms\n",
      "552:\tlearn: 0.1632863\ttotal: 677ms\tremaining: 547ms\n",
      "553:\tlearn: 0.1631764\ttotal: 679ms\tremaining: 546ms\n",
      "554:\tlearn: 0.1631322\ttotal: 680ms\tremaining: 545ms\n",
      "555:\tlearn: 0.1629777\ttotal: 681ms\tremaining: 544ms\n",
      "556:\tlearn: 0.1628830\ttotal: 682ms\tremaining: 542ms\n",
      "557:\tlearn: 0.1628763\ttotal: 683ms\tremaining: 541ms\n",
      "558:\tlearn: 0.1628705\ttotal: 684ms\tremaining: 539ms\n",
      "559:\tlearn: 0.1627773\ttotal: 685ms\tremaining: 538ms\n",
      "560:\tlearn: 0.1627710\ttotal: 686ms\tremaining: 537ms\n",
      "561:\tlearn: 0.1625849\ttotal: 687ms\tremaining: 535ms\n",
      "562:\tlearn: 0.1624160\ttotal: 688ms\tremaining: 534ms\n",
      "563:\tlearn: 0.1623314\ttotal: 690ms\tremaining: 533ms\n",
      "564:\tlearn: 0.1623267\ttotal: 691ms\tremaining: 532ms\n",
      "565:\tlearn: 0.1621867\ttotal: 692ms\tremaining: 530ms\n",
      "566:\tlearn: 0.1621054\ttotal: 693ms\tremaining: 529ms\n",
      "567:\tlearn: 0.1619357\ttotal: 694ms\tremaining: 528ms\n",
      "568:\tlearn: 0.1617821\ttotal: 695ms\tremaining: 526ms\n",
      "569:\tlearn: 0.1616881\ttotal: 696ms\tremaining: 525ms\n",
      "570:\tlearn: 0.1615065\ttotal: 697ms\tremaining: 524ms\n",
      "571:\tlearn: 0.1613601\ttotal: 698ms\tremaining: 523ms\n",
      "572:\tlearn: 0.1611688\ttotal: 700ms\tremaining: 521ms\n",
      "573:\tlearn: 0.1611521\ttotal: 701ms\tremaining: 520ms\n",
      "574:\tlearn: 0.1611458\ttotal: 703ms\tremaining: 519ms\n",
      "575:\tlearn: 0.1609764\ttotal: 704ms\tremaining: 518ms\n",
      "576:\tlearn: 0.1608093\ttotal: 705ms\tremaining: 517ms\n",
      "577:\tlearn: 0.1607939\ttotal: 706ms\tremaining: 515ms\n",
      "578:\tlearn: 0.1607444\ttotal: 707ms\tremaining: 514ms\n",
      "579:\tlearn: 0.1607207\ttotal: 708ms\tremaining: 513ms\n",
      "580:\tlearn: 0.1606139\ttotal: 710ms\tremaining: 512ms\n",
      "581:\tlearn: 0.1605225\ttotal: 711ms\tremaining: 510ms\n",
      "582:\tlearn: 0.1604425\ttotal: 712ms\tremaining: 509ms\n",
      "583:\tlearn: 0.1603446\ttotal: 713ms\tremaining: 508ms\n",
      "584:\tlearn: 0.1603394\ttotal: 714ms\tremaining: 506ms\n",
      "585:\tlearn: 0.1603334\ttotal: 715ms\tremaining: 505ms\n",
      "586:\tlearn: 0.1602967\ttotal: 716ms\tremaining: 504ms\n",
      "587:\tlearn: 0.1601115\ttotal: 718ms\tremaining: 503ms\n",
      "588:\tlearn: 0.1601055\ttotal: 719ms\tremaining: 501ms\n",
      "589:\tlearn: 0.1600140\ttotal: 719ms\tremaining: 500ms\n",
      "590:\tlearn: 0.1598470\ttotal: 720ms\tremaining: 499ms\n",
      "591:\tlearn: 0.1598408\ttotal: 721ms\tremaining: 497ms\n",
      "592:\tlearn: 0.1598349\ttotal: 722ms\tremaining: 496ms\n",
      "593:\tlearn: 0.1597457\ttotal: 723ms\tremaining: 494ms\n",
      "594:\tlearn: 0.1596146\ttotal: 724ms\tremaining: 493ms\n",
      "595:\tlearn: 0.1595885\ttotal: 725ms\tremaining: 492ms\n",
      "596:\tlearn: 0.1595834\ttotal: 726ms\tremaining: 490ms\n",
      "597:\tlearn: 0.1595759\ttotal: 727ms\tremaining: 489ms\n",
      "598:\tlearn: 0.1594051\ttotal: 728ms\tremaining: 488ms\n",
      "599:\tlearn: 0.1592783\ttotal: 729ms\tremaining: 486ms\n",
      "600:\tlearn: 0.1591246\ttotal: 730ms\tremaining: 485ms\n",
      "601:\tlearn: 0.1589963\ttotal: 731ms\tremaining: 484ms\n",
      "602:\tlearn: 0.1589873\ttotal: 732ms\tremaining: 482ms\n",
      "603:\tlearn: 0.1588860\ttotal: 733ms\tremaining: 481ms\n",
      "604:\tlearn: 0.1588750\ttotal: 734ms\tremaining: 479ms\n",
      "605:\tlearn: 0.1587716\ttotal: 735ms\tremaining: 478ms\n",
      "606:\tlearn: 0.1586881\ttotal: 736ms\tremaining: 477ms\n",
      "607:\tlearn: 0.1585332\ttotal: 737ms\tremaining: 475ms\n",
      "608:\tlearn: 0.1583995\ttotal: 738ms\tremaining: 474ms\n",
      "609:\tlearn: 0.1582341\ttotal: 739ms\tremaining: 473ms\n",
      "610:\tlearn: 0.1581396\ttotal: 740ms\tremaining: 471ms\n",
      "611:\tlearn: 0.1580289\ttotal: 741ms\tremaining: 470ms\n",
      "612:\tlearn: 0.1578935\ttotal: 742ms\tremaining: 468ms\n",
      "613:\tlearn: 0.1578187\ttotal: 743ms\tremaining: 467ms\n",
      "614:\tlearn: 0.1576959\ttotal: 744ms\tremaining: 466ms\n",
      "615:\tlearn: 0.1576895\ttotal: 745ms\tremaining: 464ms\n",
      "616:\tlearn: 0.1576854\ttotal: 746ms\tremaining: 463ms\n",
      "617:\tlearn: 0.1576550\ttotal: 747ms\tremaining: 461ms\n",
      "618:\tlearn: 0.1576077\ttotal: 748ms\tremaining: 460ms\n",
      "619:\tlearn: 0.1575803\ttotal: 748ms\tremaining: 459ms\n",
      "620:\tlearn: 0.1574381\ttotal: 750ms\tremaining: 457ms\n",
      "621:\tlearn: 0.1574256\ttotal: 751ms\tremaining: 456ms\n",
      "622:\tlearn: 0.1573189\ttotal: 752ms\tremaining: 455ms\n",
      "623:\tlearn: 0.1572661\ttotal: 753ms\tremaining: 453ms\n",
      "624:\tlearn: 0.1571861\ttotal: 754ms\tremaining: 452ms\n",
      "625:\tlearn: 0.1570726\ttotal: 755ms\tremaining: 451ms\n",
      "626:\tlearn: 0.1569889\ttotal: 756ms\tremaining: 450ms\n",
      "627:\tlearn: 0.1568045\ttotal: 757ms\tremaining: 448ms\n",
      "628:\tlearn: 0.1567423\ttotal: 758ms\tremaining: 447ms\n",
      "629:\tlearn: 0.1567286\ttotal: 759ms\tremaining: 446ms\n",
      "630:\tlearn: 0.1565709\ttotal: 760ms\tremaining: 444ms\n",
      "631:\tlearn: 0.1564775\ttotal: 761ms\tremaining: 443ms\n",
      "632:\tlearn: 0.1564715\ttotal: 762ms\tremaining: 442ms\n",
      "633:\tlearn: 0.1563617\ttotal: 763ms\tremaining: 440ms\n",
      "634:\tlearn: 0.1562071\ttotal: 764ms\tremaining: 439ms\n",
      "635:\tlearn: 0.1562033\ttotal: 765ms\tremaining: 438ms\n",
      "636:\tlearn: 0.1560527\ttotal: 766ms\tremaining: 436ms\n",
      "637:\tlearn: 0.1559196\ttotal: 767ms\tremaining: 435ms\n",
      "638:\tlearn: 0.1558711\ttotal: 768ms\tremaining: 434ms\n",
      "639:\tlearn: 0.1558627\ttotal: 769ms\tremaining: 432ms\n",
      "640:\tlearn: 0.1557841\ttotal: 770ms\tremaining: 431ms\n",
      "641:\tlearn: 0.1556498\ttotal: 771ms\tremaining: 430ms\n",
      "642:\tlearn: 0.1555945\ttotal: 772ms\tremaining: 429ms\n",
      "643:\tlearn: 0.1555333\ttotal: 773ms\tremaining: 427ms\n",
      "644:\tlearn: 0.1554586\ttotal: 774ms\tremaining: 426ms\n",
      "645:\tlearn: 0.1554483\ttotal: 775ms\tremaining: 424ms\n",
      "646:\tlearn: 0.1554426\ttotal: 776ms\tremaining: 423ms\n",
      "647:\tlearn: 0.1553662\ttotal: 777ms\tremaining: 422ms\n",
      "648:\tlearn: 0.1552446\ttotal: 778ms\tremaining: 421ms\n",
      "649:\tlearn: 0.1551413\ttotal: 779ms\tremaining: 419ms\n",
      "650:\tlearn: 0.1551362\ttotal: 780ms\tremaining: 418ms\n",
      "651:\tlearn: 0.1550917\ttotal: 781ms\tremaining: 417ms\n",
      "652:\tlearn: 0.1549598\ttotal: 782ms\tremaining: 415ms\n",
      "653:\tlearn: 0.1549542\ttotal: 783ms\tremaining: 414ms\n",
      "654:\tlearn: 0.1548092\ttotal: 784ms\tremaining: 413ms\n",
      "655:\tlearn: 0.1546849\ttotal: 785ms\tremaining: 411ms\n",
      "656:\tlearn: 0.1546154\ttotal: 785ms\tremaining: 410ms\n",
      "657:\tlearn: 0.1546079\ttotal: 786ms\tremaining: 409ms\n",
      "658:\tlearn: 0.1546033\ttotal: 787ms\tremaining: 407ms\n",
      "659:\tlearn: 0.1544638\ttotal: 788ms\tremaining: 406ms\n",
      "660:\tlearn: 0.1543616\ttotal: 789ms\tremaining: 405ms\n",
      "661:\tlearn: 0.1543568\ttotal: 790ms\tremaining: 403ms\n",
      "662:\tlearn: 0.1542295\ttotal: 791ms\tremaining: 402ms\n",
      "663:\tlearn: 0.1540742\ttotal: 792ms\tremaining: 401ms\n",
      "664:\tlearn: 0.1540297\ttotal: 793ms\tremaining: 400ms\n",
      "665:\tlearn: 0.1538693\ttotal: 794ms\tremaining: 398ms\n",
      "666:\tlearn: 0.1538512\ttotal: 795ms\tremaining: 397ms\n",
      "667:\tlearn: 0.1537240\ttotal: 796ms\tremaining: 396ms\n",
      "668:\tlearn: 0.1537014\ttotal: 797ms\tremaining: 394ms\n",
      "669:\tlearn: 0.1536970\ttotal: 798ms\tremaining: 393ms\n",
      "670:\tlearn: 0.1535898\ttotal: 799ms\tremaining: 392ms\n",
      "671:\tlearn: 0.1535442\ttotal: 801ms\tremaining: 391ms\n",
      "672:\tlearn: 0.1534229\ttotal: 802ms\tremaining: 389ms\n",
      "673:\tlearn: 0.1533515\ttotal: 802ms\tremaining: 388ms\n",
      "674:\tlearn: 0.1532842\ttotal: 803ms\tremaining: 387ms\n",
      "675:\tlearn: 0.1531722\ttotal: 804ms\tremaining: 386ms\n",
      "676:\tlearn: 0.1530434\ttotal: 805ms\tremaining: 384ms\n",
      "677:\tlearn: 0.1530395\ttotal: 807ms\tremaining: 383ms\n",
      "678:\tlearn: 0.1529144\ttotal: 807ms\tremaining: 382ms\n",
      "679:\tlearn: 0.1528533\ttotal: 808ms\tremaining: 380ms\n",
      "680:\tlearn: 0.1527223\ttotal: 809ms\tremaining: 379ms\n",
      "681:\tlearn: 0.1527172\ttotal: 810ms\tremaining: 378ms\n",
      "682:\tlearn: 0.1526341\ttotal: 811ms\tremaining: 377ms\n",
      "683:\tlearn: 0.1526298\ttotal: 812ms\tremaining: 375ms\n",
      "684:\tlearn: 0.1526122\ttotal: 813ms\tremaining: 374ms\n",
      "685:\tlearn: 0.1525171\ttotal: 814ms\tremaining: 373ms\n",
      "686:\tlearn: 0.1523936\ttotal: 815ms\tremaining: 371ms\n",
      "687:\tlearn: 0.1522735\ttotal: 816ms\tremaining: 370ms\n",
      "688:\tlearn: 0.1521845\ttotal: 817ms\tremaining: 369ms\n",
      "689:\tlearn: 0.1521209\ttotal: 818ms\tremaining: 368ms\n",
      "690:\tlearn: 0.1519949\ttotal: 819ms\tremaining: 366ms\n",
      "691:\tlearn: 0.1519082\ttotal: 820ms\tremaining: 365ms\n",
      "692:\tlearn: 0.1518239\ttotal: 821ms\tremaining: 364ms\n",
      "693:\tlearn: 0.1517013\ttotal: 822ms\tremaining: 362ms\n",
      "694:\tlearn: 0.1516608\ttotal: 823ms\tremaining: 361ms\n",
      "695:\tlearn: 0.1516012\ttotal: 824ms\tremaining: 360ms\n",
      "696:\tlearn: 0.1515922\ttotal: 825ms\tremaining: 359ms\n",
      "697:\tlearn: 0.1515085\ttotal: 826ms\tremaining: 357ms\n",
      "698:\tlearn: 0.1514599\ttotal: 827ms\tremaining: 356ms\n",
      "699:\tlearn: 0.1513221\ttotal: 828ms\tremaining: 355ms\n",
      "700:\tlearn: 0.1512615\ttotal: 829ms\tremaining: 354ms\n",
      "701:\tlearn: 0.1512585\ttotal: 830ms\tremaining: 352ms\n",
      "702:\tlearn: 0.1511261\ttotal: 831ms\tremaining: 351ms\n",
      "703:\tlearn: 0.1510421\ttotal: 832ms\tremaining: 350ms\n",
      "704:\tlearn: 0.1509309\ttotal: 833ms\tremaining: 349ms\n",
      "705:\tlearn: 0.1509093\ttotal: 834ms\tremaining: 347ms\n",
      "706:\tlearn: 0.1509066\ttotal: 835ms\tremaining: 346ms\n",
      "707:\tlearn: 0.1507931\ttotal: 836ms\tremaining: 345ms\n",
      "708:\tlearn: 0.1507344\ttotal: 837ms\tremaining: 343ms\n"
     ]
    },
    {
     "name": "stdout",
     "output_type": "stream",
     "text": [
      "709:\tlearn: 0.1506357\ttotal: 838ms\tremaining: 342ms\n",
      "710:\tlearn: 0.1506179\ttotal: 839ms\tremaining: 341ms\n",
      "711:\tlearn: 0.1506057\ttotal: 840ms\tremaining: 340ms\n",
      "712:\tlearn: 0.1504964\ttotal: 841ms\tremaining: 339ms\n",
      "713:\tlearn: 0.1504933\ttotal: 842ms\tremaining: 337ms\n",
      "714:\tlearn: 0.1504004\ttotal: 843ms\tremaining: 336ms\n",
      "715:\tlearn: 0.1503445\ttotal: 844ms\tremaining: 335ms\n",
      "716:\tlearn: 0.1503272\ttotal: 845ms\tremaining: 333ms\n",
      "717:\tlearn: 0.1503236\ttotal: 846ms\tremaining: 332ms\n",
      "718:\tlearn: 0.1502178\ttotal: 847ms\tremaining: 331ms\n",
      "719:\tlearn: 0.1502088\ttotal: 848ms\tremaining: 330ms\n",
      "720:\tlearn: 0.1501901\ttotal: 848ms\tremaining: 328ms\n",
      "721:\tlearn: 0.1501874\ttotal: 849ms\tremaining: 327ms\n",
      "722:\tlearn: 0.1501808\ttotal: 850ms\tremaining: 326ms\n",
      "723:\tlearn: 0.1500812\ttotal: 851ms\tremaining: 325ms\n",
      "724:\tlearn: 0.1500672\ttotal: 852ms\tremaining: 323ms\n",
      "725:\tlearn: 0.1500644\ttotal: 853ms\tremaining: 322ms\n",
      "726:\tlearn: 0.1500601\ttotal: 854ms\tremaining: 321ms\n",
      "727:\tlearn: 0.1499652\ttotal: 856ms\tremaining: 320ms\n",
      "728:\tlearn: 0.1499095\ttotal: 857ms\tremaining: 319ms\n",
      "729:\tlearn: 0.1498173\ttotal: 859ms\tremaining: 318ms\n",
      "730:\tlearn: 0.1496988\ttotal: 860ms\tremaining: 316ms\n",
      "731:\tlearn: 0.1496694\ttotal: 861ms\tremaining: 315ms\n",
      "732:\tlearn: 0.1495730\ttotal: 862ms\tremaining: 314ms\n",
      "733:\tlearn: 0.1494727\ttotal: 863ms\tremaining: 313ms\n",
      "734:\tlearn: 0.1494701\ttotal: 864ms\tremaining: 312ms\n",
      "735:\tlearn: 0.1494648\ttotal: 865ms\tremaining: 310ms\n",
      "736:\tlearn: 0.1494255\ttotal: 866ms\tremaining: 309ms\n",
      "737:\tlearn: 0.1493217\ttotal: 867ms\tremaining: 308ms\n",
      "738:\tlearn: 0.1492481\ttotal: 868ms\tremaining: 307ms\n",
      "739:\tlearn: 0.1492389\ttotal: 869ms\tremaining: 305ms\n",
      "740:\tlearn: 0.1491328\ttotal: 870ms\tremaining: 304ms\n",
      "741:\tlearn: 0.1490631\ttotal: 871ms\tremaining: 303ms\n",
      "742:\tlearn: 0.1489703\ttotal: 872ms\tremaining: 302ms\n",
      "743:\tlearn: 0.1488981\ttotal: 873ms\tremaining: 300ms\n",
      "744:\tlearn: 0.1488346\ttotal: 874ms\tremaining: 299ms\n",
      "745:\tlearn: 0.1487580\ttotal: 875ms\tremaining: 298ms\n",
      "746:\tlearn: 0.1487551\ttotal: 876ms\tremaining: 297ms\n",
      "747:\tlearn: 0.1487520\ttotal: 877ms\tremaining: 295ms\n",
      "748:\tlearn: 0.1486623\ttotal: 878ms\tremaining: 294ms\n",
      "749:\tlearn: 0.1486157\ttotal: 879ms\tremaining: 293ms\n",
      "750:\tlearn: 0.1485198\ttotal: 880ms\tremaining: 292ms\n",
      "751:\tlearn: 0.1485138\ttotal: 881ms\tremaining: 291ms\n",
      "752:\tlearn: 0.1485109\ttotal: 882ms\tremaining: 289ms\n",
      "753:\tlearn: 0.1484693\ttotal: 883ms\tremaining: 288ms\n",
      "754:\tlearn: 0.1484208\ttotal: 884ms\tremaining: 287ms\n",
      "755:\tlearn: 0.1482825\ttotal: 885ms\tremaining: 286ms\n",
      "756:\tlearn: 0.1482615\ttotal: 886ms\tremaining: 284ms\n",
      "757:\tlearn: 0.1482583\ttotal: 887ms\tremaining: 283ms\n",
      "758:\tlearn: 0.1480772\ttotal: 888ms\tremaining: 282ms\n",
      "759:\tlearn: 0.1480610\ttotal: 889ms\tremaining: 281ms\n",
      "760:\tlearn: 0.1479921\ttotal: 890ms\tremaining: 280ms\n",
      "761:\tlearn: 0.1478941\ttotal: 891ms\tremaining: 278ms\n",
      "762:\tlearn: 0.1478707\ttotal: 892ms\tremaining: 277ms\n",
      "763:\tlearn: 0.1477965\ttotal: 893ms\tremaining: 276ms\n",
      "764:\tlearn: 0.1476498\ttotal: 894ms\tremaining: 275ms\n",
      "765:\tlearn: 0.1476476\ttotal: 895ms\tremaining: 274ms\n",
      "766:\tlearn: 0.1475841\ttotal: 897ms\tremaining: 272ms\n",
      "767:\tlearn: 0.1475676\ttotal: 898ms\tremaining: 271ms\n",
      "768:\tlearn: 0.1475431\ttotal: 899ms\tremaining: 270ms\n",
      "769:\tlearn: 0.1475021\ttotal: 900ms\tremaining: 269ms\n",
      "770:\tlearn: 0.1473594\ttotal: 900ms\tremaining: 267ms\n",
      "771:\tlearn: 0.1471788\ttotal: 901ms\tremaining: 266ms\n",
      "772:\tlearn: 0.1471326\ttotal: 903ms\tremaining: 265ms\n",
      "773:\tlearn: 0.1470318\ttotal: 904ms\tremaining: 264ms\n",
      "774:\tlearn: 0.1469256\ttotal: 904ms\tremaining: 263ms\n",
      "775:\tlearn: 0.1468807\ttotal: 905ms\tremaining: 261ms\n",
      "776:\tlearn: 0.1467987\ttotal: 906ms\tremaining: 260ms\n",
      "777:\tlearn: 0.1467276\ttotal: 907ms\tremaining: 259ms\n",
      "778:\tlearn: 0.1467097\ttotal: 908ms\tremaining: 258ms\n",
      "779:\tlearn: 0.1466549\ttotal: 910ms\tremaining: 257ms\n",
      "780:\tlearn: 0.1465750\ttotal: 911ms\tremaining: 255ms\n",
      "781:\tlearn: 0.1465247\ttotal: 912ms\tremaining: 254ms\n",
      "782:\tlearn: 0.1464394\ttotal: 913ms\tremaining: 253ms\n",
      "783:\tlearn: 0.1462708\ttotal: 914ms\tremaining: 252ms\n",
      "784:\tlearn: 0.1461686\ttotal: 915ms\tremaining: 251ms\n",
      "785:\tlearn: 0.1461092\ttotal: 916ms\tremaining: 249ms\n",
      "786:\tlearn: 0.1460053\ttotal: 917ms\tremaining: 248ms\n",
      "787:\tlearn: 0.1459979\ttotal: 918ms\tremaining: 247ms\n",
      "788:\tlearn: 0.1459960\ttotal: 919ms\tremaining: 246ms\n",
      "789:\tlearn: 0.1459934\ttotal: 920ms\tremaining: 244ms\n",
      "790:\tlearn: 0.1459320\ttotal: 921ms\tremaining: 243ms\n",
      "791:\tlearn: 0.1458712\ttotal: 922ms\tremaining: 242ms\n",
      "792:\tlearn: 0.1457758\ttotal: 923ms\tremaining: 241ms\n",
      "793:\tlearn: 0.1457702\ttotal: 924ms\tremaining: 240ms\n",
      "794:\tlearn: 0.1456627\ttotal: 925ms\tremaining: 239ms\n",
      "795:\tlearn: 0.1456480\ttotal: 926ms\tremaining: 237ms\n",
      "796:\tlearn: 0.1455962\ttotal: 927ms\tremaining: 236ms\n",
      "797:\tlearn: 0.1455445\ttotal: 928ms\tremaining: 235ms\n",
      "798:\tlearn: 0.1455422\ttotal: 929ms\tremaining: 234ms\n",
      "799:\tlearn: 0.1454096\ttotal: 930ms\tremaining: 232ms\n",
      "800:\tlearn: 0.1453306\ttotal: 931ms\tremaining: 231ms\n",
      "801:\tlearn: 0.1452700\ttotal: 932ms\tremaining: 230ms\n",
      "802:\tlearn: 0.1452378\ttotal: 933ms\tremaining: 229ms\n",
      "803:\tlearn: 0.1452293\ttotal: 934ms\tremaining: 228ms\n",
      "804:\tlearn: 0.1451443\ttotal: 935ms\tremaining: 227ms\n",
      "805:\tlearn: 0.1450671\ttotal: 936ms\tremaining: 225ms\n",
      "806:\tlearn: 0.1450108\ttotal: 937ms\tremaining: 224ms\n",
      "807:\tlearn: 0.1448995\ttotal: 938ms\tremaining: 223ms\n",
      "808:\tlearn: 0.1448708\ttotal: 939ms\tremaining: 222ms\n",
      "809:\tlearn: 0.1447583\ttotal: 940ms\tremaining: 221ms\n",
      "810:\tlearn: 0.1446976\ttotal: 941ms\tremaining: 219ms\n",
      "811:\tlearn: 0.1446671\ttotal: 942ms\tremaining: 218ms\n",
      "812:\tlearn: 0.1446210\ttotal: 943ms\tremaining: 217ms\n",
      "813:\tlearn: 0.1445927\ttotal: 944ms\tremaining: 216ms\n",
      "814:\tlearn: 0.1445025\ttotal: 945ms\tremaining: 215ms\n",
      "815:\tlearn: 0.1443463\ttotal: 946ms\tremaining: 213ms\n",
      "816:\tlearn: 0.1442136\ttotal: 947ms\tremaining: 212ms\n",
      "817:\tlearn: 0.1441814\ttotal: 948ms\tremaining: 211ms\n",
      "818:\tlearn: 0.1441485\ttotal: 949ms\tremaining: 210ms\n",
      "819:\tlearn: 0.1440603\ttotal: 950ms\tremaining: 209ms\n",
      "820:\tlearn: 0.1440560\ttotal: 951ms\tremaining: 207ms\n",
      "821:\tlearn: 0.1440371\ttotal: 952ms\tremaining: 206ms\n",
      "822:\tlearn: 0.1439422\ttotal: 953ms\tremaining: 205ms\n",
      "823:\tlearn: 0.1438072\ttotal: 954ms\tremaining: 204ms\n",
      "824:\tlearn: 0.1437760\ttotal: 955ms\tremaining: 203ms\n",
      "825:\tlearn: 0.1436776\ttotal: 956ms\tremaining: 201ms\n",
      "826:\tlearn: 0.1435811\ttotal: 957ms\tremaining: 200ms\n",
      "827:\tlearn: 0.1435397\ttotal: 958ms\tremaining: 199ms\n",
      "828:\tlearn: 0.1434804\ttotal: 959ms\tremaining: 198ms\n",
      "829:\tlearn: 0.1434486\ttotal: 960ms\tremaining: 197ms\n",
      "830:\tlearn: 0.1433560\ttotal: 961ms\tremaining: 195ms\n",
      "831:\tlearn: 0.1432811\ttotal: 962ms\tremaining: 194ms\n",
      "832:\tlearn: 0.1431614\ttotal: 963ms\tremaining: 193ms\n",
      "833:\tlearn: 0.1430390\ttotal: 964ms\tremaining: 192ms\n",
      "834:\tlearn: 0.1430282\ttotal: 965ms\tremaining: 191ms\n",
      "835:\tlearn: 0.1430192\ttotal: 966ms\tremaining: 190ms\n",
      "836:\tlearn: 0.1428751\ttotal: 967ms\tremaining: 188ms\n",
      "837:\tlearn: 0.1427954\ttotal: 968ms\tremaining: 187ms\n",
      "838:\tlearn: 0.1427272\ttotal: 969ms\tremaining: 186ms\n",
      "839:\tlearn: 0.1426728\ttotal: 970ms\tremaining: 185ms\n",
      "840:\tlearn: 0.1425765\ttotal: 971ms\tremaining: 184ms\n",
      "841:\tlearn: 0.1424619\ttotal: 972ms\tremaining: 182ms\n",
      "842:\tlearn: 0.1423876\ttotal: 973ms\tremaining: 181ms\n",
      "843:\tlearn: 0.1422654\ttotal: 974ms\tremaining: 180ms\n",
      "844:\tlearn: 0.1422390\ttotal: 975ms\tremaining: 179ms\n",
      "845:\tlearn: 0.1421215\ttotal: 977ms\tremaining: 178ms\n",
      "846:\tlearn: 0.1421198\ttotal: 978ms\tremaining: 177ms\n",
      "847:\tlearn: 0.1421174\ttotal: 979ms\tremaining: 175ms\n",
      "848:\tlearn: 0.1420749\ttotal: 980ms\tremaining: 174ms\n",
      "849:\tlearn: 0.1419797\ttotal: 981ms\tremaining: 173ms\n",
      "850:\tlearn: 0.1418975\ttotal: 982ms\tremaining: 172ms\n",
      "851:\tlearn: 0.1418512\ttotal: 983ms\tremaining: 171ms\n",
      "852:\tlearn: 0.1417577\ttotal: 984ms\tremaining: 170ms\n",
      "853:\tlearn: 0.1416963\ttotal: 985ms\tremaining: 168ms\n",
      "854:\tlearn: 0.1416348\ttotal: 986ms\tremaining: 167ms\n",
      "855:\tlearn: 0.1415577\ttotal: 987ms\tremaining: 166ms\n",
      "856:\tlearn: 0.1414847\ttotal: 988ms\tremaining: 165ms\n",
      "857:\tlearn: 0.1414307\ttotal: 989ms\tremaining: 164ms\n",
      "858:\tlearn: 0.1414097\ttotal: 990ms\tremaining: 162ms\n",
      "859:\tlearn: 0.1414001\ttotal: 991ms\tremaining: 161ms\n",
      "860:\tlearn: 0.1413290\ttotal: 992ms\tremaining: 160ms\n",
      "861:\tlearn: 0.1412398\ttotal: 993ms\tremaining: 159ms\n",
      "862:\tlearn: 0.1412379\ttotal: 994ms\tremaining: 158ms\n",
      "863:\tlearn: 0.1411539\ttotal: 995ms\tremaining: 157ms\n",
      "864:\tlearn: 0.1410751\ttotal: 996ms\tremaining: 155ms\n",
      "865:\tlearn: 0.1409877\ttotal: 997ms\tremaining: 154ms\n",
      "866:\tlearn: 0.1409847\ttotal: 998ms\tremaining: 153ms\n",
      "867:\tlearn: 0.1409684\ttotal: 999ms\tremaining: 152ms\n",
      "868:\tlearn: 0.1409312\ttotal: 1s\tremaining: 151ms\n",
      "869:\tlearn: 0.1408099\ttotal: 1s\tremaining: 150ms\n",
      "870:\tlearn: 0.1407639\ttotal: 1s\tremaining: 148ms\n",
      "871:\tlearn: 0.1407282\ttotal: 1s\tremaining: 147ms\n",
      "872:\tlearn: 0.1407204\ttotal: 1s\tremaining: 146ms\n"
     ]
    },
    {
     "name": "stdout",
     "output_type": "stream",
     "text": [
      "873:\tlearn: 0.1406361\ttotal: 1s\tremaining: 145ms\n",
      "874:\tlearn: 0.1406243\ttotal: 1.01s\tremaining: 144ms\n",
      "875:\tlearn: 0.1405283\ttotal: 1.01s\tremaining: 143ms\n",
      "876:\tlearn: 0.1405225\ttotal: 1.01s\tremaining: 141ms\n",
      "877:\tlearn: 0.1404681\ttotal: 1.01s\tremaining: 140ms\n",
      "878:\tlearn: 0.1404095\ttotal: 1.01s\tremaining: 139ms\n",
      "879:\tlearn: 0.1402864\ttotal: 1.01s\tremaining: 138ms\n",
      "880:\tlearn: 0.1402384\ttotal: 1.01s\tremaining: 137ms\n",
      "881:\tlearn: 0.1401581\ttotal: 1.01s\tremaining: 136ms\n",
      "882:\tlearn: 0.1400182\ttotal: 1.01s\tremaining: 134ms\n",
      "883:\tlearn: 0.1398770\ttotal: 1.01s\tremaining: 133ms\n",
      "884:\tlearn: 0.1397676\ttotal: 1.02s\tremaining: 132ms\n",
      "885:\tlearn: 0.1396582\ttotal: 1.02s\tremaining: 131ms\n",
      "886:\tlearn: 0.1396391\ttotal: 1.02s\tremaining: 130ms\n",
      "887:\tlearn: 0.1396274\ttotal: 1.02s\tremaining: 129ms\n",
      "888:\tlearn: 0.1395958\ttotal: 1.02s\tremaining: 128ms\n",
      "889:\tlearn: 0.1395545\ttotal: 1.02s\tremaining: 127ms\n",
      "890:\tlearn: 0.1395117\ttotal: 1.03s\tremaining: 126ms\n",
      "891:\tlearn: 0.1394649\ttotal: 1.03s\tremaining: 124ms\n",
      "892:\tlearn: 0.1394161\ttotal: 1.03s\tremaining: 123ms\n",
      "893:\tlearn: 0.1394077\ttotal: 1.03s\tremaining: 122ms\n",
      "894:\tlearn: 0.1393351\ttotal: 1.03s\tremaining: 121ms\n",
      "895:\tlearn: 0.1392490\ttotal: 1.03s\tremaining: 120ms\n",
      "896:\tlearn: 0.1391706\ttotal: 1.03s\tremaining: 119ms\n",
      "897:\tlearn: 0.1391305\ttotal: 1.03s\tremaining: 117ms\n",
      "898:\tlearn: 0.1391272\ttotal: 1.03s\tremaining: 116ms\n",
      "899:\tlearn: 0.1390402\ttotal: 1.03s\tremaining: 115ms\n",
      "900:\tlearn: 0.1389661\ttotal: 1.04s\tremaining: 114ms\n",
      "901:\tlearn: 0.1389407\ttotal: 1.04s\tremaining: 113ms\n",
      "902:\tlearn: 0.1388484\ttotal: 1.04s\tremaining: 112ms\n",
      "903:\tlearn: 0.1388467\ttotal: 1.04s\tremaining: 110ms\n",
      "904:\tlearn: 0.1387840\ttotal: 1.04s\tremaining: 109ms\n",
      "905:\tlearn: 0.1387319\ttotal: 1.04s\tremaining: 108ms\n",
      "906:\tlearn: 0.1387046\ttotal: 1.04s\tremaining: 107ms\n",
      "907:\tlearn: 0.1385847\ttotal: 1.04s\tremaining: 106ms\n",
      "908:\tlearn: 0.1385330\ttotal: 1.04s\tremaining: 105ms\n",
      "909:\tlearn: 0.1384367\ttotal: 1.04s\tremaining: 103ms\n",
      "910:\tlearn: 0.1384262\ttotal: 1.05s\tremaining: 102ms\n",
      "911:\tlearn: 0.1383494\ttotal: 1.05s\tremaining: 101ms\n",
      "912:\tlearn: 0.1382981\ttotal: 1.05s\tremaining: 99.9ms\n",
      "913:\tlearn: 0.1381815\ttotal: 1.05s\tremaining: 98.7ms\n",
      "914:\tlearn: 0.1380990\ttotal: 1.05s\tremaining: 97.6ms\n",
      "915:\tlearn: 0.1380967\ttotal: 1.05s\tremaining: 96.4ms\n",
      "916:\tlearn: 0.1380416\ttotal: 1.05s\tremaining: 95.2ms\n",
      "917:\tlearn: 0.1379858\ttotal: 1.05s\tremaining: 94.1ms\n",
      "918:\tlearn: 0.1379069\ttotal: 1.05s\tremaining: 93ms\n",
      "919:\tlearn: 0.1378437\ttotal: 1.06s\tremaining: 91.8ms\n",
      "920:\tlearn: 0.1377985\ttotal: 1.06s\tremaining: 90.7ms\n",
      "921:\tlearn: 0.1377456\ttotal: 1.06s\tremaining: 89.6ms\n",
      "922:\tlearn: 0.1377078\ttotal: 1.06s\tremaining: 88.4ms\n",
      "923:\tlearn: 0.1377051\ttotal: 1.06s\tremaining: 87.3ms\n",
      "924:\tlearn: 0.1376142\ttotal: 1.06s\tremaining: 86.1ms\n",
      "925:\tlearn: 0.1375277\ttotal: 1.06s\tremaining: 85ms\n",
      "926:\tlearn: 0.1374446\ttotal: 1.06s\tremaining: 83.8ms\n",
      "927:\tlearn: 0.1374040\ttotal: 1.06s\tremaining: 82.7ms\n",
      "928:\tlearn: 0.1373695\ttotal: 1.07s\tremaining: 81.5ms\n",
      "929:\tlearn: 0.1373237\ttotal: 1.07s\tremaining: 80.3ms\n",
      "930:\tlearn: 0.1373221\ttotal: 1.07s\tremaining: 79.2ms\n",
      "931:\tlearn: 0.1372338\ttotal: 1.07s\tremaining: 78ms\n",
      "932:\tlearn: 0.1371545\ttotal: 1.07s\tremaining: 76.9ms\n",
      "933:\tlearn: 0.1370502\ttotal: 1.07s\tremaining: 75.7ms\n",
      "934:\tlearn: 0.1370142\ttotal: 1.07s\tremaining: 74.6ms\n",
      "935:\tlearn: 0.1370051\ttotal: 1.07s\tremaining: 73.4ms\n",
      "936:\tlearn: 0.1369966\ttotal: 1.07s\tremaining: 72.3ms\n",
      "937:\tlearn: 0.1369078\ttotal: 1.07s\tremaining: 71.1ms\n",
      "938:\tlearn: 0.1368287\ttotal: 1.08s\tremaining: 70ms\n",
      "939:\tlearn: 0.1367484\ttotal: 1.08s\tremaining: 68.8ms\n",
      "940:\tlearn: 0.1367459\ttotal: 1.08s\tremaining: 67.6ms\n",
      "941:\tlearn: 0.1366911\ttotal: 1.08s\tremaining: 66.5ms\n",
      "942:\tlearn: 0.1366649\ttotal: 1.08s\tremaining: 65.3ms\n",
      "943:\tlearn: 0.1366056\ttotal: 1.08s\tremaining: 64.2ms\n",
      "944:\tlearn: 0.1365404\ttotal: 1.08s\tremaining: 63ms\n",
      "945:\tlearn: 0.1364309\ttotal: 1.08s\tremaining: 61.9ms\n",
      "946:\tlearn: 0.1364062\ttotal: 1.08s\tremaining: 60.7ms\n",
      "947:\tlearn: 0.1363771\ttotal: 1.08s\tremaining: 59.5ms\n",
      "948:\tlearn: 0.1363506\ttotal: 1.09s\tremaining: 58.4ms\n",
      "949:\tlearn: 0.1362752\ttotal: 1.09s\tremaining: 57.2ms\n",
      "950:\tlearn: 0.1362696\ttotal: 1.09s\tremaining: 56.1ms\n",
      "951:\tlearn: 0.1362355\ttotal: 1.09s\tremaining: 54.9ms\n",
      "952:\tlearn: 0.1361500\ttotal: 1.09s\tremaining: 53.8ms\n",
      "953:\tlearn: 0.1360583\ttotal: 1.09s\tremaining: 52.6ms\n",
      "954:\tlearn: 0.1359754\ttotal: 1.09s\tremaining: 51.5ms\n",
      "955:\tlearn: 0.1359144\ttotal: 1.09s\tremaining: 50.3ms\n",
      "956:\tlearn: 0.1358211\ttotal: 1.09s\tremaining: 49.2ms\n",
      "957:\tlearn: 0.1357994\ttotal: 1.09s\tremaining: 48ms\n",
      "958:\tlearn: 0.1357956\ttotal: 1.1s\tremaining: 46.9ms\n",
      "959:\tlearn: 0.1357784\ttotal: 1.1s\tremaining: 45.7ms\n",
      "960:\tlearn: 0.1357361\ttotal: 1.1s\tremaining: 44.6ms\n",
      "961:\tlearn: 0.1357082\ttotal: 1.1s\tremaining: 43.4ms\n",
      "962:\tlearn: 0.1356179\ttotal: 1.1s\tremaining: 42.3ms\n",
      "963:\tlearn: 0.1356089\ttotal: 1.1s\tremaining: 41.1ms\n",
      "964:\tlearn: 0.1355336\ttotal: 1.1s\tremaining: 40ms\n",
      "965:\tlearn: 0.1354918\ttotal: 1.1s\tremaining: 38.8ms\n",
      "966:\tlearn: 0.1354870\ttotal: 1.1s\tremaining: 37.7ms\n",
      "967:\tlearn: 0.1354845\ttotal: 1.1s\tremaining: 36.6ms\n",
      "968:\tlearn: 0.1354811\ttotal: 1.11s\tremaining: 35.4ms\n",
      "969:\tlearn: 0.1354041\ttotal: 1.11s\tremaining: 34.3ms\n",
      "970:\tlearn: 0.1353416\ttotal: 1.11s\tremaining: 33.1ms\n",
      "971:\tlearn: 0.1353166\ttotal: 1.11s\tremaining: 32ms\n",
      "972:\tlearn: 0.1352708\ttotal: 1.11s\tremaining: 30.8ms\n",
      "973:\tlearn: 0.1352006\ttotal: 1.11s\tremaining: 29.7ms\n",
      "974:\tlearn: 0.1351261\ttotal: 1.11s\tremaining: 28.5ms\n",
      "975:\tlearn: 0.1350327\ttotal: 1.11s\tremaining: 27.4ms\n",
      "976:\tlearn: 0.1349790\ttotal: 1.11s\tremaining: 26.2ms\n",
      "977:\tlearn: 0.1349212\ttotal: 1.11s\tremaining: 25.1ms\n",
      "978:\tlearn: 0.1348496\ttotal: 1.12s\tremaining: 24ms\n",
      "979:\tlearn: 0.1347329\ttotal: 1.12s\tremaining: 22.8ms\n",
      "980:\tlearn: 0.1346102\ttotal: 1.12s\tremaining: 21.7ms\n",
      "981:\tlearn: 0.1345496\ttotal: 1.12s\tremaining: 20.5ms\n",
      "982:\tlearn: 0.1344981\ttotal: 1.12s\tremaining: 19.4ms\n",
      "983:\tlearn: 0.1344879\ttotal: 1.12s\tremaining: 18.2ms\n",
      "984:\tlearn: 0.1344355\ttotal: 1.12s\tremaining: 17.1ms\n",
      "985:\tlearn: 0.1343645\ttotal: 1.12s\tremaining: 16ms\n",
      "986:\tlearn: 0.1343371\ttotal: 1.12s\tremaining: 14.8ms\n",
      "987:\tlearn: 0.1342538\ttotal: 1.13s\tremaining: 13.7ms\n",
      "988:\tlearn: 0.1342215\ttotal: 1.13s\tremaining: 12.5ms\n",
      "989:\tlearn: 0.1342128\ttotal: 1.13s\tremaining: 11.4ms\n",
      "990:\tlearn: 0.1341655\ttotal: 1.13s\tremaining: 10.3ms\n",
      "991:\tlearn: 0.1340952\ttotal: 1.13s\tremaining: 9.11ms\n",
      "992:\tlearn: 0.1340919\ttotal: 1.13s\tremaining: 7.97ms\n",
      "993:\tlearn: 0.1340306\ttotal: 1.13s\tremaining: 6.83ms\n",
      "994:\tlearn: 0.1339494\ttotal: 1.13s\tremaining: 5.7ms\n",
      "995:\tlearn: 0.1339005\ttotal: 1.14s\tremaining: 4.56ms\n",
      "996:\tlearn: 0.1338446\ttotal: 1.14s\tremaining: 3.42ms\n",
      "997:\tlearn: 0.1338011\ttotal: 1.14s\tremaining: 2.28ms\n",
      "998:\tlearn: 0.1337134\ttotal: 1.14s\tremaining: 1.14ms\n",
      "999:\tlearn: 0.1337093\ttotal: 1.14s\tremaining: 0us\n",
      "R2 score 0.8972945659129158\n",
      "MAE 0.15125577483995128\n"
     ]
    }
   ],
   "source": [
    "from catboost import CatBoostRegressor \n",
    "\n",
    "step1 = ColumnTransformer(transformers=[\n",
    "    ('col_tnf',OneHotEncoder(sparse=False,drop='first'),[0,1,7,10,11])\n",
    "],remainder='passthrough')\n",
    "\n",
    "step2 = CatBoostRegressor(learning_rate=0.03)\n",
    "\n",
    "pipe = Pipeline([\n",
    "    ('step1',step1),\n",
    "    ('step2',step2)\n",
    "])\n",
    "\n",
    "pipe.fit(X_train,y_train)\n",
    "\n",
    "y_pred = pipe.predict(X_test)\n",
    "\n",
    "print('R2 score',r2_score(y_test,y_pred))\n",
    "print('MAE',mean_absolute_error(y_test,y_pred))"
   ]
  },
  {
   "cell_type": "markdown",
   "id": "42dcacf9",
   "metadata": {},
   "source": [
    "# Exporting Model"
   ]
  },
  {
   "cell_type": "code",
   "execution_count": 96,
   "id": "2ece0ff4",
   "metadata": {},
   "outputs": [],
   "source": [
    "import pickle\n",
    "\n",
    "pickle.dump(df,open('cat.pkl','wb'))\n",
    "pickle.dump(pipe,open('pipe.pkl','wb'))"
   ]
  },
  {
   "cell_type": "code",
   "execution_count": 2,
   "id": "ca693dba",
   "metadata": {},
   "outputs": [
    {
     "name": "stderr",
     "output_type": "stream",
     "text": [
      "2022-09-09 20:18:48.304 INFO    numexpr.utils: NumExpr defaulting to 8 threads.\n",
      "2022-09-09 20:18:51.909 \n",
      "  \u001b[33m\u001b[1mWarning:\u001b[0m to view this Streamlit app on a browser, run it with the following\n",
      "  command:\n",
      "\n",
      "    streamlit run app.py [ARGUMENTS]\n"
     ]
    }
   ],
   "source": [
    "!python app.py"
   ]
  },
  {
   "cell_type": "code",
   "execution_count": null,
   "id": "02187c2f",
   "metadata": {},
   "outputs": [],
   "source": [
    "!streamlit run app.py"
   ]
  },
  {
   "cell_type": "code",
   "execution_count": null,
   "id": "e0b20452",
   "metadata": {},
   "outputs": [],
   "source": []
  }
 ],
 "metadata": {
  "kernelspec": {
   "display_name": "Python 3 (ipykernel)",
   "language": "python",
   "name": "python3"
  },
  "language_info": {
   "codemirror_mode": {
    "name": "ipython",
    "version": 3
   },
   "file_extension": ".py",
   "mimetype": "text/x-python",
   "name": "python",
   "nbconvert_exporter": "python",
   "pygments_lexer": "ipython3",
   "version": "3.9.7"
  }
 },
 "nbformat": 4,
 "nbformat_minor": 5
}
